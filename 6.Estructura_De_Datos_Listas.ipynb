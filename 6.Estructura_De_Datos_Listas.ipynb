{
 "cells": [
  {
   "cell_type": "markdown",
   "metadata": {},
   "source": [
    "# Listas\n",
    "\n",
    "La primera estructura de datos que veremos son las **listas**. Éstas son un conjunto de elementos ordenados separados por comas y escritos entre claudators, `[]`. \n",
    "\n",
    "Las listas son:\n",
    "- hetereogéneas: los elementos pueden ser de distinto tipo en una misma lista\n",
    "- mutables: los elementos pueden ser modificados\n",
    "\n",
    "Un ejemplo de lista sería"
   ]
  },
  {
   "cell_type": "code",
   "execution_count": 1,
   "metadata": {
    "scrolled": true
   },
   "outputs": [
    {
     "name": "stdout",
     "output_type": "stream",
     "text": [
      "['Juan', 31, 175.5, True]\n",
      "<class 'list'>\n"
     ]
    }
   ],
   "source": [
    "l1 = [\"Juan\", 31, 175.5, True]\n",
    "print(l1)\n",
    "print(type(l1))"
   ]
  },
  {
   "cell_type": "markdown",
   "metadata": {},
   "source": [
    "Acceder a sus elementos, es muy fácil."
   ]
  },
  {
   "cell_type": "code",
   "execution_count": 7,
   "metadata": {},
   "outputs": [
    {
     "data": {
      "text/plain": [
       "31"
      ]
     },
     "execution_count": 7,
     "metadata": {},
     "output_type": "execute_result"
    }
   ],
   "source": [
    "l1[1]"
   ]
  },
  {
   "cell_type": "code",
   "execution_count": 3,
   "metadata": {},
   "outputs": [
    {
     "data": {
      "text/plain": [
       "[175.5, True]"
      ]
     },
     "execution_count": 3,
     "metadata": {},
     "output_type": "execute_result"
    }
   ],
   "source": [
    "l1[2:4]"
   ]
  },
  {
   "cell_type": "code",
   "execution_count": 4,
   "metadata": {},
   "outputs": [
    {
     "data": {
      "text/plain": [
       "['Juan', 31, 175.5]"
      ]
     },
     "execution_count": 4,
     "metadata": {},
     "output_type": "execute_result"
    }
   ],
   "source": [
    "l1[:3]"
   ]
  },
  {
   "cell_type": "code",
   "execution_count": 6,
   "metadata": {},
   "outputs": [
    {
     "data": {
      "text/plain": [
       "[175.5, True]"
      ]
     },
     "execution_count": 6,
     "metadata": {},
     "output_type": "execute_result"
    }
   ],
   "source": [
    "l1[2:]"
   ]
  },
  {
   "cell_type": "code",
   "execution_count": 8,
   "metadata": {},
   "outputs": [
    {
     "data": {
      "text/plain": [
       "4"
      ]
     },
     "execution_count": 8,
     "metadata": {},
     "output_type": "execute_result"
    }
   ],
   "source": [
    "# Longitu de la lista\n",
    "len(l1)"
   ]
  },
  {
   "cell_type": "markdown",
   "metadata": {},
   "source": [
    "Podemos modificar elementos de una lista."
   ]
  },
  {
   "cell_type": "code",
   "execution_count": 10,
   "metadata": {},
   "outputs": [
    {
     "data": {
      "text/plain": [
       "['Ana', 'Luisa', 'Jorge', 'Renzo']"
      ]
     },
     "execution_count": 10,
     "metadata": {},
     "output_type": "execute_result"
    }
   ],
   "source": [
    "nombres = [\"Ana\", \"Luisa\", \"Jorge\", \"Renzo\"]\n",
    "nombres"
   ]
  },
  {
   "cell_type": "code",
   "execution_count": 11,
   "metadata": {},
   "outputs": [
    {
     "data": {
      "text/plain": [
       "['Ana', 'Camila', 'Jorge', 'Renzo']"
      ]
     },
     "execution_count": 11,
     "metadata": {},
     "output_type": "execute_result"
    }
   ],
   "source": [
    "nombres[1] = \"Camila\"\n",
    "nombres"
   ]
  },
  {
   "cell_type": "markdown",
   "metadata": {},
   "source": [
    "**El método `append`**"
   ]
  },
  {
   "cell_type": "code",
   "execution_count": 12,
   "metadata": {},
   "outputs": [
    {
     "data": {
      "text/plain": [
       "['Ana', 'Camila', 'Jorge', 'Renzo', ['Carol', 'Karina', 'Andrés']]"
      ]
     },
     "execution_count": 12,
     "metadata": {},
     "output_type": "execute_result"
    }
   ],
   "source": [
    "nombres2 = [\"Carol\", \"Karina\", \"Andrés\"]\n",
    "nombres.append(nombres2)\n",
    "nombres"
   ]
  },
  {
   "cell_type": "code",
   "execution_count": 13,
   "metadata": {},
   "outputs": [
    {
     "data": {
      "text/plain": [
       "['Ana', 'Camila', 'Jorge', 'Renzo', ['Carol', 'Karina', 'Andrés'], 'Mario']"
      ]
     },
     "execution_count": 13,
     "metadata": {},
     "output_type": "execute_result"
    }
   ],
   "source": [
    "nombres.append(\"Mario\")\n",
    "nombres"
   ]
  },
  {
   "cell_type": "markdown",
   "metadata": {},
   "source": [
    "**Observación.** Los elementos añadidos con el método `.append()`, se incluyen al final.\n",
    "\n",
    "Si quisiéramos añadir un nuevo elemento a una lista, pero no lo quisiéramos al final, sino en una posición específica, entonces utilizaremos el método `.insert()` al que primero le indicamos el índice donde queremos posicionar el nuevo elemento y, en segundo lugar, indicamos dicho nuevo elemento."
   ]
  },
  {
   "cell_type": "code",
   "execution_count": 14,
   "metadata": {},
   "outputs": [
    {
     "data": {
      "text/plain": [
       "['Ana', 'Camila', 'Jorge', 'Renzo', ['Carol', 'Karina', 'Andrés'], 'Mario']"
      ]
     },
     "execution_count": 14,
     "metadata": {},
     "output_type": "execute_result"
    }
   ],
   "source": [
    "# Queremos añadir el nombre \"Rocio\" en la 2da posicion\n",
    "nombres"
   ]
  },
  {
   "cell_type": "code",
   "execution_count": 15,
   "metadata": {},
   "outputs": [
    {
     "data": {
      "text/plain": [
       "['Ana',\n",
       " 'Rocío',\n",
       " 'Camila',\n",
       " 'Jorge',\n",
       " 'Renzo',\n",
       " ['Carol', 'Karina', 'Andrés'],\n",
       " 'Mario']"
      ]
     },
     "execution_count": 15,
     "metadata": {},
     "output_type": "execute_result"
    }
   ],
   "source": [
    "nombres.insert(1,\"Rocío\")\n",
    "nombres"
   ]
  },
  {
   "cell_type": "code",
   "execution_count": 17,
   "metadata": {},
   "outputs": [
    {
     "name": "stdout",
     "output_type": "stream",
     "text": [
      "['Mario', 'Cristian', 'Juan']\n",
      "['Mario', 'Andrés', 'Cristian', 'Juan']\n",
      "['Mario', 'Andrés', 'Cristian', 'Miguel', 'Juan']\n"
     ]
    }
   ],
   "source": [
    "# Practicando\n",
    "names = [\"Mario\", \"Cristian\", \"Juan\"]\n",
    "print(names)\n",
    "\n",
    "names.insert(1, \"Andrés\")\n",
    "print(names)\n",
    "names.insert(3, \"Miguel\")\n",
    "print(names)"
   ]
  },
  {
   "cell_type": "markdown",
   "metadata": {},
   "source": [
    "**Ejercicio**\n",
    "\n",
    "- Vamos a pedirle al usuario la longitud de una lista y haremos que introduzca por teclado tantos números enteros como haya indicado, que se guardarán en una lista. Al acabar, imprimiremos la lista."
   ]
  },
  {
   "cell_type": "code",
   "execution_count": 20,
   "metadata": {},
   "outputs": [
    {
     "name": "stdout",
     "output_type": "stream",
     "text": [
      "Número de elementos de la lista : 3\n",
      "Ingrese elemento : 12\n",
      "Ingrese elemento : 15\n",
      "Ingrese elemento : 9\n"
     ]
    },
    {
     "data": {
      "text/plain": [
       "[12, 15, 9]"
      ]
     },
     "execution_count": 20,
     "metadata": {},
     "output_type": "execute_result"
    }
   ],
   "source": [
    "count = int(input(\"Número de elementos de la lista : \"))\n",
    "\n",
    "lista = []\n",
    "for i in range(0,count):\n",
    "    lista.append(int(input(\"Ingrese elemento : \")))\n",
    "\n",
    "lista    "
   ]
  },
  {
   "cell_type": "markdown",
   "metadata": {},
   "source": [
    "## Bucles en listas"
   ]
  },
  {
   "cell_type": "code",
   "execution_count": 1,
   "metadata": {},
   "outputs": [],
   "source": [
    "nombres = [\"Ana\",\"Luis\",\"Jorge\",\"Leonel\",\"Gabriela\"]"
   ]
  },
  {
   "cell_type": "code",
   "execution_count": 4,
   "metadata": {},
   "outputs": [
    {
     "name": "stdout",
     "output_type": "stream",
     "text": [
      "Ana\n",
      "Luis\n",
      "Jorge\n",
      "Leonel\n",
      "Gabriela\n"
     ]
    }
   ],
   "source": [
    "# i como índice o posición\n",
    "for i in range(0,len(nombres)):\n",
    "    print(nombres[i])"
   ]
  },
  {
   "cell_type": "code",
   "execution_count": 5,
   "metadata": {},
   "outputs": [
    {
     "name": "stdout",
     "output_type": "stream",
     "text": [
      "Ana\n",
      "Luis\n",
      "Jorge\n",
      "Leonel\n",
      "Gabriela\n"
     ]
    }
   ],
   "source": [
    "# j de item, j de elemento de una colección\n",
    "for j in nombres:\n",
    "    print(j)"
   ]
  },
  {
   "cell_type": "markdown",
   "metadata": {},
   "source": [
    "## Concatenación de listas\n",
    "Dadas dos o más listas, podemos concatenarlas haciendo uso de la función `+`"
   ]
  },
  {
   "cell_type": "code",
   "execution_count": 6,
   "metadata": {},
   "outputs": [
    {
     "name": "stdout",
     "output_type": "stream",
     "text": [
      "[True, 21, 'Marta', 22.5, False, 22, 'Rafa']\n"
     ]
    }
   ],
   "source": [
    "l1 = [True, 21, \"Marta\"]\n",
    "l2 = [22.5, False, 22, \"Rafa\"]\n",
    "print(l1 + l2)"
   ]
  },
  {
   "cell_type": "markdown",
   "metadata": {},
   "source": [
    "## Repetición de listas\n",
    "\n",
    "Podemos repetir una misma lista tantas veces como queramos con la función `*`"
   ]
  },
  {
   "cell_type": "code",
   "execution_count": 7,
   "metadata": {},
   "outputs": [
    {
     "name": "stdout",
     "output_type": "stream",
     "text": [
      "['A', 'B', 'C', 'A', 'B', 'C', 'A', 'B', 'C', 'A', 'B', 'C', 'A', 'B', 'C']\n"
     ]
    }
   ],
   "source": [
    "abc = [\"A\", \"B\", \"C\"]\n",
    "print(abc * 5)"
   ]
  },
  {
   "cell_type": "code",
   "execution_count": 11,
   "metadata": {},
   "outputs": [
    {
     "data": {
      "text/plain": [
       "['Python',\n",
       " 'Python',\n",
       " 'Python',\n",
       " 'Python',\n",
       " 'Python',\n",
       " 'Python',\n",
       " 'Python',\n",
       " 'Python',\n",
       " 'Python',\n",
       " 'Python']"
      ]
     },
     "execution_count": 11,
     "metadata": {},
     "output_type": "execute_result"
    }
   ],
   "source": [
    "[\"Python\"]*10"
   ]
  },
  {
   "cell_type": "markdown",
   "metadata": {},
   "source": [
    "## Lista vacía"
   ]
  },
  {
   "cell_type": "code",
   "execution_count": 14,
   "metadata": {},
   "outputs": [
    {
     "data": {
      "text/plain": [
       "0"
      ]
     },
     "execution_count": 14,
     "metadata": {},
     "output_type": "execute_result"
    }
   ],
   "source": [
    "empty_list = []\n",
    "len(empty_list)"
   ]
  },
  {
   "cell_type": "markdown",
   "metadata": {},
   "source": [
    "## Listas anidadas\n",
    "\n",
    "Las listas anidadas son listas dentro de listas. Es decir, las listas no solo pueden contener números, strings o datos booleanos, sino que también pueden contener otras listas.\n",
    "\n"
   ]
  },
  {
   "cell_type": "code",
   "execution_count": 15,
   "metadata": {},
   "outputs": [
    {
     "name": "stdout",
     "output_type": "stream",
     "text": [
      "[['María', 'Santos', 'Fernández'], ['Juan', [1, 2, 3, 4, 5], 32], 2]\n"
     ]
    }
   ],
   "source": [
    "l = [[\"María\", \"Santos\", \"Fernández\"],\n",
    "     [\"Juan\", [1, 2, 3, 4, 5], 32], \n",
    "     2]\n",
    "print(l)"
   ]
  },
  {
   "cell_type": "markdown",
   "metadata": {},
   "source": [
    "Para acceder a un elemento, necesitamos indicar su índice. Si un elemento está en una lista dentro de una lista dentro de una lista, en primer lugar indicamos el índice de la lista exterior dentro de `[]`; después, el índice de la siguiente lista más exterior también entre `[]`; y por último, el índice de la lista más interna, claramente también entre `[]`.\n",
    "\n",
    "Accedamos al string `Fernández`y luego al número `5`."
   ]
  },
  {
   "cell_type": "code",
   "execution_count": 16,
   "metadata": {},
   "outputs": [
    {
     "name": "stdout",
     "output_type": "stream",
     "text": [
      "Fernández\n",
      "5\n"
     ]
    }
   ],
   "source": [
    "print(l[0][2]) # Fernández\n",
    "print(l[1][1][4]) # 5"
   ]
  },
  {
   "cell_type": "markdown",
   "metadata": {},
   "source": [
    "## Más métodos de listas\n",
    "\n",
    "El método `.count()` recibe un elemento como argumento y cuenta la cantidad de veces que aparece en la lista"
   ]
  },
  {
   "cell_type": "code",
   "execution_count": 17,
   "metadata": {},
   "outputs": [
    {
     "data": {
      "text/plain": [
       "3"
      ]
     },
     "execution_count": 17,
     "metadata": {},
     "output_type": "execute_result"
    }
   ],
   "source": [
    "lista1 = [2,3,0,1,2,0,6,0]\n",
    "lista1.count(0)"
   ]
  },
  {
   "cell_type": "code",
   "execution_count": 24,
   "metadata": {},
   "outputs": [
    {
     "name": "stdout",
     "output_type": "stream",
     "text": [
      "el numero 2 aparece 1 vez\n",
      "el numero 0 aparece 3 veces\n",
      "el numero 1 aparece 2 veces\n",
      "el numero 9 aparece 1 vez\n",
      "el numero 6 aparece 1 vez\n"
     ]
    }
   ],
   "source": [
    "numeros = [2,0,1,1,9,0,6,0]\n",
    "counted = []\n",
    "for element in numeros:\n",
    "    if element not in counted:\n",
    "        counted.append(element)\n",
    "        if numeros.count(element) == 1:\n",
    "            print(\"el numero {} aparece {} vez\".format(element,numeros.count(element)))\n",
    "        else:\n",
    "            print(\"el numero {} aparece {} veces\".format(element,numeros.count(element)))\n"
   ]
  },
  {
   "cell_type": "markdown",
   "metadata": {},
   "source": [
    "El método `.extend()` extiende la lista agregando al final el iterable indicado por parámetro."
   ]
  },
  {
   "cell_type": "code",
   "execution_count": 25,
   "metadata": {},
   "outputs": [
    {
     "name": "stdout",
     "output_type": "stream",
     "text": [
      "[1, 2, 3, 4, 5]\n",
      "[1, 2, 3, 4, 5, 6]\n"
     ]
    }
   ],
   "source": [
    "numbers = [1, 2, 3, 4, 5]\n",
    "print(numbers)\n",
    "numbers.extend([6])\n",
    "print(numbers)"
   ]
  },
  {
   "cell_type": "code",
   "execution_count": 26,
   "metadata": {},
   "outputs": [
    {
     "name": "stdout",
     "output_type": "stream",
     "text": [
      "[1, 2, 3, 4, 5, 6, 7, 8]\n",
      "[1, 2, 3, 4, 5, 6, 7, 8, 9, 10, 11, 12, 13, 14, 15]\n"
     ]
    }
   ],
   "source": [
    "numbers.extend([7, 8])\n",
    "print(numbers)\n",
    "numbers.extend(range(9, 16))\n",
    "print(numbers)"
   ]
  },
  {
   "cell_type": "markdown",
   "metadata": {},
   "source": [
    "**Observación.** Un iterable es un objeto de `Python` capaz de devolver sus elementos uno por uno, permitiendo ser iterado en un bucle for. De momento solo conocemos las listas y el resultado de `range()`, pero en secciones futuras veremos los diccionarios, las tuplas y los conjuntos, que también son objetos iterables.\n",
    "\n",
    "El método `index()` recibe un elemento como argumento y devuelve el índice de la primera aparición en la lista."
   ]
  },
  {
   "cell_type": "code",
   "execution_count": 36,
   "metadata": {},
   "outputs": [
    {
     "name": "stdout",
     "output_type": "stream",
     "text": [
      "3\n",
      "7\n"
     ]
    }
   ],
   "source": [
    "numbers = [0, 1, 1, 2, 2, 2, 3, 4, 3, 4]\n",
    "print(numbers.index(2))\n",
    "print(numbers.index(4)) "
   ]
  },
  {
   "cell_type": "code",
   "execution_count": 37,
   "metadata": {},
   "outputs": [
    {
     "data": {
      "text/plain": [
       "2"
      ]
     },
     "execution_count": 37,
     "metadata": {},
     "output_type": "execute_result"
    }
   ],
   "source": [
    "apellidos = [\"Perez\",\"Ruiz\",\"Ramires\",\"Tapia\",\"Catillo\"]\n",
    "apellidos.index(\"Ramires\")"
   ]
  },
  {
   "cell_type": "markdown",
   "metadata": {},
   "source": [
    "El método `.pop()` devuelve el último elemento de la lista y lo borra de la misma."
   ]
  },
  {
   "cell_type": "code",
   "execution_count": 39,
   "metadata": {},
   "outputs": [
    {
     "name": "stdout",
     "output_type": "stream",
     "text": [
      "[0, 1, 1, 2, 2, 2, 3, 4, 3, 4]\n",
      "4\n",
      "[0, 1, 1, 2, 2, 2, 3, 4, 3]\n"
     ]
    }
   ],
   "source": [
    "print(numbers)\n",
    "print(numbers.pop())\n",
    "print(numbers)"
   ]
  },
  {
   "cell_type": "markdown",
   "metadata": {},
   "source": [
    "El método `.remove()` recibe como argumento un elemento y borra su primera aparición de la lista."
   ]
  },
  {
   "cell_type": "code",
   "execution_count": 40,
   "metadata": {},
   "outputs": [
    {
     "name": "stdout",
     "output_type": "stream",
     "text": [
      "[0, 1, 2, 4, 3, 4, 5, 6, 7]\n",
      "[0, 1, 2, 3, 4, 5, 6, 7]\n"
     ]
    }
   ],
   "source": [
    "numbers = [0, 1, 2, 4, 3, 4, 5, 6, 7]\n",
    "print(numbers)\n",
    "numbers.remove(4)\n",
    "print(numbers)"
   ]
  },
  {
   "cell_type": "markdown",
   "metadata": {},
   "source": [
    "El método `.reverse()` devuelve la lista en orden inverso."
   ]
  },
  {
   "cell_type": "code",
   "execution_count": 44,
   "metadata": {},
   "outputs": [
    {
     "name": "stdout",
     "output_type": "stream",
     "text": [
      "[-3, 3, -2, 2, -1, 1]\n"
     ]
    }
   ],
   "source": [
    "numbers = [1, -1, 2, -2, 3, -3]\n",
    "numbers.reverse()\n",
    "print(numbers)"
   ]
  },
  {
   "cell_type": "markdown",
   "metadata": {},
   "source": [
    "El método `.sort()` devuelve la lista en orden. "
   ]
  },
  {
   "cell_type": "code",
   "execution_count": 46,
   "metadata": {},
   "outputs": [
    {
     "data": {
      "text/plain": [
       "[1, 2, 3, 4, 5]"
      ]
     },
     "execution_count": 46,
     "metadata": {},
     "output_type": "execute_result"
    }
   ],
   "source": [
    "numbers = [1, 3, 5, 2, 4]\n",
    "numbers.sort()\n",
    "numbers"
   ]
  },
  {
   "cell_type": "markdown",
   "metadata": {},
   "source": [
    "Si quisiésemos ordenar los elementos en orden decreciente, podríamos hacer uso del parámetro `reverse` del método `.sort()`:"
   ]
  },
  {
   "cell_type": "code",
   "execution_count": 47,
   "metadata": {},
   "outputs": [
    {
     "name": "stdout",
     "output_type": "stream",
     "text": [
      "[5, 4, 3, 2, 1]\n"
     ]
    }
   ],
   "source": [
    "numbers = [1, 3, 5, 2, 4]\n",
    "numbers.sort(reverse = True)\n",
    "print(numbers)"
   ]
  },
  {
   "cell_type": "markdown",
   "metadata": {},
   "source": [
    "**Ejercicio**\n",
    "\n",
    "- Dada una lista de nombres, le pediremos al usuario qué elemento quiere eliminar y lo eliminaremos de la lista."
   ]
  },
  {
   "cell_type": "code",
   "execution_count": 57,
   "metadata": {},
   "outputs": [
    {
     "name": "stdout",
     "output_type": "stream",
     "text": [
      "['Juan', 'Romeo', 'Julieta', 'Marina', 'Luz', 'Jose']\n",
      "Elemntos de la lista : \n",
      "El elemento 1 es Juan.\n",
      "El elemento 2 es Romeo.\n",
      "El elemento 3 es Julieta.\n",
      "El elemento 4 es Marina.\n",
      "El elemento 5 es Luz.\n",
      "El elemento 6 es Jose.\n",
      "**************************************************\n",
      "Indique que elemento quiere eliminar\n",
      "Escriba un número : 3\n",
      "['Juan', 'Romeo', 'Marina', 'Luz', 'Jose']\n"
     ]
    }
   ],
   "source": [
    "lista1 = [\"Juan\",\"Romeo\",\"Julieta\",\"Marina\",\"Luz\",\"Jose\"]\n",
    "print(lista1)\n",
    "print(\"Elemntos de la lista : \")\n",
    "for i in range(0,len(lista1)):\n",
    "    print(\"El elemento {} es {}.\".format(i+1,lista1[i]))\n",
    "print(\"*\"*50)\n",
    "print(\"Indique que elemento quiere eliminar\")\n",
    "indx = int(input(\"Escriba un número : \"))\n",
    "element = lista1[indx-1]\n",
    "lista1.remove(element)\n",
    "print(lista1)"
   ]
  },
  {
   "cell_type": "code",
   "execution_count": 58,
   "metadata": {},
   "outputs": [
    {
     "name": "stdout",
     "output_type": "stream",
     "text": [
      "Esta es la lista original: ['m', 'a', 'r', 'j', 'b', 'g', 'i', 's', 'f', 'g']\n",
      "Introduce el elemento que quieres eliminar a\n",
      "Esta es la lista actualizada ['m', 'r', 'j', 'b', 'g', 'i', 's', 'f', 'g']\n"
     ]
    }
   ],
   "source": [
    "l = [\"m\", \"a\", \"r\", \"j\", \"b\", \"g\", \"i\", \"s\", \"f\", \"g\"]\n",
    "print(\"Esta es la lista original:\", l)\n",
    "c = input(\"Introduce el elemento que quieres eliminar \")\n",
    "\n",
    "for e in l:\n",
    "    if e == c:\n",
    "        l.remove(e)\n",
    "\n",
    "print(\"Esta es la lista actualizada\", l)"
   ]
  },
  {
   "cell_type": "markdown",
   "metadata": {},
   "source": [
    "**Ejercicio**\n",
    "\n",
    "- Vamos a pedir al usuario que ingrese 5 números, los guardaremos en una lista y mostraremos la lista ordenada, siendo el usuario quien indique el orden: ascendente o descendente."
   ]
  },
  {
   "cell_type": "code",
   "execution_count": 64,
   "metadata": {},
   "outputs": [
    {
     "name": "stdout",
     "output_type": "stream",
     "text": [
      "Ingreso de números\n",
      "Ingresa un número entero : 2\n",
      "Ingresa un número entero : 4\n",
      "Ingresa un número entero : 5\n",
      "Ingresa un número entero : 7\n",
      "Ingresa un número entero : 1\n",
      "**************************************************\n",
      "Odenaremos los elementos de la lista\n",
      "1. Orden ascendente\n",
      "2. Orden descendente\n",
      "Ingrese un número\n",
      "Número : 2\n",
      "[7, 5, 4, 2, 1]\n"
     ]
    }
   ],
   "source": [
    "print(\"Ingreso de números\")\n",
    "nums = []\n",
    "for i in range(0,5):\n",
    "    nums.append(int(input(\"Ingresa un número entero : \")))\n",
    "print(\"*\"*50)\n",
    "print(\"Odenaremos los elementos de la lista\")\n",
    "print(\"1. Orden ascendente\\n2. Orden descendente\\nIngrese un número\")\n",
    "n = int(input(\"Número : \"))\n",
    "\n",
    "while n != 1 and n != 2:\n",
    "    n = int(input(\"Número : \"))\n",
    "if n == 1:\n",
    "    nums.sort(reverse=False)\n",
    "else:\n",
    "    nums.sort(reverse=True)\n",
    "print(nums)"
   ]
  },
  {
   "cell_type": "markdown",
   "metadata": {},
   "source": [
    "## Conversión a listas\n",
    "\n",
    "Para convertir un objeto iterable de `Python` a lista, hay que usar la función `list()`"
   ]
  },
  {
   "cell_type": "code",
   "execution_count": 65,
   "metadata": {},
   "outputs": [
    {
     "name": "stdout",
     "output_type": "stream",
     "text": [
      "range(0, 100, 10)\n"
     ]
    }
   ],
   "source": [
    "print(range(0, 100, 10))"
   ]
  },
  {
   "cell_type": "code",
   "execution_count": 66,
   "metadata": {},
   "outputs": [
    {
     "name": "stdout",
     "output_type": "stream",
     "text": [
      "[0, 10, 20, 30, 40, 50, 60, 70, 80, 90]\n"
     ]
    }
   ],
   "source": [
    "print(list(range(0, 100, 10)))"
   ]
  },
  {
   "cell_type": "code",
   "execution_count": 67,
   "metadata": {},
   "outputs": [
    {
     "name": "stdout",
     "output_type": "stream",
     "text": [
      "<class 'list'>\n"
     ]
    }
   ],
   "source": [
    "print(type(list(range(0, 100, 10))))"
   ]
  },
  {
   "cell_type": "markdown",
   "metadata": {},
   "source": [
    "**Ejercicio**\n",
    "\n",
    "- Vamos a convertir los números impares del 0 al 30 a una lista y mostrar los elementos con el fomato \"El valor {} ocupa el índice {}\""
   ]
  },
  {
   "cell_type": "code",
   "execution_count": 77,
   "metadata": {},
   "outputs": [
    {
     "name": "stdout",
     "output_type": "stream",
     "text": [
      "El 1 ocupa la poscion 1.\n",
      "El 3 ocupa la poscion 2.\n",
      "El 5 ocupa la poscion 3.\n",
      "El 7 ocupa la poscion 4.\n",
      "El 9 ocupa la poscion 5.\n",
      "El 11 ocupa la poscion 6.\n",
      "El 13 ocupa la poscion 7.\n",
      "El 15 ocupa la poscion 8.\n",
      "El 17 ocupa la poscion 9.\n",
      "El 19 ocupa la poscion 10.\n",
      "El 21 ocupa la poscion 11.\n",
      "El 23 ocupa la poscion 12.\n",
      "El 25 ocupa la poscion 13.\n",
      "El 27 ocupa la poscion 14.\n",
      "El 29 ocupa la poscion 15.\n"
     ]
    }
   ],
   "source": [
    "for i in range(0,30,2): \n",
    "    print(\"El {} ocupa la poscion {}.\".format(i+1,int(i/2)+1))"
   ]
  },
  {
   "cell_type": "markdown",
   "metadata": {},
   "source": [
    "## Matrices con listas"
   ]
  },
  {
   "cell_type": "code",
   "execution_count": 10,
   "metadata": {},
   "outputs": [
    {
     "data": {
      "text/plain": [
       "[[1, 2, 3], [4, 5, 6], [7, 8, 9], [10, 11, 12]]"
      ]
     },
     "execution_count": 10,
     "metadata": {},
     "output_type": "execute_result"
    }
   ],
   "source": [
    "matriz = [[1,2,3],[4,5,6],[7,8,9],[10,11,12]]\n",
    "matriz"
   ]
  },
  {
   "cell_type": "markdown",
   "metadata": {},
   "source": [
    "escrita en forma de tabla sería: `matrix` $= \\displaystyle\\begin{pmatrix} 1 & 2 & 3\\\\ 4 & 5 & 6\\\\ 7 & 8 & 9\\\\ 10 & 11 & 12\\end{pmatrix}$\n",
    "\n",
    "Para acceder a los elementos de una matriz en `Python`, utilizamos la sintaxis `[][]`, donde primero indicamos la fila y, a continuación, la columna"
   ]
  },
  {
   "cell_type": "code",
   "execution_count": 13,
   "metadata": {},
   "outputs": [
    {
     "data": {
      "text/plain": [
       "2"
      ]
     },
     "execution_count": 13,
     "metadata": {},
     "output_type": "execute_result"
    }
   ],
   "source": [
    "matriz[0][1]"
   ]
  },
  {
   "cell_type": "code",
   "execution_count": 15,
   "metadata": {},
   "outputs": [
    {
     "name": "stdout",
     "output_type": "stream",
     "text": [
      "4\n",
      "5\n",
      "6\n"
     ]
    }
   ],
   "source": [
    "# La 2da fila \n",
    "for j in range(0,len(matriz[0])):\n",
    "    print(matriz[1][j])"
   ]
  },
  {
   "cell_type": "code",
   "execution_count": 16,
   "metadata": {},
   "outputs": [
    {
     "name": "stdout",
     "output_type": "stream",
     "text": [
      "2\n",
      "5\n",
      "8\n",
      "11\n"
     ]
    }
   ],
   "source": [
    "# La 2da columna\n",
    "for i in range(0,len(matriz)):\n",
    "    print(matriz[i][1])"
   ]
  },
  {
   "cell_type": "markdown",
   "metadata": {},
   "source": [
    "Podemos mostrar una matriz de `Python` en forma de tabla con un bucle `for`, del siguiente modo"
   ]
  },
  {
   "cell_type": "code",
   "execution_count": 17,
   "metadata": {},
   "outputs": [
    {
     "name": "stdout",
     "output_type": "stream",
     "text": [
      "[1, 2, 3]\n",
      "[4, 5, 6]\n",
      "[7, 8, 9]\n",
      "[10, 11, 12]\n"
     ]
    }
   ],
   "source": [
    "for row in matriz:\n",
    "    print(row)"
   ]
  },
  {
   "cell_type": "markdown",
   "metadata": {},
   "source": [
    "Si lo que queremos es mostrar todos los elementos de la matriz en columna, podemos utilizar dos bucles `for` anidados del siguiente modo:"
   ]
  },
  {
   "cell_type": "code",
   "execution_count": 18,
   "metadata": {},
   "outputs": [
    {
     "name": "stdout",
     "output_type": "stream",
     "text": [
      "1\n",
      "2\n",
      "3\n",
      "4\n",
      "5\n",
      "6\n",
      "7\n",
      "8\n",
      "9\n",
      "10\n",
      "11\n",
      "12\n"
     ]
    }
   ],
   "source": [
    "for row in matriz:\n",
    "    for element in row:\n",
    "        print(element)"
   ]
  },
  {
   "cell_type": "markdown",
   "metadata": {},
   "source": [
    "Si lo que queremos es mostrar la matriz en forma de tabla, sin comas ni claudators por en medio, lo podemos hacer de dos formas:\n",
    "\n",
    "- Haciendo uso de las dimensiones de la matriz y, por tanto, de la función `range()`\n",
    "- Sin hacer uso de las dimensiones\n",
    "\n",
    "La primera forma sería:"
   ]
  },
  {
   "cell_type": "code",
   "execution_count": 28,
   "metadata": {},
   "outputs": [
    {
     "name": "stdout",
     "output_type": "stream",
     "text": [
      "1   2   3   -\n",
      "4   5   6   -\n",
      "7   8   9   -\n",
      "10   11   12   -\n"
     ]
    }
   ],
   "source": [
    "# m es el número de filas y n, el de columnas\n",
    "m = len(matriz)\n",
    "n = len(matriz[0])\n",
    "\n",
    "for i in range(0,m):\n",
    "    for j in range(0,n):\n",
    "        print(matriz[i][j], end = \"   \")\n",
    "    print(\"-\")\n",
    "    "
   ]
  },
  {
   "cell_type": "markdown",
   "metadata": {},
   "source": [
    "**Observación.**\n",
    "\n",
    "1. Como todas las filas tienen el mismo número de elementos, nos da igual si calculamos $n$ con la primera fila o con cualquier otra.\n",
    "2. Hemos hecho uso del parámetro `end` de la función `print()` para indicar si, en vez de un salto de línea como ocurre por defecto, queremos que suceda otra cosa inmediatamente después de ejecutar la función `print()`. En este caso, hemos indicado que queremos un espacio en blanco.\n",
    "\n",
    "Y la segunda forma, es la siguiente:"
   ]
  },
  {
   "cell_type": "code",
   "execution_count": 31,
   "metadata": {},
   "outputs": [
    {
     "name": "stdout",
     "output_type": "stream",
     "text": [
      "1 2 3 * 4 5 6 * 7 8 9 * 10 11 12 * "
     ]
    }
   ],
   "source": [
    "for row in matriz:\n",
    "    for element in row:\n",
    "        print(element, end = \" \")\n",
    "    print(\"*\", end = \" \")"
   ]
  },
  {
   "cell_type": "markdown",
   "metadata": {},
   "source": [
    "### Suma de matrices"
   ]
  },
  {
   "cell_type": "markdown",
   "metadata": {},
   "source": [
    "Para poder sumar dos matrices, necesitamos que tengan la misma dimensión. Entonces, dadas $A$ y $B$ dos matrices con dimensión $m\\times n$, su suma será una matriz de dimensión $m\\times n$ y sus elementos se obtienen del siguiente modo:\n",
    "\n",
    "$$\\begin{array}{lll}A + B &=& (a_{ij})_{m\\times n} + (b_{ij})_{m\\times n} = (a_{ij} + b_{ij})_{m\\times n}\\\\ \n",
    "&=&\\begin{pmatrix} \n",
    "a_{11} & a_{12} & \\cdots & a_{1n}\\\\\n",
    "a_{21} & a_{22} & \\cdots & a_{2n}\\\\\n",
    "\\vdots & \\vdots & \\ddots & \\vdots\\\\\n",
    "a_{m1} & a_{m2} & \\cdots & a_{mn}\\\\\n",
    "\\end{pmatrix} + \\begin{pmatrix} \n",
    "b_{11} &b_{12} & \\cdots &b_{1n}\\\\\n",
    "b_{21} &b_{22} & \\cdots &b_{2n}\\\\\n",
    "\\vdots & \\vdots & \\ddots & \\vdots\\\\\n",
    "b_{m1} &b_{m2} & \\cdots & b_{mn}\\\\\n",
    "\\end{pmatrix} = \\begin{pmatrix} \n",
    "a_{11} + b_{11} & a_{12} + b_{12} & \\cdots & a_{1n} + b_{1n}\\\\\n",
    "a_{21} + b_{21} & a_{22} + b_{22} & \\cdots & a_{2n} + b_{2n}\\\\\n",
    "\\vdots & \\vdots & \\ddots & \\vdots\\\\\n",
    "a_{m1} + b_{m1} & a_{m2} + b_{m2} & \\cdots & a_{mn} + b_{mn}\\\\\n",
    "\\end{pmatrix}\n",
    "\\end{array}$$"
   ]
  },
  {
   "cell_type": "code",
   "execution_count": 59,
   "metadata": {},
   "outputs": [],
   "source": [
    "# Definiendo 2 matrices\n",
    "A = [[1, 0, -3], [2, 0, 1], [-1, -1, 0]]\n",
    "B = [[-1, -2, 0], [-2, 3, 0], [0, 0, -3]]"
   ]
  },
  {
   "cell_type": "code",
   "execution_count": 60,
   "metadata": {},
   "outputs": [
    {
     "data": {
      "text/plain": [
       "[[0, -2, -3], [0, 3, 1], [-1, -1, -3]]"
      ]
     },
     "execution_count": 60,
     "metadata": {},
     "output_type": "execute_result"
    }
   ],
   "source": [
    "# Sumando ambas matrices\n",
    "\n",
    "if len(A) == len(B) and len(A[0]) == len(B[0]):\n",
    "    C = []\n",
    "    \n",
    "    for i in range(len(A)):\n",
    "        C.append([])\n",
    "        for j in range(len(A[0])):\n",
    "            C[i].append(A[i][j] + B[i][j])\n",
    "else:\n",
    "    print(\"No se pueden sumar ambas matrices\")\n",
    "C"
   ]
  },
  {
   "cell_type": "markdown",
   "metadata": {},
   "source": [
    "El resultado de sumar las matrices $A$ y $B$ ha sido\n",
    "\n",
    "$$\\begin{pmatrix}\n",
    "1 & 0 & -3\\\\\n",
    "2 & 0 & 1\\\\\n",
    "-1 & -1 & 0\\end{pmatrix} + \\begin{pmatrix}\n",
    "-1 & -2 & 0\\\\\n",
    "-2 & -3 & 0\\\\\n",
    "0 & 0 & -3\\end{pmatrix} = \n",
    "\\begin{pmatrix}\n",
    "0 & -2 & -3\\\\\n",
    "0 & -3 & 1\\\\\n",
    "-1 & -1 & -3\\end{pmatrix}$$"
   ]
  },
  {
   "cell_type": "markdown",
   "metadata": {},
   "source": [
    "### Producto de matrices\n",
    "\n",
    "Para poder multiplicar matrices, necesitamos que la matriz de la izquierda tenga el mismo número de columnas que número de filas tiene la matriz de la derecha. Entonces, dadas las matrices $A$ y $B$ de dimensiones $m\\times n$ y $n\\times p$ respectivamente, su producto será una matriz de dimensión $m\\times p$ y se obtiene del siguiente modo:\n",
    "\n",
    "$$\\begin{array}{lll}A\\cdot B &=& (a_{ij})_{m\\times n}\\cdot (b_{ij})_{n\\times p} = \\left(\\sum_{k = 1}^n a_{ik}\\cdot b_{kj}\\right)_{m\\times p}\\\\\n",
    "&=& \\begin{pmatrix} \n",
    "a_{11} & a_{12} & \\cdots & a_{1n}\\\\\n",
    "a_{21} & a_{22} & \\cdots & a_{2n}\\\\\n",
    "\\vdots & \\vdots & \\ddots & \\vdots\\\\\n",
    "a_{m1} & a_{m2} & \\cdots & a_{mn}\\\\\n",
    "\\end{pmatrix} \\cdot \\begin{pmatrix} \n",
    "b_{11} &b_{12} & \\cdots &b_{1p}\\\\\n",
    "b_{21} &b_{22} & \\cdots &b_{2p}\\\\\n",
    "\\vdots & \\vdots & \\ddots & \\vdots\\\\\n",
    "b_{n1} &b_{n2} & \\cdots & b_{np}\\\\\n",
    "\\end{pmatrix} = \\begin{pmatrix} \n",
    "a_{11}\\cdot b_{11} + a_{12} \\cdot b_{21} + \\cdots + a_{1n}\\cdot b_{n1} & \\sum_{k = 1}^n a_{1k}\\cdot b_{k2} & \\cdots & \\sum_{k = 1}^n a_{1k}\\cdot b_{kp}\\\\\n",
    "a_{21}\\cdot b_{11} + a_{22} \\cdot b_{21} + \\cdots + a_{2n}\\cdot b_{n1} & \\sum_{k = 1}^n a_{2k}\\cdot b_{k2} & \\cdots & \\sum_{k = 1}^n a_{2k}\\cdot b_{kp}\\\\\n",
    "\\vdots & \\vdots & \\ddots & \\vdots\\\\\n",
    "a_{m1}\\cdot b_{11} + a_{m2} \\cdot b_{21} + \\cdots + a_{mn}\\cdot b_{n1} & \\sum_{k = 1}^n a_{mk}\\cdot b_{k2} & \\cdots & \\sum_{k = 1}^n a_{mk}\\cdot b_{kp}\n",
    "\\end{pmatrix}\\end{array}$$\n",
    "\n",
    "Dadas dos matrices, la primera con el mismo número de columnas que filas tiene la segunda, podemos multiplicarlas del siguiente modo:"
   ]
  },
  {
   "cell_type": "code",
   "execution_count": 61,
   "metadata": {},
   "outputs": [],
   "source": [
    "# Definiendo las matrices\n",
    "A = [[1, 0, -3, 2], [2, 0, 1, 1], [-1, 0, -1, 0]]\n",
    "B = [[-1, -2, 0], [-2, 3, 0], [0, 0, -3], [1, 1, -1]]"
   ]
  },
  {
   "cell_type": "code",
   "execution_count": 63,
   "metadata": {},
   "outputs": [
    {
     "data": {
      "text/plain": [
       "[[1, 0, 7], [-1, -3, -4], [1, 2, 3]]"
      ]
     },
     "execution_count": 63,
     "metadata": {},
     "output_type": "execute_result"
    }
   ],
   "source": [
    "# Multiplicación de ambas matrices\n",
    "\n",
    "if len(A[0])==len(B):\n",
    "    C = []\n",
    "    for i in range(len(A)):\n",
    "        C.append([])\n",
    "        for j in range(len(B[j])):\n",
    "            elemento = 0\n",
    "            for k in range(len(B)):\n",
    "                elemento = elemento + A[i][k]*B[k][j]\n",
    "            C[i].append(elemento)\n",
    "else:\n",
    "    print(\"No se puede multiplicar ambas matrices\")\n",
    "C"
   ]
  },
  {
   "cell_type": "markdown",
   "metadata": {},
   "source": [
    "El resultado de multiplicar las matrices $A$ y $B$ ha sido\n",
    "\n",
    "$$\\begin{array}{lll} A\\cdot B &=& \n",
    "\\begin{pmatrix}\n",
    "1 & 0 & -3 & 2\\\\\n",
    "2 & 0 & 1 & 1\\\\\n",
    "-1 & 0 & -1 & 0\n",
    "\\end{pmatrix}\\cdot\\begin{pmatrix}\n",
    "-1 & -2 & 0\\\\\n",
    "-2 & 3 & 0\\\\\n",
    "0 & 0 & -3\\\\\n",
    "1 & 1 & -1\n",
    "\\end{pmatrix}\\\\ &=& \\begin{pmatrix}\n",
    "1\\cdot (-1) + 0\\cdot (-2) -3\\cdot 0 + 2\\cdot 1 & 1\\cdot (-2) + 0\\cdot 3 -3\\cdot 0 + 2\\cdot 1 & 1\\cdot 0 + 0\\cdot 0 -3\\cdot (-3) + 2\\cdot (-1)\\\\\n",
    "2\\cdot (-1) + 0\\cdot (-2) + 1\\cdot 0 + 1\\cdot 1  & 2\\cdot (-2) + 0\\cdot 3 + 1\\cdot 0 + 1\\cdot 1 & 2\\cdot 0 + 0\\cdot 0 + 1\\cdot (-3) + 1\\cdot (-1)\\\\\n",
    "-1\\cdot (-1) + 0\\cdot (-2) -1\\cdot 0 + 0\\cdot 1  & -1\\cdot (-2) + 0\\cdot 3 -1\\cdot 0 + 0\\cdot 1 & -1\\cdot 0 + 0\\cdot 0 -1\\cdot (-3) + 0\\cdot (-1)\n",
    "\\end{pmatrix}\\\\ &=& \\begin{pmatrix}\n",
    "1 & 0 & 7\\\\\n",
    "-1 & -3 & -4\\\\\n",
    "1 & 2 & 3\n",
    "\\end{pmatrix}\n",
    "\\end{array}$$"
   ]
  },
  {
   "cell_type": "markdown",
   "metadata": {},
   "source": [
    "**Ejemplo**\n",
    "- El usuario debe ingresar los elementos de una matriz"
   ]
  },
  {
   "cell_type": "code",
   "execution_count": 68,
   "metadata": {},
   "outputs": [
    {
     "name": "stdout",
     "output_type": "stream",
     "text": [
      "Ingrese el número de filas : 4\n",
      "Ingrese el número de columnas : 2\n",
      "fila 1 columna 1\n",
      "2\n",
      "fila 1 columna 2\n",
      "1\n",
      "fila 2 columna 1\n",
      "4\n",
      "fila 2 columna 2\n",
      "7\n",
      "fila 3 columna 1\n",
      "4\n",
      "fila 3 columna 2\n",
      "6\n",
      "fila 4 columna 1\n",
      "4\n",
      "fila 4 columna 2\n",
      "8\n"
     ]
    },
    {
     "data": {
      "text/plain": [
       "[[2, 1], [4, 7], [4, 6], [4, 8]]"
      ]
     },
     "execution_count": 68,
     "metadata": {},
     "output_type": "execute_result"
    }
   ],
   "source": [
    "m = int(input(\"Ingrese el número de filas : \"))\n",
    "n = int(input(\"Ingrese el número de columnas : \"))\n",
    "\n",
    "M = []\n",
    "for i in range(m):\n",
    "    M.append([])\n",
    "    for j in range(n):\n",
    "        print(\"fila {} columna {}\".format(i+1,j+1))\n",
    "        M[i].append(int(input(\"\")))\n",
    "M"
   ]
  },
  {
   "cell_type": "code",
   "execution_count": 2,
   "metadata": {},
   "outputs": [
    {
     "name": "stdout",
     "output_type": "stream",
     "text": [
      "Introduce el elemento (1,1): 1\n",
      "Introduce el elemento (1,2): 6\n",
      "Introduce el elemento (2,1): 2\n",
      "Introduce el elemento (2,2): 9\n",
      "1.0  6.0  \n",
      "2.0  9.0  \n"
     ]
    }
   ],
   "source": [
    "# Matriz 2x2, con elementos ingresados por el usuario.\n",
    "A = []\n",
    "for i in range(2):\n",
    "    A.append([])\n",
    "    for j in range(2):\n",
    "        A[i].append(float(input(\"Introduce el elemento ({},{}): \".format(i+1, j+1))))\n",
    "\n",
    "for i in range(2):\n",
    "    for j in range(2):\n",
    "        print(A[i][j], end = \"  \" if A[i][j] >= 0 else \" \")\n",
    "    print(\"\")"
   ]
  },
  {
   "cell_type": "markdown",
   "metadata": {},
   "source": [
    "**Ejercicio**\n",
    "\n",
    "- Vamos a sumar dos matrices con listas. Ambas matrices serán proporcionadas por el usuario, así como la dimensión de las matrices."
   ]
  },
  {
   "cell_type": "code",
   "execution_count": 8,
   "metadata": {},
   "outputs": [
    {
     "name": "stdout",
     "output_type": "stream",
     "text": [
      "Ingrese el numero de filas : 2\n",
      "Ingrese el numero de columnas : 3\n",
      "Matriz A, posición 1 , 1\n",
      "Ingrese elemento : 1\n",
      "Matriz A, posición 1 , 2\n",
      "Ingrese elemento : 2\n",
      "Matriz A, posición 1 , 3\n",
      "Ingrese elemento : 3\n",
      "Matriz A, posición 2 , 1\n",
      "Ingrese elemento : 4\n",
      "Matriz A, posición 2 , 2\n",
      "Ingrese elemento : 5\n",
      "Matriz A, posición 2 , 3\n",
      "Ingrese elemento : 6\n",
      "Matriz B, posición 1 , 1\n",
      "Ingrese elemento : 0\n",
      "Matriz B, posición 1 , 2\n",
      "Ingrese elemento : 0\n",
      "Matriz B, posición 1 , 3\n",
      "Ingrese elemento : 0\n",
      "Matriz B, posición 2 , 1\n",
      "Ingrese elemento : 1\n",
      "Matriz B, posición 2 , 2\n",
      "Ingrese elemento : 1\n",
      "Matriz B, posición 2 , 3\n",
      "Ingrese elemento : 1\n"
     ]
    },
    {
     "data": {
      "text/plain": [
       "[[1.0, 2.0, 3.0], [5.0, 6.0, 7.0]]"
      ]
     },
     "execution_count": 8,
     "metadata": {},
     "output_type": "execute_result"
    }
   ],
   "source": [
    "n = int(input(\"Ingrese el numero de filas : \"))\n",
    "m = int(input(\"Ingrese el numero de columnas : \"))\n",
    "\n",
    "# Primera matriz\n",
    "M1 = []\n",
    "for i in range(n):\n",
    "    M1.append([])\n",
    "    for j in range(m):\n",
    "        print(\"Matriz A, posición {} , {}\".format(1+i,1+j))\n",
    "        M1[i].append(float(input(\"Ingrese elemento : \")))\n",
    "\n",
    "# Segunda matriz\n",
    "M2 = []\n",
    "for i in range(n):\n",
    "    M2.append([])\n",
    "    for j in range(m):\n",
    "        print(\"Matriz B, posición {} , {}\".format(1+i,1+j))\n",
    "        M2[i].append(float(input(\"Ingrese elemento : \")))\n",
    "\n",
    "# Sumando ambas matrices\n",
    "S = []\n",
    "for i in range(n):\n",
    "    S.append([])\n",
    "    for j in range(m):\n",
    "        S[i].append(M1[i][j] + M2[i][j])\n",
    "S"
   ]
  },
  {
   "cell_type": "markdown",
   "metadata": {},
   "source": [
    "**Ejercicio**\n",
    "\n",
    "- Vamos a calcular el producto de dos matrices con listas. Ambas matrices serán dadas por el usuario así como las dimensiones de ambas."
   ]
  },
  {
   "cell_type": "code",
   "execution_count": 13,
   "metadata": {},
   "outputs": [
    {
     "name": "stdout",
     "output_type": "stream",
     "text": [
      "Ingrese el numero de filas de M1 : 2\n",
      "Ingrese el numero de columnas M1 : 3\n",
      "Ingrese el número de columnas de M2 : 1\n",
      "Matriz A, posición (1,1)\n",
      "Ingrese elemento : 12\n",
      "Matriz A, posición (1,2)\n",
      "Ingrese elemento : 1\n",
      "Matriz A, posición (1,3)\n",
      "Ingrese elemento : 2\n",
      "Matriz A, posición (2,1)\n",
      "Ingrese elemento : 3\n",
      "Matriz A, posición (2,2)\n",
      "Ingrese elemento : 4\n",
      "Matriz A, posición (2,3)\n",
      "Ingrese elemento : 5\n",
      "Matriz B, posición (1,1)\n",
      "Ingrese elemento : 2\n",
      "Matriz B, posición (2,1)\n",
      "Ingrese elemento : 1\n",
      "Matriz B, posición (3,1)\n",
      "Ingrese elemento : 3\n"
     ]
    },
    {
     "data": {
      "text/plain": [
       "[[25.0], [10.0]]"
      ]
     },
     "execution_count": 13,
     "metadata": {},
     "output_type": "execute_result"
    }
   ],
   "source": [
    "n = int(input(\"Ingrese el numero de filas de A : \"))\n",
    "m = int(input(\"Ingrese el numero de columnas A : \"))\n",
    "p = int(input(\"Ingrese el número de columnas de B : \"))\n",
    "\n",
    "# Primera matriz\n",
    "M1 = []\n",
    "for i in range(n):\n",
    "    M1.append([])\n",
    "    for j in range(m):\n",
    "        print(\"Matriz A, posición ({},{})\".format(1+i,1+j))\n",
    "        M1[i].append(float(input(\"Ingrese elemento : \")))\n",
    "\n",
    "# Segunda matriz\n",
    "M2 = []\n",
    "for i in range(m):\n",
    "    M2.append([])\n",
    "    for j in range(p):\n",
    "        print(\"Matriz B, posición ({},{})\".format(1+i,1+j))\n",
    "        M2[i].append(float(input(\"Ingrese elemento : \")))\n",
    "\n",
    "# Multiplicando ambas matrices\n",
    "P = []\n",
    "for i in range(n):\n",
    "    P.append([])\n",
    "    for j in range(p):\n",
    "        elemento = 0\n",
    "        for k in range(n):\n",
    "            elemento = elemento + M1[i][k]*M2[k][j]\n",
    "    P[i].append(elemento)\n",
    "P"
   ]
  },
  {
   "cell_type": "code",
   "execution_count": 15,
   "metadata": {},
   "outputs": [
    {
     "name": "stdout",
     "output_type": "stream",
     "text": [
      "Número de filas de la matriz A: 3\n",
      "Número de columnas de la matriz A: 1\n",
      "Número de columnas de la matriz B: 1\n",
      "\n",
      "=== Matriz A ===\n",
      "Introduce el elemento (1,1) 1\n",
      "Introduce el elemento (2,1) 2\n",
      "Introduce el elemento (3,1) 3\n",
      "\n",
      "=== Matriz B ===\n",
      "Introduce el elemento (1,1) 2\n",
      "\n",
      "=== Matriz A · B ===\n",
      "2.0  \n",
      "4.0  \n",
      "6.0  \n"
     ]
    }
   ],
   "source": [
    "n = int(input(\"Número de filas de la matriz A: \"))\n",
    "m = int(input(\"Número de columnas de la matriz A: \"))\n",
    "p = int(input(\"Número de columnas de la matriz B: \"))\n",
    "\n",
    "A = []\n",
    "print(\"\\n=== Matriz A ===\")\n",
    "for i in range(n):\n",
    "    A.append([])\n",
    "    for j in range(m):\n",
    "        A[i].append(float(input(\"Introduce el elemento ({},{}) \".format(i+1,j+1))))\n",
    "\n",
    "B = []\n",
    "print(\"\\n=== Matriz B ===\")\n",
    "for i in range(m):\n",
    "    B.append([])\n",
    "    for j in range(p):\n",
    "        B[i].append(float(input(\"Introduce el elemento ({},{}) \".format(i+1,j+1))))\n",
    "\n",
    "C = []\n",
    "for i in range(n):\n",
    "    C.append([])\n",
    "    for j in range(p):\n",
    "        elemento = 0\n",
    "        for k in range(m):\n",
    "            elemento += A[i][k] * B[k][j]\n",
    "    C[i].append(elemento)\n",
    "\n",
    "print(\"\\n=== Matriz A · B ===\")\n",
    "for i in range(n):\n",
    "    for j in range(p):\n",
    "        print(C[i][j], end = \"  \" if C[i][j] >= 0 else \" \")\n",
    "  \n",
    "    print(\"\")"
   ]
  },
  {
   "cell_type": "markdown",
   "metadata": {},
   "source": [
    "## Matrices con `numpy`\n",
    "\n",
    "Existe una forma más sencilla de trabajar con matrices y es gracias a la librería `numpy`. Para importarla, simplemente hay que ejecutar la siguiente línea de código."
   ]
  },
  {
   "cell_type": "code",
   "execution_count": 16,
   "metadata": {},
   "outputs": [],
   "source": [
    "import numpy as np"
   ]
  },
  {
   "cell_type": "markdown",
   "metadata": {},
   "source": [
    "Para crear una matriz vacía, usamos el método `.empty()`, al que le indicamos por parámetro las dimensiones"
   ]
  },
  {
   "cell_type": "code",
   "execution_count": 17,
   "metadata": {},
   "outputs": [
    {
     "data": {
      "text/plain": [
       "array([[0., 0., 0.],\n",
       "       [0., 0., 0.]])"
      ]
     },
     "execution_count": 17,
     "metadata": {},
     "output_type": "execute_result"
    }
   ],
   "source": [
    "A = np.empty((2,3)) # 2 filas y 3 columnas\n",
    "A"
   ]
  },
  {
   "cell_type": "markdown",
   "metadata": {},
   "source": [
    "Para crear una matriz vacía con las mismas dimensiones de otra matriz definida anteriormente, usamos el método `.empty_like()`, al que le indicamos por parámetro la matriz existente"
   ]
  },
  {
   "cell_type": "code",
   "execution_count": 22,
   "metadata": {},
   "outputs": [
    {
     "data": {
      "text/plain": [
       "array([[0., 0., 0.],\n",
       "       [0., 0., 0.]])"
      ]
     },
     "execution_count": 22,
     "metadata": {},
     "output_type": "execute_result"
    }
   ],
   "source": [
    "B = np.empty_like(A)\n",
    "B"
   ]
  },
  {
   "cell_type": "markdown",
   "metadata": {},
   "source": [
    "Para crear una matriz nula, usamos el método `.zeros()`, al que le indicamos por parámetro las dimensiones"
   ]
  },
  {
   "cell_type": "code",
   "execution_count": 23,
   "metadata": {},
   "outputs": [
    {
     "name": "stdout",
     "output_type": "stream",
     "text": [
      "[[0. 0. 0. 0. 0.]\n",
      " [0. 0. 0. 0. 0.]\n",
      " [0. 0. 0. 0. 0.]]\n"
     ]
    }
   ],
   "source": [
    "C = np.zeros((3,5))\n",
    "print(C)"
   ]
  },
  {
   "cell_type": "markdown",
   "metadata": {},
   "source": [
    "Para crear una matriz de ceros con las mismas dimensiones de otra matriz definida anteriormente, usamos el método `.zeros_like()`, al que le indicamos por parámetro la matriz existente"
   ]
  },
  {
   "cell_type": "code",
   "execution_count": 24,
   "metadata": {},
   "outputs": [
    {
     "data": {
      "text/plain": [
       "array([[0., 0., 0., 0., 0.],\n",
       "       [0., 0., 0., 0., 0.],\n",
       "       [0., 0., 0., 0., 0.]])"
      ]
     },
     "execution_count": 24,
     "metadata": {},
     "output_type": "execute_result"
    }
   ],
   "source": [
    "D = np.zeros_like(C)\n",
    "D"
   ]
  },
  {
   "cell_type": "markdown",
   "metadata": {},
   "source": [
    "Para crear una matriz de unos, usamos el método `.ones()`, al que le indicamos por parámetro las dimensiones"
   ]
  },
  {
   "cell_type": "code",
   "execution_count": 26,
   "metadata": {},
   "outputs": [
    {
     "data": {
      "text/plain": [
       "array([[1., 1., 1., 1., 1.],\n",
       "       [1., 1., 1., 1., 1.]])"
      ]
     },
     "execution_count": 26,
     "metadata": {},
     "output_type": "execute_result"
    }
   ],
   "source": [
    "E = np.ones((2,5))\n",
    "E"
   ]
  },
  {
   "cell_type": "markdown",
   "metadata": {},
   "source": [
    "Para crear una matriz de unos con las mismas dimensiones de otra matriz definida anteriormente, usamos el método `.ones_like()`, al que le indicamos por parámetro la matriz existente"
   ]
  },
  {
   "cell_type": "code",
   "execution_count": 28,
   "metadata": {},
   "outputs": [
    {
     "data": {
      "text/plain": [
       "array([[1., 1., 1.],\n",
       "       [1., 1., 1.]])"
      ]
     },
     "execution_count": 28,
     "metadata": {},
     "output_type": "execute_result"
    }
   ],
   "source": [
    "F = np.ones_like(A) # A es una matrz de 2x3\n",
    "F"
   ]
  },
  {
   "cell_type": "markdown",
   "metadata": {},
   "source": [
    "Podemos crear matrices de numpy a partir de listas con el método `.matrix()`"
   ]
  },
  {
   "cell_type": "code",
   "execution_count": 29,
   "metadata": {},
   "outputs": [
    {
     "data": {
      "text/plain": [
       "matrix([[ 1,  0,  2],\n",
       "        [ 2, -3,  1]])"
      ]
     },
     "execution_count": 29,
     "metadata": {},
     "output_type": "execute_result"
    }
   ],
   "source": [
    "M = np.matrix([[1,0,2],[2,-3,1]])\n",
    "M"
   ]
  },
  {
   "cell_type": "code",
   "execution_count": 30,
   "metadata": {},
   "outputs": [
    {
     "name": "stdout",
     "output_type": "stream",
     "text": [
      "[[ 1  0  2]\n",
      " [ 2 -3  1]]\n"
     ]
    }
   ],
   "source": [
    "print(M)"
   ]
  },
  {
   "cell_type": "markdown",
   "metadata": {},
   "source": [
    "Para saber las dimensiones de una matriz, podemos utilizar el método `.shape`\n"
   ]
  },
  {
   "cell_type": "code",
   "execution_count": 31,
   "metadata": {},
   "outputs": [
    {
     "data": {
      "text/plain": [
       "(2, 3)"
      ]
     },
     "execution_count": 31,
     "metadata": {},
     "output_type": "execute_result"
    }
   ],
   "source": [
    "M.shape"
   ]
  },
  {
   "cell_type": "markdown",
   "metadata": {},
   "source": [
    "Ahora es más sencillo sumar matrices, pues solamente necesitamos la función `+`"
   ]
  },
  {
   "cell_type": "code",
   "execution_count": 32,
   "metadata": {},
   "outputs": [
    {
     "data": {
      "text/plain": [
       "matrix([[ 0, -2, -3],\n",
       "        [ 0,  3,  1],\n",
       "        [-1, -1, -3]])"
      ]
     },
     "execution_count": 32,
     "metadata": {},
     "output_type": "execute_result"
    }
   ],
   "source": [
    "A = np.matrix([[1, 0, -3], [2, 0, 1], [-1, -1, 0]])\n",
    "B = np.matrix([[-1, -2, 0], [-2, 3, 0], [0, 0, -3]])\n",
    "matrixSum = A + B\n",
    "matrixSum"
   ]
  },
  {
   "cell_type": "markdown",
   "metadata": {},
   "source": [
    "También es más sencillo hacer el producto matricial $A\\cdot B$ con el método `.dot()`"
   ]
  },
  {
   "cell_type": "code",
   "execution_count": 33,
   "metadata": {},
   "outputs": [
    {
     "data": {
      "text/plain": [
       "matrix([[ 1,  0,  7],\n",
       "        [-1, -3, -4],\n",
       "        [ 1,  2,  3]])"
      ]
     },
     "execution_count": 33,
     "metadata": {},
     "output_type": "execute_result"
    }
   ],
   "source": [
    "A = np.matrix([[1, 0, -3, 2], [2, 0, 1, 1], [-1, 0, -1, 0]])\n",
    "B = np.matrix([[-1, -2, 0], [-2, 3, 0], [0, 0, -3], [1, 1, -1]])\n",
    "\n",
    "matrixProd = A.dot(B)\n",
    "matrixProd"
   ]
  },
  {
   "cell_type": "markdown",
   "metadata": {},
   "source": [
    "Gracias a `numpy`, también es mucho más sencillo mostrar una matriz en forma de tabla, pues nos basta con hacer uso de la función `print()`:"
   ]
  },
  {
   "cell_type": "code",
   "execution_count": 38,
   "metadata": {},
   "outputs": [
    {
     "name": "stdout",
     "output_type": "stream",
     "text": [
      "[[ 0 -2 -3]\n",
      " [ 0  3  1]\n",
      " [-1 -1 -3]]\n"
     ]
    }
   ],
   "source": [
    "print(matrixSum)"
   ]
  },
  {
   "cell_type": "code",
   "execution_count": 39,
   "metadata": {},
   "outputs": [
    {
     "name": "stdout",
     "output_type": "stream",
     "text": [
      "[[ 1  0  7]\n",
      " [-1 -3 -4]\n",
      " [ 1  2  3]]\n"
     ]
    }
   ],
   "source": [
    "print(matrixProd)"
   ]
  },
  {
   "cell_type": "markdown",
   "metadata": {},
   "source": [
    "**Ejercicio**\n",
    "\n",
    "- Vamos a introducir manualmente una matriz con `numpy` donde las dimensiones son proporcionadas por el usuario."
   ]
  },
  {
   "cell_type": "code",
   "execution_count": 49,
   "metadata": {},
   "outputs": [
    {
     "name": "stdout",
     "output_type": "stream",
     "text": [
      "Número de fllas : 2\n",
      "Número de columnas : 3\n",
      "[[1. 2. 3.]\n",
      " [4. 5. 6.]]\n",
      "Ingrese elemento (1,1) : 1\n",
      "Ingrese elemento (1,2) : 6\n",
      "Ingrese elemento (1,3) : 9\n",
      "Ingrese elemento (2,1) : 2\n",
      "Ingrese elemento (2,2) : 3\n",
      "Ingrese elemento (2,3) : 0\n"
     ]
    },
    {
     "data": {
      "text/plain": [
       "array([[1., 6., 9.],\n",
       "       [2., 3., 0.]])"
      ]
     },
     "execution_count": 49,
     "metadata": {},
     "output_type": "execute_result"
    }
   ],
   "source": [
    "# Previamente de tiene que llamar al módulo numpy\n",
    "n = int(input(\"Número de fllas : \"))\n",
    "m = int(input(\"Número de columnas : \"))\n",
    "\n",
    "A = np.empty((n,m))\n",
    "print(A)\n",
    "for i in range(n):\n",
    "    for j in range(m):\n",
    "        A[i,j] = float(input(\"Ingrese elemento ({},{}) : \".format(i+1,j+1)))\n",
    "\n",
    "A"
   ]
  },
  {
   "cell_type": "markdown",
   "metadata": {},
   "source": [
    "**Ejercicio**\n",
    "\n",
    "- Vamos a sumar dos matrices con `numpy`. Ambas matrices las proporcionará el usuario, así como sus dimensiones."
   ]
  },
  {
   "cell_type": "code",
   "execution_count": 54,
   "metadata": {},
   "outputs": [
    {
     "name": "stdout",
     "output_type": "stream",
     "text": [
      "Número de fllas : 2\n",
      "Número de columnas : 3\n",
      "Matriz A\n",
      "Ingrese elemento (1,1) : 1\n",
      "Ingrese elemento (1,2) : 2\n",
      "Ingrese elemento (1,3) : 3\n",
      "Ingrese elemento (2,1) : 4\n",
      "Ingrese elemento (2,2) : 5\n",
      "Ingrese elemento (2,3) : 6\n",
      "Matriz B\n",
      "Ingrese elemento (1,1) : 7\n",
      "Ingrese elemento (1,2) : 6\n",
      "Ingrese elemento (1,3) : 5\n",
      "Ingrese elemento (2,1) : 4\n",
      "Ingrese elemento (2,2) : 3\n",
      "Ingrese elemento (2,3) : 2\n",
      "****************************************\n",
      "La suma es : \n",
      "[[8. 8. 8.]\n",
      " [8. 8. 8.]]\n",
      "[[8. 8. 8.]\n",
      " [8. 8. 8.]]\n"
     ]
    }
   ],
   "source": [
    "# Previamente de tiene que llamar al módulo numpy\n",
    "n = int(input(\"Número de fllas : \"))\n",
    "m = int(input(\"Número de columnas : \"))\n",
    "\n",
    "A = np.empty((n,m))\n",
    "B = np.empty((n,m))\n",
    "\n",
    "print(\"Matriz A\")\n",
    "for i in range(n):\n",
    "    for j in range(m):\n",
    "        A[i,j] = float(input(\"Ingrese elemento ({},{}) : \".format(i+1,j+1)))\n",
    "\n",
    "print(\"Matriz B\")\n",
    "for i in range(n):\n",
    "    for j in range(m):\n",
    "        B[i,j] = float(input(\"Ingrese elemento ({},{}) : \".format(i+1,j+1)))\n",
    "\n",
    "S = np.empty((n,m))     \n",
    "# Sumando ambas matrices\n",
    "for i in range(n):\n",
    "    for j in range(m):\n",
    "        S[i,j] = A[i,j] + B[i,j]\n",
    "print(\"*\"*40)\n",
    "print(\"La suma es : \")\n",
    "print(S)\n",
    "print(\"***\")\n",
    "print(A+B)"
   ]
  },
  {
   "cell_type": "markdown",
   "metadata": {},
   "source": [
    "**Ejercicio**\n",
    "\n",
    "- Vamos a multiplicar dos matrices con `numpy`. Ambas matrices serán proporcionadas por el usuario, así como la dimensión de ambas."
   ]
  },
  {
   "cell_type": "code",
   "execution_count": 55,
   "metadata": {},
   "outputs": [
    {
     "name": "stdout",
     "output_type": "stream",
     "text": [
      "Ingrese el número de filas de A : 2\n",
      "Ingrese el número de columnas de A o número de filas de B : 3\n",
      "Ingrese el número de columnas de B1\n",
      "******************************\n",
      "Matriz A\n",
      "Matriz A posicion (1,1) : 1\n",
      "Matriz A posicion (1,2) : 2\n",
      "Matriz A posicion (1,3) : 3\n",
      "Matriz A posicion (2,1) : 4\n",
      "Matriz A posicion (2,2) : 5\n",
      "Matriz A posicion (2,3) : 6\n",
      "******************************\n",
      "Matriz A\n",
      "Matriz B posicion (1,1) : 10\n",
      "Matriz B posicion (2,1) : 20\n",
      "Matriz B posicion (3,1) : 30\n",
      "******************************\n",
      "La multiplicación de A . B es : \n",
      "[[140.]\n",
      " [320.]]\n"
     ]
    }
   ],
   "source": [
    "n = int(input(\"Ingrese el número de filas de A : \"))\n",
    "m = int(input(\"Ingrese el número de columnas de A o número de filas de B : \"))\n",
    "p = int(input(\"Ingrese el número de columnas de B\"))\n",
    "\n",
    "A = np.empty((n,m))\n",
    "B = np.empty((m,p))\n",
    "\n",
    "print(\"*\"*30)\n",
    "print(\"Matriz A\")\n",
    "for i in range(n):\n",
    "    for j in range(m):\n",
    "        A[i,j] = float(input(\"Matriz A posicion ({},{}) : \".format(i+1,j+1)))\n",
    "print(\"*\"*30)\n",
    "print(\"Matriz A\")\n",
    "for i in range(m):\n",
    "    for j in range(p):\n",
    "        B[i,j] = float(input(\"Matriz B posicion ({},{}) : \".format(i+1,j+1)))\n",
    "print(\"*\"*30)        \n",
    "print(\"La multiplicación de A . B es : \")\n",
    "print(A.dot(B))"
   ]
  },
  {
   "cell_type": "code",
   "execution_count": null,
   "metadata": {},
   "outputs": [],
   "source": []
  }
 ],
 "metadata": {
  "kernelspec": {
   "display_name": "Python 3",
   "language": "python",
   "name": "python3"
  },
  "language_info": {
   "codemirror_mode": {
    "name": "ipython",
    "version": 3
   },
   "file_extension": ".py",
   "mimetype": "text/x-python",
   "name": "python",
   "nbconvert_exporter": "python",
   "pygments_lexer": "ipython3",
   "version": "3.7.3"
  }
 },
 "nbformat": 4,
 "nbformat_minor": 2
}
