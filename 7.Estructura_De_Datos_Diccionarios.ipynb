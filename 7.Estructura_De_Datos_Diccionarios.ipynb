{
 "cells": [
  {
   "cell_type": "markdown",
   "metadata": {},
   "source": [
    "# Diccionario\n",
    "\n",
    "Éstos son un conjunto de elementos no ordenados escritos entre llaves, `{}`, que constan de claves y valores. \n",
    "\n",
    "Cada conjunto `clave: valor` es separado por comas. Las claves funcionan como identificadores y preceden a `:`. A continuación van los valores, que son elementos (numéricos, booleanos, strings, listas, diccionarios...) asociados a esa clave. \n",
    "\n",
    "Los diccionarios, al igual que las listas, son:\n",
    "- hetereogéneos: los elementos pueden ser de distinto tipo en un mismo diccionario\n",
    "- mutables: los elementos pueden ser modificados\n",
    "\n",
    "Un ejemplo de diccionario sería"
   ]
  },
  {
   "cell_type": "code",
   "execution_count": 1,
   "metadata": {},
   "outputs": [
    {
     "data": {
      "text/plain": [
       "{'Nombre': 'Armando', 'Apellido': 'Gomez', 'Edad': 20}"
      ]
     },
     "execution_count": 1,
     "metadata": {},
     "output_type": "execute_result"
    }
   ],
   "source": [
    "alumno1 = {\"Nombre\":\"Armando\", \"Apellido\":\"Gomez\", \"Edad\":20}\n",
    "alumno1"
   ]
  },
  {
   "cell_type": "markdown",
   "metadata": {},
   "source": [
    "**¡Cuidado!** En `Python`, las claves de un diccionario deben ser únicas. Esto es, no puede haber dos claves que sean exactamente iguales. Si se da que hay dos claves iguales, entonces `Python` se queda con el último valor asociado a dicha clave."
   ]
  },
  {
   "cell_type": "code",
   "execution_count": 3,
   "metadata": {},
   "outputs": [
    {
     "name": "stdout",
     "output_type": "stream",
     "text": [
      "{'Jose': 20, 'Maria': 23}\n"
     ]
    }
   ],
   "source": [
    "dicc = {\"Jose\":33,\n",
    "       \"Maria\":23,\n",
    "       \"Jose\":20}\n",
    "print(dicc)"
   ]
  },
  {
   "cell_type": "markdown",
   "metadata": {},
   "source": [
    "**Observación.** Al decir que los diccionarios no tienen orden, lo que ocurre es que `Python` no mantendrá el que hemos introducido, tal y como hacía con las listas, sino que reordenará todos los elementos por orden primero numérico (yendo antes los positivos que los negativos) y luego alfabético de las claves. Esto no ocurre si usamos la función `print()`."
   ]
  },
  {
   "cell_type": "code",
   "execution_count": 8,
   "metadata": {},
   "outputs": [
    {
     "data": {
      "text/plain": [
       "{'Jose': 32, 'Marina': 21, 'Elena': 10}"
      ]
     },
     "execution_count": 8,
     "metadata": {},
     "output_type": "execute_result"
    }
   ],
   "source": [
    "dicc = {\"Jose\":32,\n",
    "       \"Marina\":21,\n",
    "        \"Elena\":10}\n",
    "dicc"
   ]
  },
  {
   "cell_type": "code",
   "execution_count": 9,
   "metadata": {},
   "outputs": [
    {
     "name": "stdout",
     "output_type": "stream",
     "text": [
      "{'Jose': 32, 'Marina': 21, 'Elena': 10}\n"
     ]
    }
   ],
   "source": [
    "print(dicc)"
   ]
  },
  {
   "cell_type": "code",
   "execution_count": 10,
   "metadata": {},
   "outputs": [
    {
     "data": {
      "text/plain": [
       "{'Alba': 2, 7: 'a', -5: 'b', 'Javi': 28}"
      ]
     },
     "execution_count": 10,
     "metadata": {},
     "output_type": "execute_result"
    }
   ],
   "source": [
    "# No es recomendable tener claves de diferente tipo\n",
    "dicc = {\"Alba\": 2, 7: \"a\", -5: \"b\", \"Javi\": 28}\n",
    "dicc"
   ]
  },
  {
   "cell_type": "code",
   "execution_count": 11,
   "metadata": {},
   "outputs": [
    {
     "name": "stdout",
     "output_type": "stream",
     "text": [
      "{'Alba': 2, 7: 'a', -5: 'b', 'Javi': 28}\n"
     ]
    }
   ],
   "source": [
    "print(dicc)"
   ]
  },
  {
   "cell_type": "markdown",
   "metadata": {},
   "source": [
    "## Elementos de un diccionario\n",
    "\n",
    "Anteriormente se ha comentado que los diccionarios no tienen orden. De modo que a sus elementos no se accede por posición, sino que debemos hacerlo mediante sus claves.\n",
    "\n",
    "La sintaxis es `diccionario[clave]`"
   ]
  },
  {
   "cell_type": "code",
   "execution_count": 12,
   "metadata": {},
   "outputs": [
    {
     "data": {
      "text/plain": [
       "['Luis', 'Ana', 'Marx']"
      ]
     },
     "execution_count": 12,
     "metadata": {},
     "output_type": "execute_result"
    }
   ],
   "source": [
    "dicc = {\n",
    "    \"clave_names\" : [\"Luis\",\"Ana\",\"Marx\"],\n",
    "    \"clave_ages\" : [23,10,21]\n",
    "}\n",
    "dicc[\"clave_names\"]"
   ]
  },
  {
   "cell_type": "code",
   "execution_count": 13,
   "metadata": {},
   "outputs": [
    {
     "data": {
      "text/plain": [
       "[23, 10, 21]"
      ]
     },
     "execution_count": 13,
     "metadata": {},
     "output_type": "execute_result"
    }
   ],
   "source": [
    "dicc[\"clave_ages\"]"
   ]
  },
  {
   "cell_type": "markdown",
   "metadata": {},
   "source": [
    "Podemos acceder a todas las claves de un diccionario con el método `.keys()`"
   ]
  },
  {
   "cell_type": "code",
   "execution_count": 15,
   "metadata": {},
   "outputs": [
    {
     "data": {
      "text/plain": [
       "dict_keys(['clave_names', 'clave_ages'])"
      ]
     },
     "execution_count": 15,
     "metadata": {},
     "output_type": "execute_result"
    }
   ],
   "source": [
    "dicc.keys()"
   ]
  },
  {
   "cell_type": "markdown",
   "metadata": {},
   "source": [
    "También podemos acceder a todos los valores de un diccionario con el método `.values()`"
   ]
  },
  {
   "cell_type": "code",
   "execution_count": 17,
   "metadata": {},
   "outputs": [
    {
     "data": {
      "text/plain": [
       "dict_values([['Luis', 'Ana', 'Marx'], [23, 10, 21]])"
      ]
     },
     "execution_count": 17,
     "metadata": {},
     "output_type": "execute_result"
    }
   ],
   "source": [
    "dicc.values()"
   ]
  },
  {
   "cell_type": "markdown",
   "metadata": {},
   "source": [
    "Al ser una estructura mutable, podemos modificar los valores de los diccionarios"
   ]
  },
  {
   "cell_type": "code",
   "execution_count": 22,
   "metadata": {},
   "outputs": [],
   "source": [
    "dicc = {\n",
    "    \"clave_names\" : [\"Luis\",\"Ana\",\"Marx\"],\n",
    "    \"clave_ages\" : [23,10,21]\n",
    "}"
   ]
  },
  {
   "cell_type": "code",
   "execution_count": 23,
   "metadata": {},
   "outputs": [
    {
     "data": {
      "text/plain": [
       "{'clave_names': ['Luisa', 'Ana', 'Mario'], 'clave_ages': [23, 10, 21]}"
      ]
     },
     "execution_count": 23,
     "metadata": {},
     "output_type": "execute_result"
    }
   ],
   "source": [
    "dicc[\"clave_names\"] = [\"Luisa\",\"Ana\",\"Mario\"]\n",
    "dicc"
   ]
  },
  {
   "cell_type": "code",
   "execution_count": 25,
   "metadata": {},
   "outputs": [
    {
     "data": {
      "text/plain": [
       "{'clave_names': ['Luisa', 'Ana', 'Mario'], 'clave_ages': [23, 20, 21]}"
      ]
     },
     "execution_count": 25,
     "metadata": {},
     "output_type": "execute_result"
    }
   ],
   "source": [
    "dicc[\"clave_ages\"][1] = 20\n",
    "dicc"
   ]
  },
  {
   "cell_type": "markdown",
   "metadata": {},
   "source": [
    "También podríamos partir de un diccionario vacío e ir introduciéndole valores asociados a claves. De hecho, podemos hasta pedirle a un usuario que introduzca él los datos."
   ]
  },
  {
   "cell_type": "code",
   "execution_count": 28,
   "metadata": {},
   "outputs": [
    {
     "name": "stdout",
     "output_type": "stream",
     "text": [
      "Ingrese su nombre : \n",
      "aaa\n",
      "Ingrese su edad : \n",
      "1\n",
      "Escriba f si es mujer o m si es varón\n",
      "n\n",
      "******************************\n",
      "ficha\n",
      "{'names': 'aaa', 'age': 1, 'gender': 'male'}\n"
     ]
    }
   ],
   "source": [
    "usuario1 = {}\n",
    "print(\"Ingrese su nombre : \")\n",
    "usuario1[\"names\"] = str(input(\"\"))\n",
    "print(\"Ingrese su edad : \")\n",
    "usuario1[\"age\"] = int(input(\"\"))\n",
    "print(\"Escriba f si es mujer o m si es varón\")\n",
    "usuario1[\"gender\"] = \"female\" if input() == \"f\" else \"male\"\n",
    "print(\"*\"*30)\n",
    "print(\"ficha\")\n",
    "print(usuario1)"
   ]
  },
  {
   "cell_type": "markdown",
   "metadata": {},
   "source": [
    "**Observación.** La función `str()` impone que lo que sea que introduzcamos sea un dato de tipo `string`. Funciona exactamente del mismo modo que lo hacen las funciones `int()` y `float()` introducidas y utilizadas en temas anteriores."
   ]
  },
  {
   "cell_type": "markdown",
   "metadata": {},
   "source": [
    "## Tamaño de un diccionario\n",
    "\n",
    "Para saber cuántos elementos contiene un diccionario, podemos usar la función `len()`del siguiente modo:\n",
    "\n",
    "dicc = {\"fruit\": [\"Manzana\", \"Pera\", \"Naranja\"],\n",
    "        \"price\": [2, 1.5, 1],\n",
    "        \"color\": [\"roja\", \"verde\", \"naranja\"]}\n",
    "        \n",
    "print(len(dicc))"
   ]
  },
  {
   "cell_type": "code",
   "execution_count": 29,
   "metadata": {},
   "outputs": [],
   "source": [
    "dicc = {\n",
    "    \"clave_names\" : [\"Luis\",\"Ana\",\"Marx\"],\n",
    "    \"clave_ages\" : [23,10,21]\n",
    "}"
   ]
  },
  {
   "cell_type": "code",
   "execution_count": 30,
   "metadata": {},
   "outputs": [
    {
     "data": {
      "text/plain": [
       "2"
      ]
     },
     "execution_count": 30,
     "metadata": {},
     "output_type": "execute_result"
    }
   ],
   "source": [
    "len(dicc)"
   ]
  },
  {
   "cell_type": "code",
   "execution_count": 31,
   "metadata": {},
   "outputs": [
    {
     "data": {
      "text/plain": [
       "3"
      ]
     },
     "execution_count": 31,
     "metadata": {},
     "output_type": "execute_result"
    }
   ],
   "source": [
    "len(dicc[\"clave_names\"])"
   ]
  },
  {
   "cell_type": "markdown",
   "metadata": {},
   "source": [
    "## Bucles y diccionarios\n",
    "\n",
    "Para recorrer todo el diccionario, podemos hacer uso de un bucle `for`, pues el diccionario es una estructura iterable:"
   ]
  },
  {
   "cell_type": "code",
   "execution_count": 32,
   "metadata": {},
   "outputs": [],
   "source": [
    "dicc = {\n",
    "    \"name\" : \"Armando\",\n",
    "    \"surname\" : \"Díaz\",\n",
    "    \"age\" : 23,\n",
    "    \"city\" : \"Huancayo\" \n",
    "}"
   ]
  },
  {
   "cell_type": "code",
   "execution_count": 33,
   "metadata": {},
   "outputs": [
    {
     "name": "stdout",
     "output_type": "stream",
     "text": [
      "name\n",
      "surname\n",
      "age\n",
      "city\n"
     ]
    }
   ],
   "source": [
    "# Recorrer claves de un diccionario\n",
    "for key in dicc:\n",
    "    print(key)"
   ]
  },
  {
   "cell_type": "code",
   "execution_count": 35,
   "metadata": {},
   "outputs": [
    {
     "name": "stdout",
     "output_type": "stream",
     "text": [
      "name  ->  Armando\n",
      "surname  ->  Díaz\n",
      "age  ->  23\n",
      "city  ->  Huancayo\n"
     ]
    }
   ],
   "source": [
    "# Recorriendo claves y valores\n",
    "for key in dicc:\n",
    "    print(key, \" -> \",dicc[key])"
   ]
  },
  {
   "cell_type": "markdown",
   "metadata": {},
   "source": [
    "Otra forma de recorrer el diccionario sería obteniendo una lista de tuplas de la forma `(clave, valor)` para cada elemento de un diccionario, que construimos con el método `.items()`. Al ser una lista, sabemos que es iterable y podemos mostrar todas sus entradas haciendo uso de un bucle `for`."
   ]
  },
  {
   "cell_type": "code",
   "execution_count": 36,
   "metadata": {},
   "outputs": [
    {
     "data": {
      "text/plain": [
       "dict_items([('name', 'Armando'), ('surname', 'Díaz'), ('age', 23), ('city', 'Huancayo')])"
      ]
     },
     "execution_count": 36,
     "metadata": {},
     "output_type": "execute_result"
    }
   ],
   "source": [
    "dicc.items()"
   ]
  },
  {
   "cell_type": "code",
   "execution_count": 39,
   "metadata": {},
   "outputs": [
    {
     "name": "stdout",
     "output_type": "stream",
     "text": [
      "('name', 'Armando')\n",
      "('surname', 'Díaz')\n",
      "('age', 23)\n",
      "('city', 'Huancayo')\n"
     ]
    }
   ],
   "source": [
    "for item in dicc.items():\n",
    "    print(item)"
   ]
  },
  {
   "cell_type": "markdown",
   "metadata": {},
   "source": [
    "Para tener clave y valor por separado, podemos hacerlo del siguiente modo:"
   ]
  },
  {
   "cell_type": "code",
   "execution_count": 41,
   "metadata": {},
   "outputs": [
    {
     "name": "stdout",
     "output_type": "stream",
     "text": [
      "name -> Armando\n",
      "surname -> Díaz\n",
      "age -> 23\n",
      "city -> Huancayo\n"
     ]
    }
   ],
   "source": [
    "# Bucle especial en tuplas\n",
    "for key, value in dicc.items():\n",
    "    print(key,\"->\",value)"
   ]
  },
  {
   "cell_type": "markdown",
   "metadata": {},
   "source": [
    "## Diccionarios y listas\n",
    "\n",
    "Como se ha mencionado antes, un diccionario puede contener listas u otros diccionarios. Por su parte, una lista también puede contener diccionarios:"
   ]
  },
  {
   "cell_type": "code",
   "execution_count": 43,
   "metadata": {},
   "outputs": [],
   "source": [
    "dicc_1 = {\"name\": \"Elisa\",\n",
    "        \"age\": 30,\n",
    "        \"gender\": \"female\",\n",
    "        \"ID\": [4, 4, 2, 1, 5, 6, 7, 2, \"L\"],\n",
    "        \"user&password\": {\n",
    "            \"username\": \"eli88\",\n",
    "            \"password\": \"1234catsareawesome\"\n",
    "            }\n",
    "          }\n",
    "dicc_2 = {\"name\": \"Henry\",\n",
    "        \"age\": 27,\n",
    "        \"gender\": \"male\",\n",
    "        \"ID\": [1, 1, 0, 1, 3, 8, 6, 9, \"A\"],\n",
    "        \"user&password\": {\n",
    "            \"username\": \"superhenry\",\n",
    "            \"password\": \"1432superme\"\n",
    "            }\n",
    "          }"
   ]
  },
  {
   "cell_type": "code",
   "execution_count": 44,
   "metadata": {},
   "outputs": [],
   "source": [
    "lista = [dicc_1, dicc_2]"
   ]
  },
  {
   "cell_type": "code",
   "execution_count": 46,
   "metadata": {},
   "outputs": [
    {
     "name": "stdout",
     "output_type": "stream",
     "text": [
      "{'name': 'Elisa', 'age': 30, 'gender': 'female', 'ID': [4, 4, 2, 1, 5, 6, 7, 2, 'L'], 'user&password': {'username': 'eli88', 'password': '1234catsareawesome'}}\n",
      "*--------*\n",
      "{'name': 'Henry', 'age': 27, 'gender': 'male', 'ID': [1, 1, 0, 1, 3, 8, 6, 9, 'A'], 'user&password': {'username': 'superhenry', 'password': '1432superme'}}\n",
      "*--------*\n"
     ]
    }
   ],
   "source": [
    "for item in lista:\n",
    "    print(item)\n",
    "    print(\"*--------*\")"
   ]
  },
  {
   "cell_type": "markdown",
   "metadata": {},
   "source": [
    "**Ejercicio**\n",
    "\n",
    "- Tenemos un diccionario con 5 claves: `Math`, `English`, `History`, `Science`, `IT`. Cada clave contiene una lista de tamaño 3, donde cada una de esas entradas se corresponde con una nota de 0 a 10. El usuario va a ser quien introduzca esas notas por teclado. Finalmente, para cada clave, mostraremos la media de las 3 notas.\n",
    "\n",
    "PISTA: Necesitarás la función `sum()`."
   ]
  },
  {
   "cell_type": "code",
   "execution_count": 50,
   "metadata": {},
   "outputs": [
    {
     "name": "stdout",
     "output_type": "stream",
     "text": [
      "\n",
      " +--- Math ---*\n",
      "Ingrese nota del cuatrimestre 1 : 12\n",
      "Ingrese nota del cuatrimestre 2 : 12\n",
      "Ingrese nota del cuatrimestre 3 : 12\n",
      "\n",
      " +--- English ---*\n",
      "Ingrese nota del cuatrimestre 1 : 11\n",
      "Ingrese nota del cuatrimestre 2 : 11\n",
      "Ingrese nota del cuatrimestre 3 : 11\n",
      "\n",
      " +--- Hstory ---*\n",
      "Ingrese nota del cuatrimestre 1 : 14\n",
      "Ingrese nota del cuatrimestre 2 : 14\n",
      "Ingrese nota del cuatrimestre 3 : 12\n",
      "\n",
      " +--- Science ---*\n",
      "Ingrese nota del cuatrimestre 1 : 12\n",
      "Ingrese nota del cuatrimestre 2 : 13\n",
      "Ingrese nota del cuatrimestre 3 : 11\n",
      "\n",
      " +--- IT ---*\n",
      "Ingrese nota del cuatrimestre 1 : 18\n",
      "Ingrese nota del cuatrimestre 2 : 8\n",
      "Ingrese nota del cuatrimestre 3 : 14\n",
      "\n",
      "*--- Promedios ---*\n",
      "Math -> 12.0\n",
      "English -> 11.0\n",
      "Hstory -> 13.333333333333334\n",
      "Science -> 12.0\n",
      "IT -> 13.333333333333334\n"
     ]
    }
   ],
   "source": [
    "cursos = {\n",
    "    \"Math\":[],\n",
    "    \"English\":[],\n",
    "    \"Hstory\":[],\n",
    "    \"Science\":[],\n",
    "    \"IT\":[]\n",
    "}\n",
    "\n",
    "for key in cursos:\n",
    "    print(\"\\n +--- {} ---*\".format(key))\n",
    "    for idx in range(1,4):\n",
    "        cursos[key].append(float(input(\"Ingrese nota del cuatrimestre {} : \".format(idx))))\n",
    "        \n",
    "print(\"\\n*--- Promedios ---*\")\n",
    "\n",
    "for key,value in cursos.items():\n",
    "    print(key,\"->\",sum(value)/len(value))\n"
   ]
  },
  {
   "cell_type": "markdown",
   "metadata": {},
   "source": [
    "## Más métodos de diccionarios\n",
    "\n",
    "El método `.clear()` elimina todos los elementos del diccionario dejándolo vacío.\n"
   ]
  },
  {
   "cell_type": "code",
   "execution_count": 51,
   "metadata": {},
   "outputs": [
    {
     "data": {
      "text/plain": [
       "{'a': 1, 'b': 2, 'c': 3, 'd': 4}"
      ]
     },
     "execution_count": 51,
     "metadata": {},
     "output_type": "execute_result"
    }
   ],
   "source": [
    "dicc = {\"a\":1, \"b\":2, \"c\":3, \"d\":4}\n",
    "dicc"
   ]
  },
  {
   "cell_type": "code",
   "execution_count": 52,
   "metadata": {},
   "outputs": [],
   "source": [
    "dicc.clear()"
   ]
  },
  {
   "cell_type": "code",
   "execution_count": 53,
   "metadata": {},
   "outputs": [
    {
     "data": {
      "text/plain": [
       "{}"
      ]
     },
     "execution_count": 53,
     "metadata": {},
     "output_type": "execute_result"
    }
   ],
   "source": [
    "dicc"
   ]
  },
  {
   "cell_type": "markdown",
   "metadata": {},
   "source": [
    "El método `.copy()` devuelve una copia del diccionario original."
   ]
  },
  {
   "cell_type": "code",
   "execution_count": 54,
   "metadata": {},
   "outputs": [
    {
     "data": {
      "text/plain": [
       "{'a': 1, 'b': 2, 'c': 3, 'd': 4}"
      ]
     },
     "execution_count": 54,
     "metadata": {},
     "output_type": "execute_result"
    }
   ],
   "source": [
    "dicc = {\"a\":1, \"b\":2, \"c\":3, \"d\":4}\n",
    "dicc"
   ]
  },
  {
   "cell_type": "code",
   "execution_count": 55,
   "metadata": {},
   "outputs": [],
   "source": [
    "dicc_copy = dicc.copy()"
   ]
  },
  {
   "cell_type": "code",
   "execution_count": 56,
   "metadata": {},
   "outputs": [
    {
     "data": {
      "text/plain": [
       "{'a': 1, 'b': 2, 'c': 3, 'd': 4}"
      ]
     },
     "execution_count": 56,
     "metadata": {},
     "output_type": "execute_result"
    }
   ],
   "source": [
    "dicc_copy"
   ]
  },
  {
   "cell_type": "markdown",
   "metadata": {},
   "source": [
    "El método `.fromkeys()` recibe como parámetros un iterable y un valor y devuelve un diccionario que contiene como claves los elementos del iterable con el mismo valor ingresado. "
   ]
  },
  {
   "cell_type": "code",
   "execution_count": 57,
   "metadata": {},
   "outputs": [
    {
     "data": {
      "text/plain": [
       "{'a': [1, 2, 3], 'b': [1, 2, 3], 'c': [1, 2, 3], 'd': [1, 2, 3]}"
      ]
     },
     "execution_count": 57,
     "metadata": {},
     "output_type": "execute_result"
    }
   ],
   "source": [
    "dicc = dict.fromkeys([\"a\",\"b\",\"c\",\"d\"],[1,2,3])\n",
    "dicc"
   ]
  },
  {
   "cell_type": "markdown",
   "metadata": {},
   "source": [
    "**Observación.** Si el parámetro valor se deja en blanco, el método devolverá un diccionario con el valor `None` para todas las claves."
   ]
  },
  {
   "cell_type": "code",
   "execution_count": 58,
   "metadata": {},
   "outputs": [
    {
     "data": {
      "text/plain": [
       "{'a': None, 'b': None, 'c': None, 'd': None}"
      ]
     },
     "execution_count": 58,
     "metadata": {},
     "output_type": "execute_result"
    }
   ],
   "source": [
    "# None (se desconoce el valor)\n",
    "dicc = dict.fromkeys([\"a\",\"b\",\"c\",\"d\"])\n",
    "dicc"
   ]
  },
  {
   "cell_type": "markdown",
   "metadata": {},
   "source": [
    "El método `.get()` recibe como parámetro una clave y devuelve el valor de dicha clave. "
   ]
  },
  {
   "cell_type": "code",
   "execution_count": 59,
   "metadata": {},
   "outputs": [],
   "source": [
    "dicc = {\"a\":1, \"b\":2, \"c\":3, \"d\":4}"
   ]
  },
  {
   "cell_type": "code",
   "execution_count": 64,
   "metadata": {},
   "outputs": [
    {
     "data": {
      "text/plain": [
       "4"
      ]
     },
     "execution_count": 64,
     "metadata": {},
     "output_type": "execute_result"
    }
   ],
   "source": [
    "dicc.get(\"d\")"
   ]
  },
  {
   "cell_type": "code",
   "execution_count": 65,
   "metadata": {},
   "outputs": [
    {
     "name": "stdout",
     "output_type": "stream",
     "text": [
      "None\n"
     ]
    }
   ],
   "source": [
    "a = dicc.get(\"p\")\n",
    "print(a)"
   ]
  },
  {
   "cell_type": "markdown",
   "metadata": {},
   "source": [
    "El método `.pop()` recibe como parámetro una clave, la elimina y devuelve su valor. "
   ]
  },
  {
   "cell_type": "code",
   "execution_count": 66,
   "metadata": {},
   "outputs": [
    {
     "data": {
      "text/plain": [
       "{'a': 1, 'e': 2, 'i': 3, 'o': 4, 'u': 5}"
      ]
     },
     "execution_count": 66,
     "metadata": {},
     "output_type": "execute_result"
    }
   ],
   "source": [
    "dicc = {\"a\": 1, \"e\": 2, \"i\": 3, \"o\": 4, \"u\": 5}\n",
    "dicc"
   ]
  },
  {
   "cell_type": "code",
   "execution_count": 67,
   "metadata": {},
   "outputs": [
    {
     "data": {
      "text/plain": [
       "4"
      ]
     },
     "execution_count": 67,
     "metadata": {},
     "output_type": "execute_result"
    }
   ],
   "source": [
    "dicc.pop(\"o\")"
   ]
  },
  {
   "cell_type": "code",
   "execution_count": 68,
   "metadata": {},
   "outputs": [
    {
     "name": "stdout",
     "output_type": "stream",
     "text": [
      "{'a': 1, 'e': 2, 'i': 3, 'u': 5}\n"
     ]
    }
   ],
   "source": [
    "print(dicc)"
   ]
  },
  {
   "cell_type": "markdown",
   "metadata": {},
   "source": [
    "**Observación.** Si la clave indicada por parámetro del `pop` no se encuentra en el diccionario, el método devuelve error.\n",
    "\n",
    "El método `.setdefault()` puede funcionar de dos formas:\n",
    "\n",
    "- Como el método `.get()`\n",
    "- Para agregar un nuevo elemento al diccionario."
   ]
  },
  {
   "cell_type": "code",
   "execution_count": 69,
   "metadata": {},
   "outputs": [
    {
     "name": "stdout",
     "output_type": "stream",
     "text": [
      "3\n"
     ]
    }
   ],
   "source": [
    "# Como .get()\n",
    "dicc = {\"a\": 1, \"e\": 2, \"i\": 3, \"o\": 4, \"u\": 5}\n",
    "print(dicc.setdefault(\"i\"))"
   ]
  },
  {
   "cell_type": "code",
   "execution_count": 70,
   "metadata": {},
   "outputs": [
    {
     "name": "stdout",
     "output_type": "stream",
     "text": [
      "6\n",
      "{'a': 1, 'e': 2, 'i': 3, 'o': 4, 'u': 5, 'ü': 6}\n"
     ]
    }
   ],
   "source": [
    "# Para agregar nuevo elemento\n",
    "print(dicc.setdefault(\"ü\", 6))\n",
    "print(dicc)"
   ]
  },
  {
   "cell_type": "markdown",
   "metadata": {},
   "source": [
    "El método `.update()` recibe como parámetro otro diccionario. En caso de tener claves iguales, actualiza el valor de la clave repetida. En caso de no haber claves iguales, el par `clave: valor` es agregado al diccionario al que es aplicado el método."
   ]
  },
  {
   "cell_type": "code",
   "execution_count": 71,
   "metadata": {},
   "outputs": [
    {
     "name": "stdout",
     "output_type": "stream",
     "text": [
      "{'a': 1, 'e': 5, 'i': 3, 'o': 4, 'u': 5, 'b': 2, 'c': 3, 'd': 4}\n"
     ]
    }
   ],
   "source": [
    "dicc1 = {\"a\": 1, \"e\": 2, \"i\": 3, \"o\": 4, \"u\": 5}\n",
    "dicc2 = {\"a\": 1, \"b\": 2, \"c\": 3, \"d\": 4, \"e\": 5} # diccionario nuevo\n",
    "dicc1.update(dicc2)\n",
    "\n",
    "print(dicc1)"
   ]
  },
  {
   "cell_type": "markdown",
   "metadata": {},
   "source": [
    "**Ejercicio**\n",
    "\n",
    "- Dado un diccionario, vamos a solicitar al usuario una clave que quiera eliminar y vamos a eliminarla. Al final, le mostraremos el diccionario actualizado."
   ]
  },
  {
   "cell_type": "code",
   "execution_count": 1,
   "metadata": {},
   "outputs": [
    {
     "name": "stdout",
     "output_type": "stream",
     "text": [
      "Este es el diccionario original :  {'a': 1, 'e': 2, 'i': 3, 'o': 4, 'u': 5}\n",
      "Ingrese la clave que quiera elimnar : i\n",
      "Diccionario actualizado :  {'a': 1, 'e': 2, 'o': 4, 'u': 5}\n"
     ]
    }
   ],
   "source": [
    "dicc = {\"a\": 1, \"e\": 2, \"i\": 3, \"o\": 4, \"u\": 5}\n",
    "print(\"Este es el diccionario original : \", dicc)\n",
    "\n",
    "key = str(input(\"Ingrese la clave que quiera elimnar : \"))\n",
    "dicc.pop(key)\n",
    "print(\"Diccionario actualizado : \", dicc)"
   ]
  },
  {
   "cell_type": "markdown",
   "metadata": {},
   "source": [
    "## Construyendo diccionarios con dict()\n",
    "\n",
    "Para convertir un objeto iterable de `Python` a diccionario, hay que usar la función `dict()`"
   ]
  },
  {
   "cell_type": "code",
   "execution_count": 2,
   "metadata": {},
   "outputs": [
    {
     "data": {
      "text/plain": [
       "[['x', 1], ['y', 2]]"
      ]
     },
     "execution_count": 2,
     "metadata": {},
     "output_type": "execute_result"
    }
   ],
   "source": [
    "# 1\n",
    "lista = [[\"x\",1],[\"y\",2]] # 2 listas con 2 valores c/u\n",
    "lista"
   ]
  },
  {
   "cell_type": "code",
   "execution_count": 3,
   "metadata": {},
   "outputs": [
    {
     "data": {
      "text/plain": [
       "{'x': 1, 'y': 2}"
      ]
     },
     "execution_count": 3,
     "metadata": {},
     "output_type": "execute_result"
    }
   ],
   "source": [
    "dict(lista)"
   ]
  },
  {
   "cell_type": "code",
   "execution_count": 4,
   "metadata": {},
   "outputs": [
    {
     "data": {
      "text/plain": [
       "{'x': 0, 'y': 1, 'z': 2}"
      ]
     },
     "execution_count": 4,
     "metadata": {},
     "output_type": "execute_result"
    }
   ],
   "source": [
    "# 2\n",
    "dicc1 = dict(x = 0, y = 1, z = 2)\n",
    "dicc1"
   ]
  },
  {
   "cell_type": "code",
   "execution_count": 5,
   "metadata": {},
   "outputs": [
    {
     "data": {
      "text/plain": [
       "{'x': 0, 'y': 1, 'z': -1}"
      ]
     },
     "execution_count": 5,
     "metadata": {},
     "output_type": "execute_result"
    }
   ],
   "source": [
    "# 3\n",
    "dicc2 = dict({\"x\":0, \"y\":1, \"z\":-1})\n",
    "dicc2"
   ]
  },
  {
   "cell_type": "code",
   "execution_count": 7,
   "metadata": {},
   "outputs": [
    {
     "data": {
      "text/plain": [
       "{'x': 0, 'y': 1, 'z': -1}"
      ]
     },
     "execution_count": 7,
     "metadata": {},
     "output_type": "execute_result"
    }
   ],
   "source": [
    "# 4\n",
    "dicc3 = dict({\"x\":0}, y = 1, z = -1)\n",
    "dicc3"
   ]
  },
  {
   "cell_type": "markdown",
   "metadata": {},
   "source": [
    "**Ejercicio**\n",
    "\n",
    "Vamos a solicitar al usuario 8 números enteros del 0 al 9. Se supone que son los números de su DNI, que guardaremos cada uno en una entrada de una lista. A continuación, con esos números [calcularemos la letra correspondiente](https://www.serautonomo.net/como-calcular-la-letra-del-dni.html) y la guardaremos en una variable. Finalmente, crearemos un diccionario con dos claves, cada una guardará, respectivamente, los números y la letra del DNI. Finalmente, mostraremos el diccionario resultante."
   ]
  },
  {
   "cell_type": "code",
   "execution_count": 15,
   "metadata": {},
   "outputs": [
    {
     "name": "stdout",
     "output_type": "stream",
     "text": [
      "Introduce los números del DNI uno por uno : \n",
      "Ingrese número : 7\n",
      "Ingrese número : 2\n",
      "Ingrese número : 3\n",
      "Ingrese número : 6\n",
      "Ingrese número : 9\n",
      "Ingrese número : 6\n",
      "Ingrese número : 3\n",
      "Ingrese número : 9\n"
     ]
    },
    {
     "data": {
      "text/plain": [
       "{'numbers': [7, 2, 3, 6, 9, 6, 3, 9], 'letter': 'R'}"
      ]
     },
     "execution_count": 15,
     "metadata": {},
     "output_type": "execute_result"
    }
   ],
   "source": [
    "print(\"Introduce los números del DNI uno por uno : \")\n",
    "numbers = []\n",
    "for i in range(8):\n",
    "    numbers.append(int(input(\"Ingrese número : \")))\n",
    "\n",
    "# Convirtiendo los elementos de la lista a un número\n",
    "# en base 10\n",
    "\n",
    "dni  = 0\n",
    "for i in range(len(numbers)):\n",
    "    dni += 10**(len(numbers)-i-1)*numbers[i]\n",
    "\n",
    "letters = {0: \"T\", 1: \"R\", 2: \"W\", 3: \"A\", 4: \"G\", 5: \"M\", 6: \"Y\",\n",
    "       7: \"F\", 8: \"P\", 9: \"D\", 10: \"X\", 11: \"B\", 12: \"N\", 13: \"J\",\n",
    "       14: \"Z\", 15: \"S\", 16: \"Q\", 17: \"V\", 18: \"H\", 19: \"L\", 20: \"C\",\n",
    "       21: \"K\", 22: \"E\"}\n",
    "\n",
    "letter = letters[dni%23]\n",
    "DNI = {\"numbers\":numbers, \"letter\":letter}\n",
    "DNI"
   ]
  },
  {
   "cell_type": "markdown",
   "metadata": {},
   "source": [
    "**Ejercicio**\n",
    "\n",
    "- Vamos a leer un string por teclado y vamos a devolver un diccionario con la cantidad de apariciones de cada caracter en el string proporcionado por el usuario."
   ]
  },
  {
   "cell_type": "code",
   "execution_count": 20,
   "metadata": {},
   "outputs": [
    {
     "name": "stdout",
     "output_type": "stream",
     "text": [
      "Introduce una frase : hola mama\n",
      "['h', 'o', 'l', 'a', 'm']\n"
     ]
    },
    {
     "data": {
      "text/plain": [
       "{'h': 1, 'o': 1, 'l': 1, 'a': 3, 'm': 2}"
      ]
     },
     "execution_count": 20,
     "metadata": {},
     "output_type": "execute_result"
    }
   ],
   "source": [
    "cadena = str(input(\"Introduce una frase : \"))\n",
    "\n",
    "counted = []\n",
    "letters = {}\n",
    "\n",
    "cadena.lower()\n",
    "for c in cadena:\n",
    "    if c not in counted and c != \" \":\n",
    "        counted.append(c)\n",
    "        letters[c] = cadena.count(c)\n",
    "print(counted)\n",
    "letters"
   ]
  },
  {
   "cell_type": "code",
   "execution_count": 23,
   "metadata": {},
   "outputs": [
    {
     "name": "stdout",
     "output_type": "stream",
     "text": [
      "Introduce una frase: hola mama\n",
      "h\n",
      "1\n",
      "o\n",
      "1\n",
      "l\n",
      "1\n",
      "a\n",
      "3\n",
      "m\n",
      "2\n",
      "a\n",
      "3\n",
      "m\n",
      "2\n",
      "a\n",
      "3\n",
      "{'H': 1, 'O': 1, 'L': 1, 'A': 3, 'M': 2}\n"
     ]
    }
   ],
   "source": [
    "s = input(\"Introduce una frase: \")\n",
    "counted = []\n",
    "letters = {}\n",
    "\n",
    "s = s.lower()\n",
    "for c in s:\n",
    "    if c not in counted and c != \" \":\n",
    "        #print(c)\n",
    "        #print(s.count(c))\n",
    "        letters[c.upper()] = s.count(c)\n",
    "\n",
    "print(letters)"
   ]
  },
  {
   "cell_type": "code",
   "execution_count": null,
   "metadata": {},
   "outputs": [],
   "source": []
  }
 ],
 "metadata": {
  "kernelspec": {
   "display_name": "Python 3",
   "language": "python",
   "name": "python3"
  },
  "language_info": {
   "codemirror_mode": {
    "name": "ipython",
    "version": 3
   },
   "file_extension": ".py",
   "mimetype": "text/x-python",
   "name": "python",
   "nbconvert_exporter": "python",
   "pygments_lexer": "ipython3",
   "version": "3.7.3"
  }
 },
 "nbformat": 4,
 "nbformat_minor": 2
}
