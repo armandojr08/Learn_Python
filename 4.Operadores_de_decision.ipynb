{
 "cells": [
  {
   "cell_type": "markdown",
   "metadata": {},
   "source": [
    "## Boleanos\n",
    "\n",
    "**Dato Boleano.** Es un tipo de dato que puede tomar 2 valores (True o False)\n",
    "**Variable lógica.** Variable que almacena satps boolenaos"
   ]
  },
  {
   "cell_type": "code",
   "execution_count": 1,
   "metadata": {},
   "outputs": [
    {
     "data": {
      "text/plain": [
       "bool"
      ]
     },
     "execution_count": 1,
     "metadata": {},
     "output_type": "execute_result"
    }
   ],
   "source": [
    "is_adult = True\n",
    "type(is_adult)"
   ]
  },
  {
   "cell_type": "markdown",
   "metadata": {},
   "source": [
    "## Operadores lógicos\n",
    "- `not`\n",
    "- `and`\n",
    "- `or`"
   ]
  },
  {
   "cell_type": "code",
   "execution_count": 2,
   "metadata": {},
   "outputs": [
    {
     "data": {
      "text/plain": [
       "False"
      ]
     },
     "execution_count": 2,
     "metadata": {},
     "output_type": "execute_result"
    }
   ],
   "source": [
    "A = True\n",
    "not A"
   ]
  },
  {
   "cell_type": "code",
   "execution_count": 3,
   "metadata": {},
   "outputs": [
    {
     "data": {
      "text/plain": [
       "False"
      ]
     },
     "execution_count": 3,
     "metadata": {},
     "output_type": "execute_result"
    }
   ],
   "source": [
    "A,B = True, False\n",
    "A and B"
   ]
  },
  {
   "cell_type": "code",
   "execution_count": 4,
   "metadata": {},
   "outputs": [
    {
     "data": {
      "text/plain": [
       "True"
      ]
     },
     "execution_count": 4,
     "metadata": {},
     "output_type": "execute_result"
    }
   ],
   "source": [
    "A or B"
   ]
  },
  {
   "cell_type": "code",
   "execution_count": 5,
   "metadata": {},
   "outputs": [
    {
     "data": {
      "text/plain": [
       "True"
      ]
     },
     "execution_count": 5,
     "metadata": {},
     "output_type": "execute_result"
    }
   ],
   "source": [
    "A and (not B)"
   ]
  },
  {
   "cell_type": "code",
   "execution_count": 6,
   "metadata": {},
   "outputs": [
    {
     "data": {
      "text/plain": [
       "True"
      ]
     },
     "execution_count": 6,
     "metadata": {},
     "output_type": "execute_result"
    }
   ],
   "source": [
    "(not A) or (not B)"
   ]
  },
  {
   "cell_type": "code",
   "execution_count": 10,
   "metadata": {},
   "outputs": [
    {
     "data": {
      "text/plain": [
       "True"
      ]
     },
     "execution_count": 10,
     "metadata": {},
     "output_type": "execute_result"
    }
   ],
   "source": [
    "comp1 = 5 == (2+3)\n",
    "comp1"
   ]
  },
  {
   "cell_type": "markdown",
   "metadata": {},
   "source": [
    "## Operadores de comparación \n",
    "\n",
    "En `Python` podemos comparar datos y obtener un resultado booleano. Los operadores de comparación disponibles son\n",
    "\n",
    "| Operador | Significado |\n",
    "| :---: | :--- |\n",
    "| $>$ | Estrictamente mayor |\n",
    "| $\\ge$ | Mayor o igual |\n",
    "| $<$ | Estrictamente menor |\n",
    "| $\\le$ | Menor o igual |\n",
    "| $==$ | Igual |\n",
    "| $!=$ | Diferente |"
   ]
  },
  {
   "cell_type": "code",
   "execution_count": 11,
   "metadata": {},
   "outputs": [
    {
     "data": {
      "text/plain": [
       "True"
      ]
     },
     "execution_count": 11,
     "metadata": {},
     "output_type": "execute_result"
    }
   ],
   "source": [
    "7 == 7.0"
   ]
  },
  {
   "cell_type": "code",
   "execution_count": 12,
   "metadata": {},
   "outputs": [
    {
     "data": {
      "text/plain": [
       "True"
      ]
     },
     "execution_count": 12,
     "metadata": {},
     "output_type": "execute_result"
    }
   ],
   "source": [
    "7 != \"7\""
   ]
  },
  {
   "cell_type": "markdown",
   "metadata": {},
   "source": [
    "**Observación.** Observe que cuando hemos comparado el número 7 en formato integer y en formato float, hemos obtenido que eran iguales, mientras que al haber comparado el número 7 en formato integer con el mismo número, pero en formato string, nos ha devuelto que son diferentes. Esto lo que nos viene a decir es que numéricamente, `Python` considera iguales los números enteros tanto si están en formato integer como en formato float. No obstante, nunca considerará iguales dos datos donde uno esté en formato numérico y el otro, en formato string.\n",
    "\n"
   ]
  },
  {
   "cell_type": "markdown",
   "metadata": {},
   "source": [
    "## Múltiples comparaciones simultáneas"
   ]
  },
  {
   "cell_type": "code",
   "execution_count": 15,
   "metadata": {},
   "outputs": [
    {
     "name": "stdout",
     "output_type": "stream",
     "text": [
      "19\n"
     ]
    },
    {
     "data": {
      "text/plain": [
       "True"
      ]
     },
     "execution_count": 15,
     "metadata": {},
     "output_type": "execute_result"
    }
   ],
   "source": [
    "# Si tengo entre 18 y 25 años, entonces podré asistir a la fiesta\n",
    "edad = int(input())\n",
    "(edad >= 18) and (edad <=25)"
   ]
  },
  {
   "cell_type": "markdown",
   "metadata": {},
   "source": [
    "## Comparaciones en strings"
   ]
  },
  {
   "cell_type": "code",
   "execution_count": 16,
   "metadata": {},
   "outputs": [
    {
     "data": {
      "text/plain": [
       "False"
      ]
     },
     "execution_count": 16,
     "metadata": {},
     "output_type": "execute_result"
    }
   ],
   "source": [
    "'Mallorca' < 'Dubai'"
   ]
  },
  {
   "cell_type": "markdown",
   "metadata": {},
   "source": [
    "El resultado que obtenemos no se debe a que Mallorca sea mejor que Dubai, sino a que la primera letra de la primera palabra, M, no se encuentra antes en el abecedario que la primera letra de la segunda palabra, D.\n",
    "\n",
    "**Observación.** En caso de que la primera letra de cada una de las palabras comparadas coincidan, se comparan los caracteres que se encuentran en la siguiente posición. En caso de empate, seguiríamos comparando los caracteres de la tercera posición y así sucesivamente."
   ]
  },
  {
   "cell_type": "code",
   "execution_count": 27,
   "metadata": {},
   "outputs": [
    {
     "data": {
      "text/plain": [
       "False"
      ]
     },
     "execution_count": 27,
     "metadata": {},
     "output_type": "execute_result"
    }
   ],
   "source": [
    "'mallorca' < 'Madrid' # orden de diccionario"
   ]
  },
  {
   "cell_type": "markdown",
   "metadata": {},
   "source": [
    "## Métodos booleanos de strings \n",
    "\n",
    "El método `.startswith()` nos devuelve verdadero si el string empieza con el caracter o la cadena de caracteres indicado."
   ]
  },
  {
   "cell_type": "code",
   "execution_count": 31,
   "metadata": {},
   "outputs": [],
   "source": [
    "string1 = 'Lima es una ciudad preciosa'"
   ]
  },
  {
   "cell_type": "code",
   "execution_count": 32,
   "metadata": {},
   "outputs": [
    {
     "data": {
      "text/plain": [
       "False"
      ]
     },
     "execution_count": 32,
     "metadata": {},
     "output_type": "execute_result"
    }
   ],
   "source": [
    "string1.startswith('l')"
   ]
  },
  {
   "cell_type": "code",
   "execution_count": 33,
   "metadata": {},
   "outputs": [
    {
     "data": {
      "text/plain": [
       "True"
      ]
     },
     "execution_count": 33,
     "metadata": {},
     "output_type": "execute_result"
    }
   ],
   "source": [
    "string1.startswith('L')"
   ]
  },
  {
   "cell_type": "code",
   "execution_count": 34,
   "metadata": {},
   "outputs": [
    {
     "data": {
      "text/plain": [
       "False"
      ]
     },
     "execution_count": 34,
     "metadata": {},
     "output_type": "execute_result"
    }
   ],
   "source": [
    "string1.startswith('lima')"
   ]
  },
  {
   "cell_type": "code",
   "execution_count": 35,
   "metadata": {},
   "outputs": [
    {
     "data": {
      "text/plain": [
       "True"
      ]
     },
     "execution_count": 35,
     "metadata": {},
     "output_type": "execute_result"
    }
   ],
   "source": [
    "string1.startswith('Lima')"
   ]
  },
  {
   "cell_type": "markdown",
   "metadata": {},
   "source": [
    "**Observación.** Como podéis observar, `Python` diferencia entre letras en mayúscula y letras en minúscula. Por eso es que obtenemos falso al preguntar si el string empieza por m, en vez de M.\n",
    "\n",
    "El método `.endswith()` nos devuelve verdadero si el string acaba con el caracter o la cadena de caracteres indicado."
   ]
  },
  {
   "cell_type": "code",
   "execution_count": 36,
   "metadata": {},
   "outputs": [
    {
     "data": {
      "text/plain": [
       "True"
      ]
     },
     "execution_count": 36,
     "metadata": {},
     "output_type": "execute_result"
    }
   ],
   "source": [
    "string1.endswith('a')"
   ]
  },
  {
   "cell_type": "code",
   "execution_count": 37,
   "metadata": {},
   "outputs": [
    {
     "data": {
      "text/plain": [
       "False"
      ]
     },
     "execution_count": 37,
     "metadata": {},
     "output_type": "execute_result"
    }
   ],
   "source": [
    "string1.endswith('Lima')"
   ]
  },
  {
   "cell_type": "code",
   "execution_count": 38,
   "metadata": {},
   "outputs": [
    {
     "data": {
      "text/plain": [
       "True"
      ]
     },
     "execution_count": 38,
     "metadata": {},
     "output_type": "execute_result"
    }
   ],
   "source": [
    "string1.endswith('osa')"
   ]
  },
  {
   "cell_type": "markdown",
   "metadata": {},
   "source": [
    "El método `.isalnum()` nos devuelve verdadero si todos los caracteres del string son alfanuméricos."
   ]
  },
  {
   "cell_type": "code",
   "execution_count": 41,
   "metadata": {},
   "outputs": [
    {
     "data": {
      "text/plain": [
       "False"
      ]
     },
     "execution_count": 41,
     "metadata": {},
     "output_type": "execute_result"
    }
   ],
   "source": [
    "string2 = 'Luis usa Python3'\n",
    "string2.isalnum()"
   ]
  },
  {
   "cell_type": "code",
   "execution_count": 43,
   "metadata": {},
   "outputs": [
    {
     "data": {
      "text/plain": [
       "False"
      ]
     },
     "execution_count": 43,
     "metadata": {},
     "output_type": "execute_result"
    }
   ],
   "source": [
    "string3 = 'Python3.9'\n",
    "string3.isalnum()"
   ]
  },
  {
   "cell_type": "code",
   "execution_count": 44,
   "metadata": {},
   "outputs": [
    {
     "data": {
      "text/plain": [
       "True"
      ]
     },
     "execution_count": 44,
     "metadata": {},
     "output_type": "execute_result"
    }
   ],
   "source": [
    "string4 = 'Python3'\n",
    "string4.isalnum()"
   ]
  },
  {
   "cell_type": "markdown",
   "metadata": {},
   "source": [
    "**¡Cuidado!** No se consideran caracteres alfanuméricos los siguientes: espacio en blanco, !, %, ?, & y un largo etcétera.\n",
    "\n",
    "El método `.isalpha()` nos devuelve verdadero si todos los caracteres del string son del alfabeto."
   ]
  },
  {
   "cell_type": "code",
   "execution_count": 46,
   "metadata": {},
   "outputs": [
    {
     "data": {
      "text/plain": [
       "False"
      ]
     },
     "execution_count": 46,
     "metadata": {},
     "output_type": "execute_result"
    }
   ],
   "source": [
    "string5 = 'Luis usa Python3'\n",
    "string5.isalpha()"
   ]
  },
  {
   "cell_type": "code",
   "execution_count": 47,
   "metadata": {},
   "outputs": [
    {
     "data": {
      "text/plain": [
       "False"
      ]
     },
     "execution_count": 47,
     "metadata": {},
     "output_type": "execute_result"
    }
   ],
   "source": [
    "string6 = 'Luis usa Python'\n",
    "string6.isalpha()"
   ]
  },
  {
   "cell_type": "code",
   "execution_count": 48,
   "metadata": {},
   "outputs": [
    {
     "data": {
      "text/plain": [
       "True"
      ]
     },
     "execution_count": 48,
     "metadata": {},
     "output_type": "execute_result"
    }
   ],
   "source": [
    "string7 = 'LuisusaPython'\n",
    "string7.isalpha()"
   ]
  },
  {
   "cell_type": "markdown",
   "metadata": {},
   "source": [
    "El método `.isdigit()` nos devuelve verdadero si todos los caracteres del string son dígitos."
   ]
  },
  {
   "cell_type": "code",
   "execution_count": 51,
   "metadata": {},
   "outputs": [
    {
     "data": {
      "text/plain": [
       "False"
      ]
     },
     "execution_count": 51,
     "metadata": {},
     "output_type": "execute_result"
    }
   ],
   "source": [
    "string8 = '3.9'\n",
    "string8.isdigit()"
   ]
  },
  {
   "cell_type": "code",
   "execution_count": 52,
   "metadata": {},
   "outputs": [
    {
     "data": {
      "text/plain": [
       "True"
      ]
     },
     "execution_count": 52,
     "metadata": {},
     "output_type": "execute_result"
    }
   ],
   "source": [
    "string9 = '3'\n",
    "string9.isdigit()"
   ]
  },
  {
   "cell_type": "code",
   "execution_count": 53,
   "metadata": {},
   "outputs": [
    {
     "data": {
      "text/plain": [
       "False"
      ]
     },
     "execution_count": 53,
     "metadata": {},
     "output_type": "execute_result"
    }
   ],
   "source": [
    "string10 = 'usoPython3'\n",
    "string10.isdigit()"
   ]
  },
  {
   "cell_type": "markdown",
   "metadata": {},
   "source": [
    "El método `.isspace()` nos devuelve verdadero si todos los caracteres del string son espacios en blanco."
   ]
  },
  {
   "cell_type": "code",
   "execution_count": 54,
   "metadata": {},
   "outputs": [
    {
     "data": {
      "text/plain": [
       "True"
      ]
     },
     "execution_count": 54,
     "metadata": {},
     "output_type": "execute_result"
    }
   ],
   "source": [
    "string1 = '     '\n",
    "string1.isspace()"
   ]
  },
  {
   "cell_type": "code",
   "execution_count": 55,
   "metadata": {},
   "outputs": [
    {
     "data": {
      "text/plain": [
       "False"
      ]
     },
     "execution_count": 55,
     "metadata": {},
     "output_type": "execute_result"
    }
   ],
   "source": [
    "string1 = 'hola '\n",
    "string1.isspace()"
   ]
  },
  {
   "cell_type": "markdown",
   "metadata": {},
   "source": [
    "El método `.islower()` nos devuelve verdadero si todos los caracteres del string están en minúscula."
   ]
  },
  {
   "cell_type": "code",
   "execution_count": 56,
   "metadata": {},
   "outputs": [
    {
     "data": {
      "text/plain": [
       "False"
      ]
     },
     "execution_count": 56,
     "metadata": {},
     "output_type": "execute_result"
    }
   ],
   "source": [
    "s = \"Mi gato se llama Bigotes\"\n",
    "s.islower()"
   ]
  },
  {
   "cell_type": "code",
   "execution_count": 57,
   "metadata": {},
   "outputs": [
    {
     "data": {
      "text/plain": [
       "True"
      ]
     },
     "execution_count": 57,
     "metadata": {},
     "output_type": "execute_result"
    }
   ],
   "source": [
    "s = \"me gusta hacer puzzles\"\n",
    "s.islower()"
   ]
  },
  {
   "cell_type": "markdown",
   "metadata": {},
   "source": [
    "El método `.isupper()` nos devuelve verdadero si todos los caracteres del string están en mayúscula."
   ]
  },
  {
   "cell_type": "code",
   "execution_count": 58,
   "metadata": {},
   "outputs": [
    {
     "data": {
      "text/plain": [
       "False"
      ]
     },
     "execution_count": 58,
     "metadata": {},
     "output_type": "execute_result"
    }
   ],
   "source": [
    "s = \"Mi gato se llama Bigotes\"\n",
    "s.isupper()"
   ]
  },
  {
   "cell_type": "code",
   "execution_count": 59,
   "metadata": {},
   "outputs": [
    {
     "data": {
      "text/plain": [
       "True"
      ]
     },
     "execution_count": 59,
     "metadata": {},
     "output_type": "execute_result"
    }
   ],
   "source": [
    "s = \"ME GUSTA HACER PUZZLES\"\n",
    "s.isupper()"
   ]
  },
  {
   "cell_type": "markdown",
   "metadata": {},
   "source": [
    "El método `.istitle()` nos devuelve verdadero si todas las palabras del string empiezan en mayúscula y el resto de las letras de la palabra están en minúscula."
   ]
  },
  {
   "cell_type": "code",
   "execution_count": 60,
   "metadata": {},
   "outputs": [
    {
     "data": {
      "text/plain": [
       "True"
      ]
     },
     "execution_count": 60,
     "metadata": {},
     "output_type": "execute_result"
    }
   ],
   "source": [
    "s = \"Platero Y Yo\"\n",
    "s.istitle()"
   ]
  },
  {
   "cell_type": "code",
   "execution_count": 61,
   "metadata": {},
   "outputs": [
    {
     "data": {
      "text/plain": [
       "False"
      ]
     },
     "execution_count": 61,
     "metadata": {},
     "output_type": "execute_result"
    }
   ],
   "source": [
    "s = \"PLATERO Y YO\"\n",
    "s.istitle()"
   ]
  },
  {
   "cell_type": "markdown",
   "metadata": {},
   "source": [
    "## Operadores de decisión"
   ]
  },
  {
   "cell_type": "markdown",
   "metadata": {},
   "source": [
    "**Los operadores `if` y `else`**"
   ]
  },
  {
   "cell_type": "markdown",
   "metadata": {},
   "source": [
    "if condition :\n",
    "    - consecuencia"
   ]
  },
  {
   "cell_type": "markdown",
   "metadata": {},
   "source": [
    "**¡Cuidado!** La sintaxis de los dos puntos después de la condición y la indentación (equivalente a una tabulación, un total de 4 espacios en blanco) que precede a la consecuencia es muy importante. De hecho, si se omite alguna de las dos cosas o bien nos pasamos de indentación, nos saltará error.\n",
    "\n",
    "- Si queréis hacer una tabulación, debéis pulsar el tabulador una vez. \n",
    "- Podéis hacer tabulaciones en bloque seleccionando las líneas de código que queráis indentar y, a continuación, pulsando el tabulador.\n",
    "- Podéis deshacer tabulaciones pulsando Shift + Tab\n",
    "- Podéis deshacer tabulaciones en bloque seleccionando las líneas de código que queráis desindentar y, a continuación, pulsando el Shift + Tab.\n"
   ]
  },
  {
   "cell_type": "code",
   "execution_count": 74,
   "metadata": {},
   "outputs": [
    {
     "name": "stdout",
     "output_type": "stream",
     "text": [
      "Ingrese su edad : aa\n",
      "Ingresa una edad válida.\n",
      "La edad ingresada debe ser un número entero\n"
     ]
    }
   ],
   "source": [
    "# Si es mayor a 18, puede ingresar a la fiesta\n",
    "edad = input('Ingrese su edad : ')\n",
    "if edad.isdigit():\n",
    "    edad = int(edad)\n",
    "    if edad >= 18:\n",
    "        print(\"Puede ingresar a la fiesta\")\n",
    "    else :\n",
    "        print('Usted no puede entrar a la fiesta')\n",
    "else :\n",
    "    print('Ingresa una edad válida.\\nLa edad ingresada debe ser un número entero')"
   ]
  },
  {
   "cell_type": "code",
   "execution_count": 93,
   "metadata": {},
   "outputs": [
    {
     "name": "stdout",
     "output_type": "stream",
     "text": [
      "Ingrese una frase : hola como estas\n",
      "El strng posee 2 espacios em blanco\n"
     ]
    }
   ],
   "source": [
    "# Si hay espacios en blanco, el programa debe devolver la \n",
    "# cantidad de espacios en blanco\n",
    "\n",
    "s = input('Ingrese una frase : ')\n",
    "if \" \" in s:\n",
    "    print(\"El strng posee {} espacios em blanco\".format(s.count(\" \")))"
   ]
  },
  {
   "cell_type": "code",
   "execution_count": 94,
   "metadata": {},
   "outputs": [
    {
     "name": "stdout",
     "output_type": "stream",
     "text": [
      "Ingrese una frase : hola como estas\n",
      "El string ingresado posee 2 espacios en blanco\n"
     ]
    }
   ],
   "source": [
    "s = input(\"Ingrese una frase : \")\n",
    "caracter = \" \"\n",
    "if caracter in s:\n",
    "    count = s.count(caracter)\n",
    "    print(\"El string ingresado posee\",count,\"espacios en blanco\")"
   ]
  },
  {
   "cell_type": "code",
   "execution_count": 106,
   "metadata": {},
   "outputs": [
    {
     "name": "stdout",
     "output_type": "stream",
     "text": [
      "Ingrese el coeficiente de A : 0\n",
      "Ingrese el término independiente : 1\n",
      "****************************************\n",
      "El coeficiente de A debe ser distnto de 0\n"
     ]
    }
   ],
   "source": [
    "# Realizar un programa que resuelva ecuaciones de primer grado\n",
    "# de la forma Ax + B = 0. Los coeficientes de la ecuación deben\n",
    "# ser números enteros\n",
    "\n",
    "num1 = input(\"Ingrese el coeficiente de A : \")\n",
    "num2 = input(\"Ingrese el término independiente : \")\n",
    "\n",
    "if num1.isdigit() and num2.isdigit():\n",
    "    num1 = int(num1)\n",
    "    num2 = int(num2)\n",
    "    if num1 != 0 :\n",
    "        x = -num2/num1\n",
    "        print(x)\n",
    "    else:\n",
    "        print(\"*\"*40)\n",
    "        print(\"El coeficiente de A debe ser distnto de 0\")\n",
    "else:\n",
    "    print(\"*\"*40)\n",
    "    print(\"Debes usar el teclado numérico e\\ningresar números enteros.\")"
   ]
  },
  {
   "cell_type": "markdown",
   "metadata": {},
   "source": [
    " **El operador `elif`**\n",
    "\n",
    "Ahora, en vez de comprobar si se cumple o no una condición, nos podríamos preguntar cómo haríamos para comprobar más de una condición. Podríamos hacerlo a lo bruto anidando operadores `if`, esto es, metiendo un `if` dentro de otro; o bien, podríamos hacerlo utilizando el operador de decisión `elif`.\n",
    "\n",
    "El operador `elif` funciona del siguiente modo: se empieza con un operador `if`; si la condición de este no se cumple, pasamos a la siguiente condición posible precedida de un `elif`; si esta tampoco se cumple, pasamos al siguiente `elif`; seguimos así hasta que o bien se satisface alguna condición y realizamos su consecuencia, o hasta llegar al `else`, que implica que no se ha satisfecho ninguna de las condiciones anteriores.\n"
   ]
  },
  {
   "cell_type": "code",
   "execution_count": 118,
   "metadata": {},
   "outputs": [
    {
     "name": "stdout",
     "output_type": "stream",
     "text": [
      "Ingrese los años de experiencia que posee : 3\n",
      "Basico\n"
     ]
    }
   ],
   "source": [
    "# Crear un programa donde el usuario los años de experiencia\n",
    "# que posee. Si posee menos de 5 años, el programa debe \n",
    "# clasificarlo como Junior, si posee entre 5 y 10 años,\n",
    "# el programa debe clasficarlo como \"Intermedio\", si posee\n",
    "# entre 11 y 20 años, el programa debe clasificarlo como\n",
    "# Avanzado, de lo contrario, el programa debe clasificarlo\n",
    "# como Muy experto\n",
    "\n",
    "años_exp = int(input(\"Ingrese los años de experiencia que posee : \"))\n",
    "\n",
    "if años_exp < 0:\n",
    "    print(\"Usted debe ingresar un número entero positivo\")\n",
    "elif años_exp == 0:\n",
    "    print(\"Inexperto\")\n",
    "elif años_exp < 5:\n",
    "    print(\"Basico\")\n",
    "elif años_exp < 11:\n",
    "    print(\"Intermedio\")\n",
    "elif años_exp <= 20:\n",
    "    print(\"Avanzado\")\n",
    "else:\n",
    "    print(\"Muy avanzado\")"
   ]
  },
  {
   "cell_type": "markdown",
   "metadata": {},
   "source": [
    "**El operador ternario**\n",
    "\n",
    "Si queremos hacer un simple `if` / `else` en una sola línea de código, podemos utilizar el operador ternario, que tiene la siguiente estructura:"
   ]
  },
  {
   "cell_type": "markdown",
   "metadata": {},
   "source": [
    "Por ejemplo, hagamos el caso de mayor de edad. Si la edad es mayor o igual a 18, entonces es mayor de edad. Si no, entonces es menor de edad."
   ]
  },
  {
   "cell_type": "code",
   "execution_count": 121,
   "metadata": {},
   "outputs": [
    {
     "name": "stdout",
     "output_type": "stream",
     "text": [
      "Ingrese su edad : 1\n",
      "Eres menor de edad\n"
     ]
    }
   ],
   "source": [
    "# Si tienes más de 18 años eres mayor de edad\n",
    "edad = int(input(\"Ingrese su edad : \"))\n",
    "texto1 = \"Eres mayor de edad\"\n",
    "texto2 = \"Eres menor de edad\"\n",
    "print(texto1) if edad >=18 else print(texto2)"
   ]
  },
  {
   "cell_type": "code",
   "execution_count": 127,
   "metadata": {},
   "outputs": [
    {
     "name": "stdout",
     "output_type": "stream",
     "text": [
      "Ingrese un número : 0\n",
      "El número es par\n"
     ]
    }
   ],
   "source": [
    "# Comprobar si un número es par o impar\n",
    "num = int(input(\"Ingrese un número : \"))\n",
    "msj = \"El número es par\" if num%2 == 0 else \"el numero es impar\"\n",
    "print(msj)"
   ]
  },
  {
   "cell_type": "code",
   "execution_count": 8,
   "metadata": {},
   "outputs": [
    {
     "name": "stdout",
     "output_type": "stream",
     "text": [
      "Ingrese año : 1992\n",
      "El año 1992 es bisiesto\n"
     ]
    }
   ],
   "source": [
    "# Comprobar si un año es bisiesto. Un año es bisiesto si es\n",
    "# divisible entre cuatro pero no es múltiplo de cien, a no ser\n",
    "# que lo sea de 400\n",
    "\n",
    "year = int(input(\"Ingrese año : \"))\n",
    "\n",
    "if year % 4 == 0:\n",
    "    if year % 100 == 0:\n",
    "        if year % 400 == 0:\n",
    "            print(\"El año {} es bisiesto\".format(year))\n",
    "        else : print(\"El año {} no es bisiesto\".format(year))\n",
    "    else : print(\"El año {} es bisiesto\".format(year))\n",
    "else: print(\"El año {} no es bisiesto\". format(year))"
   ]
  },
  {
   "cell_type": "code",
   "execution_count": 26,
   "metadata": {},
   "outputs": [
    {
     "name": "stdout",
     "output_type": "stream",
     "text": [
      "Ingrese su nombre : ana\n",
      "La longitud de caracteres de su nombre no es mayor a 10\n"
     ]
    }
   ],
   "source": [
    "# Realizar un programa donde el usuario debe ingresar su nombre\n",
    "#, si la longitud de este es mayor a 10, entonces se debe mostrar\n",
    "# los resultados\n",
    "\n",
    "name = input(\"Ingrese su nombre : \")\n",
    "msj1 = \"La longitud de caracteres de su nombre es mayor a 10\"\n",
    "msj2 = \"La longitud de caracteres de su nombre no es mayor a 10\"\n",
    "\n",
    "print(msj1) if len(name)>10 else print(msj2)"
   ]
  },
  {
   "cell_type": "code",
   "execution_count": 29,
   "metadata": {},
   "outputs": [
    {
     "name": "stdout",
     "output_type": "stream",
     "text": [
      "Ingrese el primer número12\n",
      "Ingrese el segundo número11\n",
      "El primer número es mayor que el segundo\n"
     ]
    }
   ],
   "source": [
    "num1 = int(input(\"Ingrese el primer número\"))\n",
    "num2 = int(input(\"Ingrese el segundo número\"))\n",
    "\n",
    "msj1 = \"El primer número es mayor que el segundo\"\n",
    "msj2 = \"El primer número es menor que el segundo\"\n",
    "msj3 = \"El primer número es igual que el segundo\"\n",
    "\n",
    "if num1 >= num2 :\n",
    "    if num1 == num2 :\n",
    "        print(msj3)\n",
    "    else : print(msj1)\n",
    "else : print(msj2)\n"
   ]
  },
  {
   "cell_type": "code",
   "execution_count": 49,
   "metadata": {},
   "outputs": [
    {
     "name": "stdout",
     "output_type": "stream",
     "text": [
      "Ingrese el dividendo : 7\n",
      "Ingrese el divisor : 18\n",
      "****************************************\n",
      "El primer número es menor que el segundo\n",
      "El divisor debe ser menor que el dividendo\n",
      "Se procederá a intercambiar los valores\n",
      "********************\n",
      "Dividendo : 18 , divisor : 7\n",
      "La división no es entera\n",
      "el cociente es 2 y el residuo es 4.\n"
     ]
    }
   ],
   "source": [
    "# Crea un programa que dé como resultados si la división es\n",
    "# entera.\n",
    "\n",
    "num1 = int(input(\"Ingrese el dividendo : \"))\n",
    "num2 = int(input(\"Ingrese el divisor : \"))\n",
    "\n",
    "msj1 = \"El primer número es mayor que el segundo\"\n",
    "msj2 = \"El primer número es menor que el segundo\"\n",
    "\n",
    "print(\"*\"*40)\n",
    "if num1 >= num2:\n",
    "    print(msj1)\n",
    "    if num1 % num2 == 0:\n",
    "        q = num1/num2\n",
    "        print(\"La división es entera, el cociente es {}\".format(q))\n",
    "    else :\n",
    "        q = num1//num2\n",
    "        r = num1 % num2\n",
    "        print(\"La división no es entera\\nel cociente es {} y el residuo es {}.\".format(q,r))\n",
    "else :\n",
    "    print(msj2)\n",
    "    print(\"El divisor debe ser menor que el dividendo\")\n",
    "    print(\"Se procederá a intercambiar los valores\")\n",
    "    print(\"*\"*20)\n",
    "    print(\"Dividendo :\",num2,\", divisor :\",num1)\n",
    "    num1,num2 = num2,num1\n",
    "    if num1 % num2 == 0:\n",
    "        q = num1/num2\n",
    "        print(\"La división es entera, el cociente es {}\".format(q))\n",
    "    else :\n",
    "        q = num1//num2\n",
    "        r = num1 % num2\n",
    "        print(\"La división no es entera\\nel cociente es {} y el residuo es {}.\".format(q,r))\n"
   ]
  },
  {
   "cell_type": "code",
   "execution_count": 137,
   "metadata": {},
   "outputs": [
    {
     "name": "stdout",
     "output_type": "stream",
     "text": [
      "****************************************\n",
      "Ecuación de segundo grado : Ax^2 + Bx + C = 0\n",
      "Ingrese el coeficiente de A : 1\n",
      "Ingrese el coeficiente de B : -4\n",
      "Ingrese el término independiente : 4\n",
      "****************************************\n",
      "Existe solo una solución\n",
      "La solución de la ecuación es : 2.0\n"
     ]
    }
   ],
   "source": [
    "# Solución de una ecuación de segundo grado\n",
    "from math import sqrt\n",
    "print(\"*\"*40)\n",
    "print(\"Ecuación de segundo grado : Ax^2 + Bx + C = 0\")\n",
    "a = float(input(\"Ingrese el coeficiente de A : \"))\n",
    "b = float(input(\"Ingrese el coeficiente de B : \"))\n",
    "c = float(input(\"Ingrese el término independiente : \"))\n",
    "print(\"*\"*40)\n",
    "disc = b**2-4*a*c\n",
    "if disc >= 0:\n",
    "    if disc == 0:\n",
    "        print(\"Existe solo una solución\")\n",
    "        sol = -b/(2*a)\n",
    "        print(\"La solución de la ecuación es :\",sol)\n",
    "    else :\n",
    "        print(\"Existen 2 soluciones\")\n",
    "        sol1 = (-b - sqrt(disc))/(2*a)\n",
    "        sol2 = (-b + sqrt(disc))/(2*a)\n",
    "        print(\"La soluciones de la ecuacion son {} y {}\".format(sol1,sol2))\n",
    "else:\n",
    "    print(\"No existe solución en los reales\")"
   ]
  },
  {
   "cell_type": "code",
   "execution_count": 122,
   "metadata": {},
   "outputs": [
    {
     "data": {
      "text/plain": [
       "4.0"
      ]
     },
     "execution_count": 122,
     "metadata": {},
     "output_type": "execute_result"
    }
   ],
   "source": [
    "sqrt(16)"
   ]
  },
  {
   "cell_type": "code",
   "execution_count": null,
   "metadata": {},
   "outputs": [],
   "source": []
  }
 ],
 "metadata": {
  "kernelspec": {
   "display_name": "Python 3",
   "language": "python",
   "name": "python3"
  },
  "language_info": {
   "codemirror_mode": {
    "name": "ipython",
    "version": 3
   },
   "file_extension": ".py",
   "mimetype": "text/x-python",
   "name": "python",
   "nbconvert_exporter": "python",
   "pygments_lexer": "ipython3",
   "version": "3.7.3"
  }
 },
 "nbformat": 4,
 "nbformat_minor": 2
}
