{
 "cells": [
  {
   "cell_type": "markdown",
   "metadata": {},
   "source": [
    "# Tupla\n",
    "\n",
    "La última estructura que veremos son las tuplas. Éstas son un conjunto de elementos, que pueden ser de distintos tipos, separados por comas y escritos entre paréntesis, `()`.\n",
    "\n",
    "Las tuplas son:\n",
    "- hetereogéneas: los elementos pueden ser de distinto tipo en una misma tupla\n",
    "- no mutables: los elementos no pueden ser modifcados una vez la tupla ha sido creado\n",
    "\n",
    "Un ejemplo de tupla sería"
   ]
  },
  {
   "cell_type": "code",
   "execution_count": 1,
   "metadata": {},
   "outputs": [
    {
     "data": {
      "text/plain": [
       "('Juan', 23, 'Ingeniero', True)"
      ]
     },
     "execution_count": 1,
     "metadata": {},
     "output_type": "execute_result"
    }
   ],
   "source": [
    "t = (\"Juan\", 23, \"Ingeniero\", True)\n",
    "t"
   ]
  },
  {
   "cell_type": "code",
   "execution_count": 2,
   "metadata": {},
   "outputs": [
    {
     "name": "stdout",
     "output_type": "stream",
     "text": [
      "('Juan', 23, 'Administrador', False)\n"
     ]
    },
    {
     "data": {
      "text/plain": [
       "tuple"
      ]
     },
     "execution_count": 2,
     "metadata": {},
     "output_type": "execute_result"
    }
   ],
   "source": [
    "t = \"Juan\", 23, \"Administrador\", False # No recomendable\n",
    "print(t)\n",
    "type(t)"
   ]
  },
  {
   "cell_type": "code",
   "execution_count": 5,
   "metadata": {},
   "outputs": [
    {
     "data": {
      "text/plain": [
       "('Luis', 14)"
      ]
     },
     "execution_count": 5,
     "metadata": {},
     "output_type": "execute_result"
    }
   ],
   "source": [
    "t = tuple((\"Luis\",14))\n",
    "t"
   ]
  },
  {
   "cell_type": "code",
   "execution_count": 6,
   "metadata": {},
   "outputs": [
    {
     "data": {
      "text/plain": [
       "(12, 14, 18)"
      ]
     },
     "execution_count": 6,
     "metadata": {},
     "output_type": "execute_result"
    }
   ],
   "source": [
    "tuple([12,14,18])"
   ]
  },
  {
   "cell_type": "markdown",
   "metadata": {},
   "source": [
    "**Ejercicio**\n",
    "\n",
    "Vamos a pedirle al usuario el número de números enteros que va a introducir por teclado. Para cada uno de esos números, vamos a crear una tupla donde la primera entrada sea el número entero y, la segunda, la palabra \"positivo\", \"negativo\" o \"cero\" según el signo del número entero. Vamos a guardar todas las tuplas en una lista y las vamos a mostrar."
   ]
  },
  {
   "cell_type": "code",
   "execution_count": 8,
   "metadata": {},
   "outputs": [
    {
     "name": "stdout",
     "output_type": "stream",
     "text": [
      "Cuántos números ingresará : 4\n",
      "Ingrese número : -1\n",
      "Ingrese número : 0\n",
      "Ingrese número : -7\n",
      "Ingrese número : 8\n",
      "[(-1, 'Negativo'), (0, 'Cero'), (-7, 'Negativo'), (8, 'Positivo')]\n"
     ]
    }
   ],
   "source": [
    "nums = int(input(\"Cuántos números ingresará : \"))\n",
    "\n",
    "signo_numbers = []\n",
    "for i in range(nums):\n",
    "    sign = \"\"\n",
    "    num = int(input(\"Ingrese número : \"))\n",
    "    if num > 0:\n",
    "        sign = \"Positivo\"\n",
    "    elif num == 0:\n",
    "        sign = \"Cero\"\n",
    "    else:\n",
    "        sign = \"Negativo\"\n",
    "    signo_numbers.append((num, sign))\n",
    "\n",
    "print(signo_numbers)"
   ]
  },
  {
   "cell_type": "markdown",
   "metadata": {},
   "source": [
    "**Ejercicio**\n",
    "\n",
    "Vamos a pedirle al usuario números enteros del 1 al 10 hasta que introduzca el 0. Para cada uno de esos números, vamos a crear una tupla donde la primera entrada sea el número entero y, la segunda, la palabra \"suspenso\", \"aprobado\", \"notable\" o \"excelente\" según el intervalo al que pertenezca el número entero. Vamos a mostrar la tupla recién creada al usuario.\n",
    "\n",
    "Las diferentes categorías son: \n",
    "* suspenso si la nota pertenece a [1, 5)\n",
    "* aprobado si la nota pertenece a [5, 7)\n",
    "* notable si la nota pertenece a [7, 9)\n",
    "* excelente si la nota pertenece a [9, 10]"
   ]
  },
  {
   "cell_type": "code",
   "execution_count": 27,
   "metadata": {},
   "outputs": [
    {
     "name": "stdout",
     "output_type": "stream",
     "text": [
      "Ingrese números, si ingresa el número 0, el proceso termina\n",
      "Ingrese número : 4\n",
      "Ingrese número : 7\n",
      "Ingrese número : 9\n",
      "Ingrese número : 10\n",
      "Ingrese número : 0\n",
      "4\n"
     ]
    },
    {
     "data": {
      "text/plain": [
       "[(4, 'suspenso'), (7, 'notable'), (9, 'excelente'), (10, 'excelente')]"
      ]
     },
     "execution_count": 27,
     "metadata": {},
     "output_type": "execute_result"
    }
   ],
   "source": [
    "print(\"Ingrese números, si ingresa el número 0, el proceso termina\")\n",
    "num = int(input(\"Ingrese número : \"))\n",
    "if num == 0:\n",
    "    print(\"Obligatoriamente, debe ingresar un número\")\n",
    "    nums = []\n",
    "elif num > 0 and num <= 10 :\n",
    "    nums = [num]\n",
    "    while num != 0:\n",
    "        num = int(input(\"Ingrese número : \"))\n",
    "        if num != 0:\n",
    "            nums.append(num)\n",
    "else:\n",
    "    nums = []\n",
    "    print(\"Ingrese solo números entre 1 y 10\")\n",
    "\n",
    "if len(nums) != 0 :\n",
    "    t = len(nums)\n",
    "    print(t)\n",
    "    for i in range(t):\n",
    "        if nums[i] < 5:\n",
    "            nums[i] = (nums[i], \"suspenso\")\n",
    "        elif nums[i] < 7:\n",
    "            nums[i] = (nums[i], \"aprobado\")\n",
    "        elif nums[i] < 9:\n",
    "            nums[i] = (nums[i], \"notable\")\n",
    "        else:\n",
    "            nums[i] = (nums[i], \"excelente\")\n",
    "nums"
   ]
  },
  {
   "cell_type": "code",
   "execution_count": 1,
   "metadata": {},
   "outputs": [
    {
     "name": "stdout",
     "output_type": "stream",
     "text": [
      "Introduce un número entero del 1 al 10 9\n",
      "(9, 'Excelente')\n",
      "Introduce un número entero del 1 al 10 10\n",
      "(10, 'Excelente')\n",
      "Introduce un número entero del 1 al 10 6\n",
      "(6, 'Aprobado')\n",
      "Introduce un número entero del 1 al 10 0\n"
     ]
    }
   ],
   "source": [
    "num = int(input(\"Introduce un número entero del 1 al 10 \"))\n",
    "\n",
    "while num != 0:\n",
    "    grade = \"\"\n",
    "    if num < 1:\n",
    "        print(\"Debes introducir un número entero entre 1 y 10\")\n",
    "    elif num < 5:\n",
    "        grade = \"Suspenso\"\n",
    "        print((num, grade))\n",
    "    elif num < 7:\n",
    "        grade = \"Aprobado\"\n",
    "        print((num, grade))\n",
    "    elif num < 9:\n",
    "        grade = \"Notable\"\n",
    "        print((num, grade))\n",
    "    elif num <= 10:\n",
    "        grade = \"Excelente\"\n",
    "        print((num, grade))\n",
    "    else:\n",
    "        print(\"Debes introducir un número entero entre 1 y 10\")\n",
    "\n",
    "    num = int(input(\"Introduce un número entero del 1 al 10 \"))"
   ]
  },
  {
   "cell_type": "markdown",
   "metadata": {},
   "source": [
    "**Ejercicio**\n",
    "\n",
    "Dada una frase introducida por el usuario, vamos a crear una lista con 3 tuplas de 2 entradas. La primera tupla contendrá el número de vocales; la segunda, el número de consonantes; y la última, el número de espacios en blanco. Para cada tupla, la primera entrada será un string explicativo y, la segunda, el valor correspondiente."
   ]
  },
  {
   "cell_type": "code",
   "execution_count": 3,
   "metadata": {},
   "outputs": [
    {
     "name": "stdout",
     "output_type": "stream",
     "text": [
      "Ingrese su frase : mi perro se llama anibal\n"
     ]
    },
    {
     "data": {
      "text/plain": [
       "[('Vocales', 9), ('Consponantes', 11, 'Espacios en blanco', 4)]"
      ]
     },
     "execution_count": 3,
     "metadata": {},
     "output_type": "execute_result"
    }
   ],
   "source": [
    "frase = input(\"Ingrese su frase : \")\n",
    "\n",
    "frase.lower()\n",
    "vocales = ['a','e','i','o','u']\n",
    "voc_count = 0\n",
    "cons_count = 0\n",
    "esp_count = 0\n",
    "\n",
    "for e in frase:\n",
    "    if e in vocales:\n",
    "        voc_count += 1\n",
    "    elif e == \" \":\n",
    "        esp_count += 1\n",
    "    else:\n",
    "        cons_count += 1\n",
    "info = [(\"Vocales\", voc_count),(\"Consonantes\", cons_count,\"Espacios en blanco\", esp_count)]\n",
    "info"
   ]
  },
  {
   "cell_type": "markdown",
   "metadata": {},
   "source": [
    "## Elementos de una tupla\n",
    "\n",
    "Podemos acceder a los elementos de una tupla mediante el índice que ocupan con la sintaxis de claudator, `[]`"
   ]
  },
  {
   "cell_type": "code",
   "execution_count": 4,
   "metadata": {},
   "outputs": [
    {
     "name": "stdout",
     "output_type": "stream",
     "text": [
      "Juan\n",
      "1500\n"
     ]
    }
   ],
   "source": [
    "t = (\"Juan\", 23, \"Java\", 1500, True)\n",
    "print(t[0])\n",
    "print(t[3])"
   ]
  },
  {
   "cell_type": "code",
   "execution_count": 5,
   "metadata": {},
   "outputs": [
    {
     "name": "stdout",
     "output_type": "stream",
     "text": [
      "True\n",
      "Java\n"
     ]
    }
   ],
   "source": [
    "print(t[-1])\n",
    "print(t[-3])"
   ]
  },
  {
   "cell_type": "code",
   "execution_count": 13,
   "metadata": {},
   "outputs": [
    {
     "name": "stdout",
     "output_type": "stream",
     "text": [
      "(23, 'Java')\n",
      "('Juan', 23, 'Java', 1500)\n"
     ]
    }
   ],
   "source": [
    "print(t[1:3])\n",
    "print(t[0:4])"
   ]
  },
  {
   "cell_type": "markdown",
   "metadata": {},
   "source": [
    "**Observación.** Recordar que \n",
    "- el índice indicado tras los dos puntos, `:`, nunca es incluido.\n",
    "- si no se indica índice a la izquierda de `:`, se considera desde el índice 0 hasta el inmediatamente anterior al indicado a la derecha de `:`\n",
    "- si no se indica índice a la derecha de `:`, se considera desde el índice indicado a la izquierda de `:` hasta el último elemento\n",
    "\n",
    "También podemos usar índices negativos con la función `:`"
   ]
  },
  {
   "cell_type": "code",
   "execution_count": 14,
   "metadata": {},
   "outputs": [
    {
     "name": "stdout",
     "output_type": "stream",
     "text": [
      "(23, 'Java', 1500, True)\n",
      "('Juan', 23, 'Java')\n",
      "('Java', 1500)\n"
     ]
    }
   ],
   "source": [
    "print(t[1:])\n",
    "print(t[:3])\n",
    "print(t[-3:-1])"
   ]
  },
  {
   "cell_type": "code",
   "execution_count": 16,
   "metadata": {},
   "outputs": [
    {
     "name": "stdout",
     "output_type": "stream",
     "text": [
      "True\n"
     ]
    }
   ],
   "source": [
    "print(1500 in t)"
   ]
  },
  {
   "cell_type": "markdown",
   "metadata": {},
   "source": [
    "Hemos dicho que las tuplas son inmutables. Esto es, una vez creada la tupla, sus elementos no pueden ser modificados"
   ]
  },
  {
   "cell_type": "code",
   "execution_count": 17,
   "metadata": {},
   "outputs": [
    {
     "data": {
      "text/plain": [
       "('a', 'm', 'o', 'r')"
      ]
     },
     "execution_count": 17,
     "metadata": {},
     "output_type": "execute_result"
    }
   ],
   "source": [
    "t = (\"a\",\"m\",\"o\",\"r\")\n",
    "t"
   ]
  },
  {
   "cell_type": "code",
   "execution_count": 20,
   "metadata": {},
   "outputs": [],
   "source": [
    "#t[2] = \"a\" # No se puede"
   ]
  },
  {
   "cell_type": "markdown",
   "metadata": {},
   "source": [
    "Una alternativa sería convertir a lista, realizar la modificación y reconvertir a tupla"
   ]
  },
  {
   "cell_type": "code",
   "execution_count": 22,
   "metadata": {},
   "outputs": [
    {
     "name": "stdout",
     "output_type": "stream",
     "text": [
      "('Cereza', 'Kiwi', 'Pera')\n",
      "<class 'tuple'>\n"
     ]
    }
   ],
   "source": [
    "t = \"Cereza\", \"Manzana\", \"Pera\"\n",
    "t = list(t)\n",
    "t[1] = \"Kiwi\"\n",
    "t = tuple(t)\n",
    "\n",
    "print(t)\n",
    "print(type(t))"
   ]
  },
  {
   "cell_type": "markdown",
   "metadata": {},
   "source": [
    "**Ejercicio**\n",
    "\n",
    "Vamos a pedirle al usuario una asignatura (\"Mates\", \"Lengua\", \"Historia\", \"Informática\" o \"Música\") y la nota en dicha asignatura hasta que introduzca una asignatura diferente a las indicadas. El usuario puede repetir una asignatura tantas veces como quiera. La nota tendrá que ser del 1 al 10. Guardaremos la información (asignatura, nota) en una tupla. Las tuplas serán guardadas en una lista. Finalmente, para cada asignatura, vamos a mostrar la nota media."
   ]
  },
  {
   "cell_type": "code",
   "execution_count": 33,
   "metadata": {},
   "outputs": [
    {
     "name": "stdout",
     "output_type": "stream",
     "text": [
      "cursos y códigos : \n",
      "001 --> Matematica\n",
      "002 --> Lengua\n",
      "003 --> Historia\n",
      "004 --> Informatica\n",
      "005 --> Musica\n",
      "******************************\n",
      "Ingrese el codigo de la asignatura001\n",
      "Ingrese nota : 12\n",
      "Ingrese el codigo de la asignatura001\n",
      "Ingrese nota : 13\n",
      "Ingrese el codigo de la asignatura002\n",
      "Ingrese nota : 13\n",
      "Ingrese el codigo de la asignatura002\n",
      "Ingrese nota : 15\n",
      "Ingrese el codigo de la asignatura003\n",
      "Ingrese nota : 10\n",
      "Ingrese el codigo de la asignatura004\n",
      "Ingrese nota : 11\n",
      "Ingrese el codigo de la asignatura005\n",
      "Ingrese nota : 18\n",
      "Ingrese el codigo de la asignatura005\n",
      "Ingrese nota : 20\n",
      "Ingrese el codigo de la asignatura005\n",
      "Ingrese nota : 19\n",
      "Ingrese el codigo de la asignatura\n",
      "\n",
      "***Medias**\n",
      "La nota promedio de Matematica es 12.5\n",
      "La nota promedio de Lengua es 14.0\n",
      "La nota promedio de Historia es 10.0\n",
      "La nota promedio de Informatica es 11.0\n",
      "La nota promedio de Musica es 19.0\n"
     ]
    }
   ],
   "source": [
    "cursos = [\"Matematica\",\"Lengua\",\"Historia\",\"Informatica\",\"Musica\"]\n",
    "iniciales = [\"001\",\"002\",\"003\",\"004\",\"005\"]\n",
    "notas = []\n",
    "print(\"cursos y códigos : \")\n",
    "for i in range(len(cursos)):\n",
    "    print(iniciales[i],\"-->\",cursos[i])\n",
    "print(\"*\"*30)\n",
    "\n",
    "asig = input(\"Ingrese el codigo de la asignatura\")\n",
    "while asig in iniciales:\n",
    "    nota = int(input(\"Ingrese nota : \"))\n",
    "    if asig == \"001\":\n",
    "        notas.append((\"Matematica\", nota))\n",
    "        asig = input(\"Ingrese el codigo de la asignatura\")\n",
    "    elif asig == \"002\":\n",
    "        notas.append((\"Lengua\", nota))\n",
    "        asig = input(\"Ingrese el codigo de la asignatura\")\n",
    "    elif asig == \"003\":\n",
    "        notas.append((\"Historia\", nota))\n",
    "        asig = input(\"Ingrese el codigo de la asignatura\")\n",
    "    elif asig == \"004\":\n",
    "        notas.append((\"Informatica\", nota))\n",
    "        asig = input(\"Ingrese el codigo de la asignatura\")\n",
    "    else:\n",
    "        notas.append((\"Musica\", nota))\n",
    "        asig = input(\"Ingrese el codigo de la asignatura\")\n",
    "\n",
    "means = {\n",
    "    \"Matematica\":[],\n",
    "    \"Lengua\":[],\n",
    "    \"Historia\":[],\n",
    "    \"Informatica\":[],\n",
    "    \"Musica\":[],\n",
    "}\n",
    "\n",
    "for item in notas:\n",
    "    means[item[0]].append(item[1])\n",
    "\n",
    "print(\"\\n***Medias**\")\n",
    "for key, val in means.items():\n",
    "    print(\"La nota promedio de {} es {}\".format(key, \"Desconocida\" if len(val) == 0 else sum(val)/len(val)))"
   ]
  },
  {
   "cell_type": "markdown",
   "metadata": {},
   "source": [
    "## El método de unpacking \n",
    "\n",
    "Podemos extraer los valores de una tupla en variables. Este proceso es conocido como **unpacking**"
   ]
  },
  {
   "cell_type": "code",
   "execution_count": 36,
   "metadata": {},
   "outputs": [
    {
     "name": "stdout",
     "output_type": "stream",
     "text": [
      "pera\n",
      "manzana\n",
      "uva\n",
      "kiwi\n"
     ]
    }
   ],
   "source": [
    "fruits = (\"pera\",\"manzana\",\"uva\",\"kiwi\")\n",
    "\n",
    "(fruit1, fruit2, fruit3, fruit4) = fruits\n",
    "print(fruit1)\n",
    "print(fruit2)\n",
    "print(fruit3)\n",
    "print(fruit4)"
   ]
  },
  {
   "cell_type": "code",
   "execution_count": 37,
   "metadata": {},
   "outputs": [
    {
     "name": "stdout",
     "output_type": "stream",
     "text": [
      "<class 'tuple'>\n",
      "Cereza\n",
      "Kiwi\n",
      "Pera\n",
      "Naranja\n"
     ]
    }
   ],
   "source": [
    "fruits = \"Cereza\", \"Kiwi\", \"Pera\", \"Naranja\"\n",
    "print(type(fruits))\n",
    "\n",
    "# Con paréntesis\n",
    "(fruit1, fruit2, fruit3, fruit4) = fruits\n",
    "\n",
    "print(fruit1)\n",
    "print(fruit2)\n",
    "print(fruit3)\n",
    "print(fruit4)"
   ]
  },
  {
   "cell_type": "code",
   "execution_count": 38,
   "metadata": {},
   "outputs": [
    {
     "name": "stdout",
     "output_type": "stream",
     "text": [
      "<class 'tuple'>\n",
      "Cereza\n",
      "Kiwi\n",
      "Pera\n",
      "Naranja\n"
     ]
    }
   ],
   "source": [
    "fruits = \"Cereza\", \"Kiwi\", \"Pera\", \"Naranja\"\n",
    "print(type(fruits))\n",
    "\n",
    "# Sin paréntesis\n",
    "fruit1, fruit2, fruit3, fruit4 = fruits\n",
    "\n",
    "print(fruit1)\n",
    "print(fruit2)\n",
    "print(fruit3)\n",
    "print(fruit4)"
   ]
  },
  {
   "cell_type": "markdown",
   "metadata": {},
   "source": [
    "**¡Cuidado!** El número de variables debe coincidir con el número de elementos de la tupla. De lo contrario, debe usarse un asterisco para guardar los elementos restantes en una lista."
   ]
  },
  {
   "cell_type": "code",
   "execution_count": 40,
   "metadata": {},
   "outputs": [
    {
     "name": "stdout",
     "output_type": "stream",
     "text": [
      "pera\n",
      "manzana\n",
      "['uva', 'kiwi']\n"
     ]
    }
   ],
   "source": [
    "fruits = (\"pera\",\"manzana\",\"uva\",\"kiwi\")\n",
    "\n",
    "(f1,f2,*f3) = fruits\n",
    "print(f1)\n",
    "print(f2)\n",
    "print(f3)"
   ]
  },
  {
   "cell_type": "markdown",
   "metadata": {},
   "source": [
    "**Observación.** Si el asterisco es añadido en alguna variable que no sea la última, `Python` almacenará tantos elementos en la lista como sea necesario para que el número de elementos restantes coincida con el número de variables restantes."
   ]
  },
  {
   "cell_type": "code",
   "execution_count": 41,
   "metadata": {},
   "outputs": [
    {
     "name": "stdout",
     "output_type": "stream",
     "text": [
      "Cereza\n",
      "['Kiwi', 'Pera', 'Naranja', 'Melocotón']\n",
      "Sandía\n",
      "Melón\n"
     ]
    }
   ],
   "source": [
    "fruits = \"Cereza\", \"Kiwi\", \"Pera\", \"Naranja\", \"Melocotón\", \"Sandía\", \"Melón\"\n",
    "(fruit1, *restFruits, fruit2, fruit3) = fruits\n",
    "\n",
    "print(fruit1)\n",
    "print(restFruits)\n",
    "print(fruit2)\n",
    "print(fruit3)"
   ]
  },
  {
   "cell_type": "code",
   "execution_count": 42,
   "metadata": {},
   "outputs": [
    {
     "name": "stdout",
     "output_type": "stream",
     "text": [
      "4\n"
     ]
    }
   ],
   "source": [
    "punto = (1,2,3)\n",
    "x,_,z = punto # _ no interesa\n",
    "\n",
    "print(x+z)"
   ]
  },
  {
   "cell_type": "code",
   "execution_count": 43,
   "metadata": {},
   "outputs": [
    {
     "name": "stdout",
     "output_type": "stream",
     "text": [
      "Cereza\n",
      "Sandía\n",
      "Melón\n"
     ]
    }
   ],
   "source": [
    "fruits = \"Cereza\", \"Kiwi\", \"Pera\", \"Naranja\", \"Melocotón\", \"Sandía\", \"Melón\"\n",
    "(fruit1, *_, fruit2, fruit3) = fruits # _ No nos interesa\n",
    "\n",
    "print(fruit1)\n",
    "print(fruit2)\n",
    "print(fruit3)"
   ]
  },
  {
   "cell_type": "markdown",
   "metadata": {},
   "source": [
    "**Ejercicio**\n",
    "\n",
    "Vamos a pedirle al usuario el número de puntos de un plano que quiere introducir. Para cada punto, vamos a solicitarle las coordenadas x e y. Guardaremos las coordenadas (x, y) en tuplas de tamaño 3, donde la última entrada se corresponde con el cuadrante al que pertenece dicho punto. Todas las tuplas de tamaño 3 serán guardadas en una lista. Finalmente, mostraremos todas las tuplas de tamaño 3 creadas, con el formato \"El punto ({x}, {y}) pertenece al cuadrante {cuadrante}\"\n",
    "\n"
   ]
  },
  {
   "cell_type": "code",
   "execution_count": 46,
   "metadata": {},
   "outputs": [
    {
     "name": "stdout",
     "output_type": "stream",
     "text": [
      "Cuántos puntos introducirás : 2\n",
      "Indica la coordenada x : 1\n",
      "Indica la coordenada y : -5\n",
      "Indica la coordenada x : -3\n",
      "Indica la coordenada y : -4\n",
      "El punto (1.0,-5.0) pertenece IV cuadrante\n",
      "El punto (-3.0,-4.0) pertenece III cuadrante\n"
     ]
    }
   ],
   "source": [
    "n = int(input(\"Cuántos puntos introducirás : \"))\n",
    "points = []\n",
    "\n",
    "for i in range(n):\n",
    "    x = float(input(\"Indica la coordenada x : \"))\n",
    "    y = float(input(\"Indica la coordenada y : \"))\n",
    "    \n",
    "    if x >= 0 and y >= 0:\n",
    "        q = \"I cuadrante\"\n",
    "    elif x < 0 and y > 0:\n",
    "        q = \"II cuadrante\"\n",
    "    elif x < 0 and y < 0:\n",
    "        q = \"III cuadrante\"\n",
    "    else:\n",
    "        q = \"IV cuadrante\"\n",
    "    points.append((x,y,q))\n",
    "\n",
    "for punto in points:\n",
    "    x, y , q = punto\n",
    "    print(\"El punto ({},{}) pertenece {}\".format(x,y,q))\n",
    "\n",
    "    "
   ]
  },
  {
   "cell_type": "markdown",
   "metadata": {},
   "source": [
    "## Concatenación de tuplas\n",
    "\n",
    "Podemos concatenar tuplas con la función `+`, aunque el resultado será una nueva tupla, ya que recordemos éstas no pueden ser modificadas"
   ]
  },
  {
   "cell_type": "code",
   "execution_count": 47,
   "metadata": {},
   "outputs": [
    {
     "data": {
      "text/plain": [
       "(1, 2, 3, 4, 6, 8)"
      ]
     },
     "execution_count": 47,
     "metadata": {},
     "output_type": "execute_result"
    }
   ],
   "source": [
    "t1 = 1,2,3\n",
    "t2 = 4,6,8\n",
    "t1+t2 # nueva tupla"
   ]
  },
  {
   "cell_type": "markdown",
   "metadata": {},
   "source": [
    "## Repetición de tuplas\n",
    "\n",
    "Podemos repetir tuplas un número $n$ de veces con la función `*`"
   ]
  },
  {
   "cell_type": "code",
   "execution_count": 50,
   "metadata": {},
   "outputs": [
    {
     "data": {
      "text/plain": [
       "('a', 'b', 'c', 'a', 'b', 'c', 'a', 'b', 'c', 'a', 'b', 'c', 'a', 'b', 'c')"
      ]
     },
     "execution_count": 50,
     "metadata": {},
     "output_type": "execute_result"
    }
   ],
   "source": [
    "t = (\"a\", \"b\", \"c\")\n",
    "t * 5 # genera una nueva tupla"
   ]
  },
  {
   "cell_type": "markdown",
   "metadata": {},
   "source": [
    "## Tamaño de una tupla\n",
    "\n",
    "Podemos calcular el número de elementos de una tupla con la función `len()`"
   ]
  },
  {
   "cell_type": "code",
   "execution_count": 51,
   "metadata": {},
   "outputs": [
    {
     "data": {
      "text/plain": [
       "4"
      ]
     },
     "execution_count": 51,
     "metadata": {},
     "output_type": "execute_result"
    }
   ],
   "source": [
    "t = \"Juan\", 32, \"profesor\", True\n",
    "len(t)"
   ]
  },
  {
   "cell_type": "markdown",
   "metadata": {},
   "source": [
    "**¡Cuidado!** Si quisiésemos crear una tupla de un solo elemento, tendríamos que hacer lo siguiente"
   ]
  },
  {
   "cell_type": "code",
   "execution_count": 54,
   "metadata": {},
   "outputs": [
    {
     "name": "stdout",
     "output_type": "stream",
     "text": [
      "manzana\n"
     ]
    },
    {
     "data": {
      "text/plain": [
       "str"
      ]
     },
     "execution_count": 54,
     "metadata": {},
     "output_type": "execute_result"
    }
   ],
   "source": [
    "t1 = (\"manzana\")\n",
    "print(t1)\n",
    "type(t1)"
   ]
  },
  {
   "cell_type": "code",
   "execution_count": 55,
   "metadata": {},
   "outputs": [
    {
     "name": "stdout",
     "output_type": "stream",
     "text": [
      "('manzana',)\n"
     ]
    },
    {
     "data": {
      "text/plain": [
       "tuple"
      ]
     },
     "execution_count": 55,
     "metadata": {},
     "output_type": "execute_result"
    }
   ],
   "source": [
    "t1 = (\"manzana\",)\n",
    "print(t1)\n",
    "type(t1)"
   ]
  },
  {
   "cell_type": "markdown",
   "metadata": {},
   "source": [
    "## Bucles y tuplas\n",
    "\n",
    "Podemos iterar una tupla utilizando un bucle `for`\n",
    "\n"
   ]
  },
  {
   "cell_type": "code",
   "execution_count": 57,
   "metadata": {},
   "outputs": [
    {
     "name": "stdout",
     "output_type": "stream",
     "text": [
      "Cereza\n",
      "Kiwi\n",
      "Pera\n",
      "Naranja\n",
      "Melocotón\n",
      "Sandía\n",
      "Melón\n"
     ]
    }
   ],
   "source": [
    "fruits = \"Cereza\", \"Kiwi\", \"Pera\", \"Naranja\", \"Melocotón\", \"Sandía\", \"Melón\"\n",
    "\n",
    "for fruta in fruits:\n",
    "    print(fruta)"
   ]
  },
  {
   "cell_type": "markdown",
   "metadata": {},
   "source": [
    "También podemos usar la técnica de unpacking en los bucles"
   ]
  },
  {
   "cell_type": "code",
   "execution_count": 59,
   "metadata": {},
   "outputs": [
    {
     "name": "stdout",
     "output_type": "stream",
     "text": [
      "El color de la cereza es roja\n",
      "El color del kiwi es amarillo\n",
      "El color de la pera es verde\n",
      "El color de la naranja es naranja\n"
     ]
    }
   ],
   "source": [
    "t = (\"cereza\", \"roja\"), (\"kiwi\", \"amarillo\"), (\"pera\", \"verde\"), (\"naranja\", \"naranja\")\n",
    "\n",
    "for fruta, color in t:\n",
    "    if fruta == \"kiwi\":\n",
    "        print(\"El color del {} es {}\".format(fruta, color))\n",
    "    else:\n",
    "        print(\"El color de la {} es {}\".format(fruta, color))"
   ]
  },
  {
   "cell_type": "markdown",
   "metadata": {},
   "source": [
    "## Tuplas y el resto de estructuras de datos\n",
    "\n",
    "Una tupla puede contener listas, diccionarios, conjuntos y tuplas"
   ]
  },
  {
   "cell_type": "code",
   "execution_count": 60,
   "metadata": {},
   "outputs": [
    {
     "data": {
      "text/plain": [
       "tuple"
      ]
     },
     "execution_count": 60,
     "metadata": {},
     "output_type": "execute_result"
    }
   ],
   "source": [
    "t = [4, 5, 6], {\"vowels\": (\"a\", \"e\", \"i\", \"o\", \"u\")}, {1, 2, 3}, (\"x\", \"y\")\n",
    "type(t)"
   ]
  },
  {
   "cell_type": "markdown",
   "metadata": {},
   "source": [
    "Asimismo, \n",
    "\n",
    "- las listas pueden contener diccionarios, conjuntos, tuplas y otras listas\n",
    "- los diccionarios pueden contener listas, conjuntos, tuplas y otros diccionarios\n",
    "- los conjuntos no pueden contener ni listas, ni diccionarios, ni tuplas, ni siquiera otros conjuntos"
   ]
  },
  {
   "cell_type": "code",
   "execution_count": 61,
   "metadata": {},
   "outputs": [
    {
     "data": {
      "text/plain": [
       "list"
      ]
     },
     "execution_count": 61,
     "metadata": {},
     "output_type": "execute_result"
    }
   ],
   "source": [
    "l = [{\"vowels\": (\"a\", \"e\", \"i\", \"o\", \"u\")}, {1, 2, 3}, (\"x\", \"y\"), [4, 5, 6]]\n",
    "type(l)"
   ]
  },
  {
   "cell_type": "code",
   "execution_count": 62,
   "metadata": {},
   "outputs": [
    {
     "data": {
      "text/plain": [
       "dict"
      ]
     },
     "execution_count": 62,
     "metadata": {},
     "output_type": "execute_result"
    }
   ],
   "source": [
    "dicc = {\"list\": [4, 5, 6], \"set\": {1, 2, 3}, \"tuple\": (\"x\", \"y\"), \"dict\": {\"vowels\": (\"a\", \"e\", \"i\", \"o\", \"u\")}}\n",
    "type(dicc)"
   ]
  },
  {
   "cell_type": "code",
   "execution_count": 64,
   "metadata": {},
   "outputs": [],
   "source": [
    "# set1 = {[4, 5, 6], {\"vowels\": (\"a\", \"e\", \"i\", \"o\", \"u\")}, (\"x\", \"y\"), {1, 2, 3}}"
   ]
  },
  {
   "cell_type": "markdown",
   "metadata": {},
   "source": [
    "Dado cualquier objeto iterable en `Python`, lo podemos convertir a tupla con la función `tuple()`"
   ]
  },
  {
   "cell_type": "code",
   "execution_count": 66,
   "metadata": {},
   "outputs": [
    {
     "data": {
      "text/plain": [
       "({'vowels': ('a', 'e', 'i', 'o', 'u')}, {1, 2, 3}, ('x', 'y'), [4, 5, 6])"
      ]
     },
     "execution_count": 66,
     "metadata": {},
     "output_type": "execute_result"
    }
   ],
   "source": [
    "tuple(l)"
   ]
  },
  {
   "cell_type": "code",
   "execution_count": 67,
   "metadata": {},
   "outputs": [
    {
     "data": {
      "text/plain": [
       "('list', 'set', 'tuple', 'dict')"
      ]
     },
     "execution_count": 67,
     "metadata": {},
     "output_type": "execute_result"
    }
   ],
   "source": [
    "tuple(dicc) # solo se guardan las claves"
   ]
  },
  {
   "cell_type": "code",
   "execution_count": 68,
   "metadata": {},
   "outputs": [
    {
     "name": "stdout",
     "output_type": "stream",
     "text": [
      "(1, 2, 3, 4, 5)\n",
      "<class 'tuple'>\n"
     ]
    }
   ],
   "source": [
    "print(tuple({1, 2, 3, 4, 5})) # A partir de un conjunto\n",
    "print(type(tuple({1, 2, 3, 4, 5})))"
   ]
  },
  {
   "cell_type": "markdown",
   "metadata": {},
   "source": [
    "La función `zip()` sirve para juntar listas en tuplas"
   ]
  },
  {
   "cell_type": "code",
   "execution_count": 69,
   "metadata": {},
   "outputs": [],
   "source": [
    "objects = [\"libreta\", \"pluma\", \"portaminas\", \"pack_minas\"]\n",
    "price = [5.00, 3.30, 1.29, 0.50]"
   ]
  },
  {
   "cell_type": "code",
   "execution_count": 78,
   "metadata": {},
   "outputs": [
    {
     "data": {
      "text/plain": [
       "<zip at 0x1db9f0692c8>"
      ]
     },
     "execution_count": 78,
     "metadata": {},
     "output_type": "execute_result"
    }
   ],
   "source": [
    "items = zip(objects, price)\n",
    "items"
   ]
  },
  {
   "cell_type": "markdown",
   "metadata": {},
   "source": [
    "Podemos convertir el resultado de una función `zip()` a una lista"
   ]
  },
  {
   "cell_type": "code",
   "execution_count": 75,
   "metadata": {},
   "outputs": [
    {
     "data": {
      "text/plain": [
       "[('libreta', 5.0), ('pluma', 3.3), ('portaminas', 1.29), ('pack_minas', 0.5)]"
      ]
     },
     "execution_count": 75,
     "metadata": {},
     "output_type": "execute_result"
    }
   ],
   "source": [
    "items = zip(objects, price)\n",
    "list(items)"
   ]
  },
  {
   "cell_type": "markdown",
   "metadata": {},
   "source": [
    "Podemos convertir el resultado de una función `zip()` a un diccionario"
   ]
  },
  {
   "cell_type": "code",
   "execution_count": 76,
   "metadata": {},
   "outputs": [
    {
     "data": {
      "text/plain": [
       "{'libreta': 5.0, 'pluma': 3.3, 'portaminas': 1.29, 'pack_minas': 0.5}"
      ]
     },
     "execution_count": 76,
     "metadata": {},
     "output_type": "execute_result"
    }
   ],
   "source": [
    "items = zip(objects, price)\n",
    "dict(items)"
   ]
  },
  {
   "cell_type": "markdown",
   "metadata": {},
   "source": [
    "**¡Cuidado!** Hay que crear de nuevo el objeto `zip()`, pues el resultado de esta función es un iterador y, una vez ha sido convertido a lista, diccionario o tupla, se considera una iteración completa y no será capaz de generar más valores.\n",
    "\n",
    "Podemos convertir el resultado de una función `zip()` a una tupla:"
   ]
  },
  {
   "cell_type": "code",
   "execution_count": 82,
   "metadata": {},
   "outputs": [
    {
     "data": {
      "text/plain": [
       "(('libreta', 5.0), ('pluma', 3.3), ('portaminas', 1.29), ('pack_minas', 0.5))"
      ]
     },
     "execution_count": 82,
     "metadata": {},
     "output_type": "execute_result"
    }
   ],
   "source": [
    "items = zip(objects, price)\n",
    "tuple(items)"
   ]
  },
  {
   "cell_type": "code",
   "execution_count": 83,
   "metadata": {},
   "outputs": [
    {
     "name": "stdout",
     "output_type": "stream",
     "text": [
      "('libreta', 5.0)\n",
      "('pluma', 3.3)\n",
      "('portaminas', 1.29)\n",
      "('pack_minas', 0.5)\n"
     ]
    }
   ],
   "source": [
    "for obj in zip(objects, price):\n",
    "    print(obj)"
   ]
  },
  {
   "cell_type": "code",
   "execution_count": 86,
   "metadata": {},
   "outputs": [
    {
     "name": "stdout",
     "output_type": "stream",
     "text": [
      "Rl costo de libreta es S/.5.0\n",
      "Rl costo de pluma es S/.3.3\n",
      "Rl costo de portaminas es S/.1.29\n",
      "Rl costo de pack_minas es S/.0.5\n"
     ]
    }
   ],
   "source": [
    "for obj, pre in zip(objects, price):\n",
    "    print(\"Rl costo de {} es S/.{}\".format(obj, pre))"
   ]
  },
  {
   "cell_type": "markdown",
   "metadata": {},
   "source": [
    "**Ejercicio**\n",
    "\n",
    "Dada una lista de palabras, vamos a crear otra lista del mismo tamaño que guarde la primera letra de cada palabra en la posición correspondiente. Por último, con la función `zip()` crearemos una tupla de tuplas con la palabra en la primera entrada y la letra con la que empieza, en la segunda."
   ]
  },
  {
   "cell_type": "code",
   "execution_count": 89,
   "metadata": {},
   "outputs": [
    {
     "name": "stdout",
     "output_type": "stream",
     "text": [
      "(('Hola', 'H'), ('caracol', 'c'), ('piña', 'p'), ('playa', 'p'), ('armando', 'a'))\n"
     ]
    }
   ],
   "source": [
    "words = [\"Hola\", \"caracol\", \"piña\", \"playa\", \"armando\"]\n",
    "first_let = []\n",
    "\n",
    "for w in words:\n",
    "    first_let.append(w[0])\n",
    "\n",
    "print(tuple(zip(words, first_let)))"
   ]
  }
 ],
 "metadata": {
  "kernelspec": {
   "display_name": "Python 3",
   "language": "python",
   "name": "python3"
  },
  "language_info": {
   "codemirror_mode": {
    "name": "ipython",
    "version": 3
   },
   "file_extension": ".py",
   "mimetype": "text/x-python",
   "name": "python",
   "nbconvert_exporter": "python",
   "pygments_lexer": "ipython3",
   "version": "3.7.3"
  }
 },
 "nbformat": 4,
 "nbformat_minor": 2
}
