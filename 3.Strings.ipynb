{
 "cells": [
  {
   "cell_type": "markdown",
   "metadata": {},
   "source": [
    "### Strings literals"
   ]
  },
  {
   "cell_type": "markdown",
   "metadata": {},
   "source": [
    "### String literals\n",
    "\n",
    "El hecho de que el contenido de las variables de tipo `str` vaya entre comillas, ya sean simples o dobles, conlleva a que algunos caracteres deban ser tratados de forma especial. \n",
    "\n",
    "Aquí entran en juego los string literals. Algunos de los más utilizados se muestran en la siguiente tabla:\n",
    "\n",
    "Código | Significado |\n",
    "--- | --- |\n",
    "`\\\\` | Backslash, `\\`| \n",
    "`\\'` | Comilla simple, `'`| \n",
    "`\\\"` | Comilla doble, `\"`|  \n",
    "`\\n` | Salto de línea| \n",
    "`\\t` | Tabulación horizontal| \n",
    "\n",
    "Para más información acerca de los string literals ir a la [documentación](https://docs.python.org/3.7/reference/lexical_analysis.html#string-and-bytes-literals).\n"
   ]
  },
  {
   "cell_type": "code",
   "execution_count": 1,
   "metadata": {},
   "outputs": [
    {
     "data": {
      "text/plain": [
       "'Juan dijo: \"me gusta el chocolate \"'"
      ]
     },
     "execution_count": 1,
     "metadata": {},
     "output_type": "execute_result"
    }
   ],
   "source": [
    "s1 = \"Juan dijo: \\\"me gusta el chocolate \\\"\"\n",
    "s1"
   ]
  },
  {
   "cell_type": "code",
   "execution_count": 2,
   "metadata": {},
   "outputs": [
    {
     "data": {
      "text/plain": [
       "'Juan dijo: \"me gusta el chocolate \"'"
      ]
     },
     "execution_count": 2,
     "metadata": {},
     "output_type": "execute_result"
    }
   ],
   "source": [
    "s2 = 'Juan dijo: \"me gusta el chocolate \"'\n",
    "s2"
   ]
  },
  {
   "cell_type": "markdown",
   "metadata": {},
   "source": [
    "**Observación.** Si usamos comillas dobles, para guardar la frase de este ejemplo necesitaremos usar string literals, ya que si no nos saltará error. Sin embargo, si usamos comillas simples, para guardar la frase de este ejemplo en una variable no hace falta que cambiemos nada.\n",
    "\n",
    "---\n",
    "\n",
    "---\n"
   ]
  },
  {
   "cell_type": "markdown",
   "metadata": {},
   "source": [
    "## Concatenación de strings\n",
    "\n",
    "La concatenación es una operación que une dos o más strings en uno solo.\n",
    "\n",
    "En `Python`, para concatenar dos variables de tipo string usamos la función `+`."
   ]
  },
  {
   "cell_type": "code",
   "execution_count": 3,
   "metadata": {},
   "outputs": [
    {
     "data": {
      "text/plain": [
       "'Hola, Juan'"
      ]
     },
     "execution_count": 3,
     "metadata": {},
     "output_type": "execute_result"
    }
   ],
   "source": [
    "s1 = \"Hola, \"\n",
    "s2 = \"Juan\"\n",
    "s1 + s2"
   ]
  },
  {
   "cell_type": "markdown",
   "metadata": {},
   "source": [
    "## Repetición de strings\n",
    "\n",
    "La repetición es una operación que repite la variable string tantas veces como indiquemos.\n",
    "\n",
    "En `Python`, para repetir una variable de tipo string usamos la función `*`. El orden de los factores no altera el producto. Es decir, tanto da usar la sintaxis `num_repeticiones * variable_str` como `variable_str * num__repeticiones`."
   ]
  },
  {
   "cell_type": "code",
   "execution_count": 4,
   "metadata": {},
   "outputs": [
    {
     "data": {
      "text/plain": [
       "'¿Falta mucho? ¿Falta mucho? ¿Falta mucho? ¿Falta mucho? ¿Falta mucho? '"
      ]
     },
     "execution_count": 4,
     "metadata": {},
     "output_type": "execute_result"
    }
   ],
   "source": [
    "s1 = \"¿Falta mucho? \"\n",
    "s1 * 5"
   ]
  },
  {
   "cell_type": "markdown",
   "metadata": {},
   "source": [
    "## La función `print()`\n",
    "\n",
    "Hasta ahora, cada vez que mostrábamos strings por pantalla, estos salían entre comillas simples.\n",
    "\n",
    "La función `print()` nos sirve, entre otras muchas cosas, para mostrar strings por pantalla."
   ]
  },
  {
   "cell_type": "code",
   "execution_count": 5,
   "metadata": {},
   "outputs": [
    {
     "data": {
      "text/plain": [
       "'Hello world'"
      ]
     },
     "execution_count": 5,
     "metadata": {},
     "output_type": "execute_result"
    }
   ],
   "source": [
    "s = \"Hello world\"\n",
    "s"
   ]
  },
  {
   "cell_type": "code",
   "execution_count": 6,
   "metadata": {},
   "outputs": [
    {
     "name": "stdout",
     "output_type": "stream",
     "text": [
      "Hello world\n"
     ]
    }
   ],
   "source": [
    "print(s)"
   ]
  },
  {
   "cell_type": "markdown",
   "metadata": {},
   "source": [
    "**Observación.** Como véis, una de las principales diferencias entre usar la función `print()` o no usarla es que a la hora de mostrar la cadena de caracteres por pantalla, ésta no va entre comillas simples y el formato en que se imprime también es diferente."
   ]
  },
  {
   "cell_type": "markdown",
   "metadata": {},
   "source": [
    "**Observación.** Recordad introducir un espacio adicional siempre que vayáis a concatenar cualquier cosa (strings con strings, strings con variables...), para que así el resultado quede legible.\n",
    "\n",
    "**Observación.** Utilizando la función `print()`, el uso de acentos o de algunos caracteres especiales como `¿` o `¡` ya no dan problemas a la hora de mostrarse por pantalla.\n",
    "\n",
    "**Observación.** Podemos obtener exactamente el mismo resultado utilizando comas (`,`) en vez de la función `+`. Eso sí, después de cada coma se nos añade automáticamente un espacio en blanco que no siempre buscamos, como ocurre a continuación después del resultado de la variable `name`."
   ]
  },
  {
   "cell_type": "code",
   "execution_count": 7,
   "metadata": {},
   "outputs": [
    {
     "name": "stdout",
     "output_type": "stream",
     "text": [
      "¡Buenos días, Don Pepito !\n"
     ]
    }
   ],
   "source": [
    "name = \"Don Pepito\"\n",
    "print(\"¡Buenos días,\", name, \"!\")"
   ]
  },
  {
   "cell_type": "markdown",
   "metadata": {},
   "source": [
    "### La función `str()`\n",
    "\n",
    "Con la función `str()`, podemos concatenar strings y variables de cualquier tipo dentro de un `print()`:"
   ]
  },
  {
   "cell_type": "code",
   "execution_count": 8,
   "metadata": {},
   "outputs": [
    {
     "name": "stdout",
     "output_type": "stream",
     "text": [
      "Mi hermana se llama María y su edad es 22\n"
     ]
    }
   ],
   "source": [
    "nombre = \"María\"\n",
    "edad = 22\n",
    "print(\"Mi hermana se llama \" + nombre + \" y su edad es \" + str(edad))"
   ]
  },
  {
   "cell_type": "markdown",
   "metadata": {},
   "source": [
    "### El método `.format()`\n",
    "\n",
    "Existe otra forma de concatenar strings y variables de cualquier tipo dentro de un `print()` y es gracias al método `.format()`. Lo que hay que hacer es indicar con llaves, `{}`, donde queremos situar el resultado de las variables y luego, dentro de los paréntesis del método `.format()`, indicar las variables en su respectivo orden"
   ]
  },
  {
   "cell_type": "code",
   "execution_count": 9,
   "metadata": {},
   "outputs": [
    {
     "name": "stdout",
     "output_type": "stream",
     "text": [
      "Mi abuelo se llama Ricardo y tiene 3 gatos\n"
     ]
    }
   ],
   "source": [
    "nombre = \"Ricardo\"\n",
    "numero_gatos = 3\n",
    "print(\"Mi abuelo se llama {} y tiene {} gatos\".format(nombre, numero_gatos))"
   ]
  },
  {
   "cell_type": "markdown",
   "metadata": {},
   "source": [
    "### Saltos de línea y tabulaciones\n",
    "\n",
    "Si recordáis el ejemplo 3, teníamos la variable `s3`, que contenía un salto de línea"
   ]
  },
  {
   "cell_type": "code",
   "execution_count": 11,
   "metadata": {},
   "outputs": [
    {
     "data": {
      "text/plain": [
       "'Con diez cañones por banda,\\nviento en popa a toda vela'"
      ]
     },
     "execution_count": 11,
     "metadata": {},
     "output_type": "execute_result"
    }
   ],
   "source": [
    "s3 = \"Con diez cañones por banda,\\nviento en popa a toda vela\"\n",
    "s3"
   ]
  },
  {
   "cell_type": "markdown",
   "metadata": {},
   "source": [
    "Con la función `print()`, seremos capaces de visualizar dicho salto de línea"
   ]
  },
  {
   "cell_type": "code",
   "execution_count": 12,
   "metadata": {},
   "outputs": [
    {
     "name": "stdout",
     "output_type": "stream",
     "text": [
      "Con diez cañones por banda,\n",
      "viento en popa a toda vela\n"
     ]
    }
   ],
   "source": [
    "print(s3)"
   ]
  },
  {
   "cell_type": "markdown",
   "metadata": {},
   "source": [
    "## Substrings\n",
    "\n",
    "Para acceder a un caracter de una variable string usamos la sintaxis de `[]`"
   ]
  },
  {
   "cell_type": "code",
   "execution_count": 13,
   "metadata": {},
   "outputs": [],
   "source": [
    "s = \"Soy fan de los videojuegos\""
   ]
  },
  {
   "cell_type": "code",
   "execution_count": 15,
   "metadata": {},
   "outputs": [
    {
     "data": {
      "text/plain": [
       "'S'"
      ]
     },
     "execution_count": 15,
     "metadata": {},
     "output_type": "execute_result"
    }
   ],
   "source": [
    "s[0] # primer caracter del string"
   ]
  },
  {
   "cell_type": "code",
   "execution_count": 17,
   "metadata": {},
   "outputs": [
    {
     "data": {
      "text/plain": [
       "'o'"
      ]
     },
     "execution_count": 17,
     "metadata": {},
     "output_type": "execute_result"
    }
   ],
   "source": [
    "s[1] # segundo caracter del string"
   ]
  },
  {
   "cell_type": "code",
   "execution_count": 21,
   "metadata": {},
   "outputs": [
    {
     "data": {
      "text/plain": [
       "'g'"
      ]
     },
     "execution_count": 21,
     "metadata": {},
     "output_type": "execute_result"
    }
   ],
   "source": [
    "s[-3] # antepenúltimo caracter del string"
   ]
  },
  {
   "cell_type": "markdown",
   "metadata": {},
   "source": [
    "Si queremos acceder a varios caracteres seguidos, podemos utilizar la función `:`"
   ]
  },
  {
   "cell_type": "code",
   "execution_count": 45,
   "metadata": {},
   "outputs": [
    {
     "name": "stdout",
     "output_type": "stream",
     "text": [
      "f a n   d\n"
     ]
    },
    {
     "data": {
      "text/plain": [
       "'fan d'"
      ]
     },
     "execution_count": 45,
     "metadata": {},
     "output_type": "execute_result"
    }
   ],
   "source": [
    "print(s[4],s[5],s[6],s[7],s[8])\n",
    "s[4:9] # del quinto caracter hasta el noveno"
   ]
  },
  {
   "cell_type": "code",
   "execution_count": 41,
   "metadata": {},
   "outputs": [
    {
     "data": {
      "text/plain": [
       "'Soy f'"
      ]
     },
     "execution_count": 41,
     "metadata": {},
     "output_type": "execute_result"
    }
   ],
   "source": [
    "s[:5] # Desde el inicio hasta el quinto"
   ]
  },
  {
   "cell_type": "code",
   "execution_count": 43,
   "metadata": {},
   "outputs": [
    {
     "data": {
      "text/plain": [
       "'de los videojuegos'"
      ]
     },
     "execution_count": 43,
     "metadata": {},
     "output_type": "execute_result"
    }
   ],
   "source": [
    "s[8:] # desde el noveno hasta el final"
   ]
  },
  {
   "cell_type": "markdown",
   "metadata": {},
   "source": [
    "**¡Cuidado!** En `Python`, siempre que usemos la función `:`, el índice que se encuentra a la derecha nunca es incluido, tal y como hemos visto en los ejemplos anteriores."
   ]
  },
  {
   "cell_type": "markdown",
   "metadata": {},
   "source": [
    "Si precedemos por `-` al índice de la izquierda de `:` y no ponemos ninguno a su derecha, lo que hacemos es obtener los últimos elementos"
   ]
  },
  {
   "cell_type": "code",
   "execution_count": 51,
   "metadata": {},
   "outputs": [
    {
     "data": {
      "text/plain": [
       "'ideojuegos'"
      ]
     },
     "execution_count": 51,
     "metadata": {},
     "output_type": "execute_result"
    }
   ],
   "source": [
    "s[-10:] # Diez últimos elementos.\n",
    "        # Desde la posición que ocupa el décimo elemento\n",
    "        # comenzando desde la derecha"
   ]
  },
  {
   "cell_type": "markdown",
   "metadata": {},
   "source": [
    "Si al contrario, precedemos por `-` al índice de la derecha, sin poner ningún índice a la izquierda de `:`, obtendremos todos los elementos salvo el número de elementos indicados por el índice (recordemos que si precedíamos por `-`, los índices empezaban desde el final)."
   ]
  },
  {
   "cell_type": "code",
   "execution_count": 53,
   "metadata": {},
   "outputs": [
    {
     "data": {
      "text/plain": [
       "'Soy fan de los v'"
      ]
     },
     "execution_count": 53,
     "metadata": {},
     "output_type": "execute_result"
    }
   ],
   "source": [
    "s[:-10] # EL string sin los últimos 10 elementos.\n",
    "        # Hasta la posición donde se sitúan los 10\n",
    "        # últimos elementos"
   ]
  },
  {
   "cell_type": "markdown",
   "metadata": {},
   "source": [
    "## Métodos para trabajar con strings\n"
   ]
  },
  {
   "cell_type": "code",
   "execution_count": 2,
   "metadata": {},
   "outputs": [
    {
     "data": {
      "text/plain": [
       "'arriba peru'"
      ]
     },
     "execution_count": 2,
     "metadata": {},
     "output_type": "execute_result"
    }
   ],
   "source": [
    "texto = \"Arriba Peru\"\n",
    "texto.lower()"
   ]
  },
  {
   "cell_type": "code",
   "execution_count": 3,
   "metadata": {},
   "outputs": [
    {
     "data": {
      "text/plain": [
       "'ARRIBA PERU'"
      ]
     },
     "execution_count": 3,
     "metadata": {},
     "output_type": "execute_result"
    }
   ],
   "source": [
    "texto.upper()"
   ]
  },
  {
   "cell_type": "code",
   "execution_count": 8,
   "metadata": {},
   "outputs": [
    {
     "data": {
      "text/plain": [
       "3"
      ]
     },
     "execution_count": 8,
     "metadata": {},
     "output_type": "execute_result"
    }
   ],
   "source": [
    "texto.count(\"r\") # Conteo"
   ]
  },
  {
   "cell_type": "code",
   "execution_count": 12,
   "metadata": {},
   "outputs": [
    {
     "data": {
      "text/plain": [
       "1"
      ]
     },
     "execution_count": 12,
     "metadata": {},
     "output_type": "execute_result"
    }
   ],
   "source": [
    "texto.count(\"Peru\")"
   ]
  },
  {
   "cell_type": "code",
   "execution_count": 13,
   "metadata": {},
   "outputs": [
    {
     "data": {
      "text/plain": [
       "'Peru es hermoso'"
      ]
     },
     "execution_count": 13,
     "metadata": {},
     "output_type": "execute_result"
    }
   ],
   "source": [
    "texto2 = \"peru es hermoso\"\n",
    "texto2.capitalize()"
   ]
  },
  {
   "cell_type": "code",
   "execution_count": 14,
   "metadata": {},
   "outputs": [
    {
     "data": {
      "text/plain": [
       "'Peru Es Hermoso'"
      ]
     },
     "execution_count": 14,
     "metadata": {},
     "output_type": "execute_result"
    }
   ],
   "source": [
    "texto2.title()"
   ]
  },
  {
   "cell_type": "code",
   "execution_count": 15,
   "metadata": {},
   "outputs": [
    {
     "data": {
      "text/plain": [
       "'arriba PERU'"
      ]
     },
     "execution_count": 15,
     "metadata": {},
     "output_type": "execute_result"
    }
   ],
   "source": [
    "texto3 = \"ARRIBA peru\"\n",
    "texto3.swapcase()"
   ]
  },
  {
   "cell_type": "code",
   "execution_count": 16,
   "metadata": {},
   "outputs": [
    {
     "data": {
      "text/plain": [
       "'Los terroristas son malos'"
      ]
     },
     "execution_count": 16,
     "metadata": {},
     "output_type": "execute_result"
    }
   ],
   "source": [
    "texto4 = \"Los terroristas son buenos\"\n",
    "texto4.replace(\"buenos\", \"malos\")"
   ]
  },
  {
   "cell_type": "code",
   "execution_count": 17,
   "metadata": {},
   "outputs": [
    {
     "data": {
      "text/plain": [
       "'Los terroristas son maloss'"
      ]
     },
     "execution_count": 17,
     "metadata": {},
     "output_type": "execute_result"
    }
   ],
   "source": [
    "texto4.replace(\"bueno\", \"malos\")"
   ]
  },
  {
   "cell_type": "code",
   "execution_count": 18,
   "metadata": {},
   "outputs": [
    {
     "data": {
      "text/plain": [
       "['Los ', 'l', 'fant', 's ti', 'n', 'n or', 'jas muy grand', 's']"
      ]
     },
     "execution_count": 18,
     "metadata": {},
     "output_type": "execute_result"
    }
   ],
   "source": [
    "texto5 = \"Los elefantes tienen orejas muy grandes\"\n",
    "texto5.split(\"e\")"
   ]
  },
  {
   "cell_type": "code",
   "execution_count": 21,
   "metadata": {},
   "outputs": [
    {
     "data": {
      "text/plain": [
       "['Los', 'elefantes', 'tienen', 'orejas', 'muy', 'grandes']"
      ]
     },
     "execution_count": 21,
     "metadata": {},
     "output_type": "execute_result"
    }
   ],
   "source": [
    "texto5.split(\" \")"
   ]
  },
  {
   "cell_type": "code",
   "execution_count": 23,
   "metadata": {},
   "outputs": [
    {
     "data": {
      "text/plain": [
       "['Los elefantes ', ' orejas muy grandes']"
      ]
     },
     "execution_count": 23,
     "metadata": {},
     "output_type": "execute_result"
    }
   ],
   "source": [
    "texto5.split(\"tienen\")"
   ]
  },
  {
   "cell_type": "code",
   "execution_count": 24,
   "metadata": {},
   "outputs": [
    {
     "data": {
      "text/plain": [
       "'arriba Perú'"
      ]
     },
     "execution_count": 24,
     "metadata": {},
     "output_type": "execute_result"
    }
   ],
   "source": [
    "texto6 = \"       arriba Perú\"\n",
    "texto6.strip()"
   ]
  },
  {
   "cell_type": "code",
   "execution_count": 25,
   "metadata": {},
   "outputs": [
    {
     "data": {
      "text/plain": [
       "'todos somos Peru'"
      ]
     },
     "execution_count": 25,
     "metadata": {},
     "output_type": "execute_result"
    }
   ],
   "source": [
    "texto7 = \"todos somos Peru       \"\n",
    "texto7.strip()"
   ]
  },
  {
   "cell_type": "code",
   "execution_count": 28,
   "metadata": {},
   "outputs": [
    {
     "name": "stdout",
     "output_type": "stream",
     "text": [
      "           Arriba Peru\n",
      "Arriba Peru         \n"
     ]
    }
   ],
   "source": [
    "texto8 = \"           Arriba Peru         \"\n",
    "print(texto8.rstrip()) # elimna los espacios sobrantes al final del string\n",
    "print(texto8.lstrip()) # elimina los espacios sobrantes al inicio del string"
   ]
  },
  {
   "cell_type": "code",
   "execution_count": 30,
   "metadata": {},
   "outputs": [
    {
     "data": {
      "text/plain": [
       "18"
      ]
     },
     "execution_count": 30,
     "metadata": {},
     "output_type": "execute_result"
    }
   ],
   "source": [
    "texto9 = \"Todos aprendemos Python\"\n",
    "texto9.find(\"y\") # posición de la primera vez que aparece y"
   ]
  },
  {
   "cell_type": "code",
   "execution_count": 32,
   "metadata": {},
   "outputs": [
    {
     "data": {
      "text/plain": [
       "-1"
      ]
     },
     "execution_count": 32,
     "metadata": {},
     "output_type": "execute_result"
    }
   ],
   "source": [
    "texto9.find(\"z\") # no se ha encontrado la z"
   ]
  },
  {
   "cell_type": "code",
   "execution_count": 34,
   "metadata": {},
   "outputs": [
    {
     "data": {
      "text/plain": [
       "17"
      ]
     },
     "execution_count": 34,
     "metadata": {},
     "output_type": "execute_result"
    }
   ],
   "source": [
    "texto9.find(\"Python\")"
   ]
  },
  {
   "cell_type": "code",
   "execution_count": 35,
   "metadata": {},
   "outputs": [],
   "source": [
    "texto9 = \"Todos aprendemos Python desde casa\""
   ]
  },
  {
   "cell_type": "code",
   "execution_count": 37,
   "metadata": {},
   "outputs": [
    {
     "data": {
      "text/plain": [
       "18"
      ]
     },
     "execution_count": 37,
     "metadata": {},
     "output_type": "execute_result"
    }
   ],
   "source": [
    "texto9.find(\"y\", 10) # búsqueda de la y más allá de la posicioón 10"
   ]
  },
  {
   "cell_type": "code",
   "execution_count": 43,
   "metadata": {},
   "outputs": [
    {
     "data": {
      "text/plain": [
       "-1"
      ]
     },
     "execution_count": 43,
     "metadata": {},
     "output_type": "execute_result"
    }
   ],
   "source": [
    "texto9.find(\"h\",25) # despúes de la posicón 25 no se encontró la h"
   ]
  },
  {
   "cell_type": "code",
   "execution_count": 45,
   "metadata": {},
   "outputs": [
    {
     "data": {
      "text/plain": [
       "-1"
      ]
     },
     "execution_count": 45,
     "metadata": {},
     "output_type": "execute_result"
    }
   ],
   "source": [
    "texto9.find(\"y\",20,30) # entre la posicion 20 y 30 no se halló la y"
   ]
  },
  {
   "cell_type": "markdown",
   "metadata": {},
   "source": [
    "## Otras funciones a tener en cuenta"
   ]
  },
  {
   "cell_type": "code",
   "execution_count": 2,
   "metadata": {},
   "outputs": [
    {
     "data": {
      "text/plain": [
       "12"
      ]
     },
     "execution_count": 2,
     "metadata": {},
     "output_type": "execute_result"
    }
   ],
   "source": [
    "# Longitud de cadena\n",
    "cadena = \"Tengo hambre\"\n",
    "len(cadena)"
   ]
  },
  {
   "cell_type": "code",
   "execution_count": 7,
   "metadata": {},
   "outputs": [
    {
     "data": {
      "text/plain": [
       "str"
      ]
     },
     "execution_count": 7,
     "metadata": {},
     "output_type": "execute_result"
    }
   ],
   "source": [
    "# Función int() y float()\n",
    "numero = \"5\"\n",
    "type(numero)"
   ]
  },
  {
   "cell_type": "code",
   "execution_count": 11,
   "metadata": {},
   "outputs": [
    {
     "data": {
      "text/plain": [
       "5"
      ]
     },
     "execution_count": 11,
     "metadata": {},
     "output_type": "execute_result"
    }
   ],
   "source": [
    "numero_int = int(numero)\n",
    "numero_int"
   ]
  },
  {
   "cell_type": "code",
   "execution_count": 12,
   "metadata": {},
   "outputs": [
    {
     "data": {
      "text/plain": [
       "5.0"
      ]
     },
     "execution_count": 12,
     "metadata": {},
     "output_type": "execute_result"
    }
   ],
   "source": [
    "numero_float = float(numero)\n",
    "numero_float"
   ]
  },
  {
   "cell_type": "code",
   "execution_count": 15,
   "metadata": {},
   "outputs": [
    {
     "name": "stdout",
     "output_type": "stream",
     "text": [
      "Cuál es tu nombre : Juan\n",
      "Hola Juan\n"
     ]
    }
   ],
   "source": [
    "# Funcion input()\n",
    "name = input(\"Cuál es tu nombre : \")\n",
    "print(\"Hola\",name)"
   ]
  },
  {
   "cell_type": "code",
   "execution_count": 21,
   "metadata": {},
   "outputs": [
    {
     "name": "stdout",
     "output_type": "stream",
     "text": [
      "Cual es tu edad :23\n",
      "Juan tiene 23 años\n"
     ]
    }
   ],
   "source": [
    "age = int(input(\"Cual es tu edad :\"))\n",
    "print(name,\"tiene\",age,\"años\")"
   ]
  },
  {
   "cell_type": "code",
   "execution_count": 25,
   "metadata": {},
   "outputs": [
    {
     "name": "stdout",
     "output_type": "stream",
     "text": [
      "ingresa tu estatura:1.3\n"
     ]
    }
   ],
   "source": [
    "height = float(input(\"ingresa tu estatura:\"))"
   ]
  },
  {
   "cell_type": "code",
   "execution_count": 26,
   "metadata": {},
   "outputs": [
    {
     "name": "stdout",
     "output_type": "stream",
     "text": [
      "Juan tiene 23 años y mide 1.3m\n"
     ]
    }
   ],
   "source": [
    "print(\"{} tiene {} años y mide {}m\".format(name,age,height))"
   ]
  },
  {
   "cell_type": "markdown",
   "metadata": {},
   "source": [
    "## Ejercicios"
   ]
  },
  {
   "cell_type": "code",
   "execution_count": 45,
   "metadata": {},
   "outputs": [
    {
     "name": "stdout",
     "output_type": "stream",
     "text": [
      "El camino esta cerrado,peroseguro lo abriremos\n",
      "****************************************************\n",
      "Introduce la palabra que quieres eliminar del string\n",
      "Palabra:marco\n",
      "****************************************************\n",
      "-1\n",
      "El camino esta cerrado,peroseguro lo abriremoamino esta cerrado,peroseguro lo abriremos\n"
     ]
    }
   ],
   "source": [
    "# 1 Eliminar alguna palabra de la entrada que hizo el usuario\n",
    "\n",
    "string1 = \"El camino esta cerrado,peroseguro lo abriremos\"\n",
    "print(string1)\n",
    "\n",
    "print(\"****************************************************\")\n",
    "print(\"Introduce la palabra que quieres eliminar del string\")\n",
    "word = input(\"Palabra:\")\n",
    "\n",
    "print(\"****************************************************\")\n",
    "index = string1.find(word)\n",
    "print(index)\n",
    "substring = string1[:index] + string1[index + len(word):]\n",
    "print(substring)"
   ]
  },
  {
   "cell_type": "code",
   "execution_count": 11,
   "metadata": {},
   "outputs": [
    {
     "name": "stdout",
     "output_type": "stream",
     "text": [
      "**************************************************\n",
      "Ingrese la palabra : CoDiTO\n",
      "coDito\n"
     ]
    }
   ],
   "source": [
    "# 2 El usuario debe introducir una palabra y el programa\n",
    "#   debe devolverla (debe contener más de 3 letras)\n",
    "#   con todas las letras en minúscula, salvo la tercera\n",
    "\n",
    "print(\"*\"*50)\n",
    "word2 = input(\"Ingrese la palabra : \")\n",
    "print(word2[:2].lower()+word2[2]+word2[3:].lower())"
   ]
  },
  {
   "cell_type": "code",
   "execution_count": 19,
   "metadata": {},
   "outputs": [
    {
     "name": "stdout",
     "output_type": "stream",
     "text": [
      "**************************************************\n",
      "Ingrese la palabra : CococDrilO\n",
      "cOCOCDRILo\n"
     ]
    }
   ],
   "source": [
    "# 3 El usuario debe ingresar una palabra. El programa debe\n",
    "#   devolverla con todas las letras en mayúscula, salvo la\n",
    "#   primera y la ultima\n",
    "\n",
    "print(\"*\"*50)\n",
    "word3 = input(\"Ingrese la palabra : \")\n",
    "print(word3[0].lower()+word3[1:(len(word3)-1)].upper()+word3[-1].lower())"
   ]
  },
  {
   "cell_type": "code",
   "execution_count": 25,
   "metadata": {},
   "outputs": [
    {
     "name": "stdout",
     "output_type": "stream",
     "text": [
      "**************************************************\n",
      "Palabra sustituta : mami\n",
      "**************************************************\n",
      "Ingrese la palabra : como estas niño comoquisiera verte\n",
      "mamimo estas niño mamimoquisiera verte\n"
     ]
    }
   ],
   "source": [
    "# 4 El usuario debe ingresar una palabra. El programa creado\n",
    "#   debe sustituir las 2 primeras palabras de la original\n",
    "#   por cualquier otra\n",
    "\n",
    "print(\"*\"*50)\n",
    "word4 = input(\"Palabra sustituta : \")\n",
    "print(\"*\"*50)\n",
    "word5 = input(\"Ingrese la palabra : \")\n",
    "print(word5.replace(word5[:2], word4))"
   ]
  },
  {
   "cell_type": "code",
   "execution_count": 26,
   "metadata": {},
   "outputs": [
    {
     "name": "stdout",
     "output_type": "stream",
     "text": [
      "Introduce tu año de nacimiento : 1997\n",
      "Introduce año actual : 2021\n",
      "En el 2021 tienes 24 años\n"
     ]
    }
   ],
   "source": [
    "# 5 El usuario debe ingresar su año de nacimiento y el año.\n",
    "#   El programa creado debe devolver la edad del usuario\n",
    "\n",
    "ano_nac = int(input(\"Introduce tu año de nacimiento : \"))\n",
    "ano_act = int(input(\"Introduce año actual : \"))\n",
    "age = ano_act -ano_nac\n",
    "print(\"En el {} tienes {} años\".format(ano_act, age))"
   ]
  }
 ],
 "metadata": {
  "kernelspec": {
   "display_name": "Python 3",
   "language": "python",
   "name": "python3"
  },
  "language_info": {
   "codemirror_mode": {
    "name": "ipython",
    "version": 3
   },
   "file_extension": ".py",
   "mimetype": "text/x-python",
   "name": "python",
   "nbconvert_exporter": "python",
   "pygments_lexer": "ipython3",
   "version": "3.7.3"
  }
 },
 "nbformat": 4,
 "nbformat_minor": 2
}
