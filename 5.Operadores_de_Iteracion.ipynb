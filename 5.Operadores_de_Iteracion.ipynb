{
 "cells": [
  {
   "cell_type": "markdown",
   "metadata": {},
   "source": [
    "## El bucle `while`\n",
    "\n",
    "La idea del bucle `while` es: mientras la condición sea cierta, seguimos realizando las líneas del interior del bucle. Una vez la condición deja de ser verdadera, salimos del bucle."
   ]
  },
  {
   "cell_type": "code",
   "execution_count": 2,
   "metadata": {},
   "outputs": [
    {
     "name": "stdout",
     "output_type": "stream",
     "text": [
      "Numero :  1\n",
      "Numero :  2\n",
      "Numero :  3\n",
      "Numero :  4\n",
      "Numero :  5\n",
      "Numero :  6\n",
      "Numero :  7\n",
      "Numero :  8\n",
      "Numero :  9\n",
      "Numero :  10\n"
     ]
    }
   ],
   "source": [
    "i = 1\n",
    "while i <= 10:\n",
    "    print(\"Numero : \",i)\n",
    "    i += 1"
   ]
  },
  {
   "cell_type": "code",
   "execution_count": 7,
   "metadata": {},
   "outputs": [
    {
     "name": "stdout",
     "output_type": "stream",
     "text": [
      "Ingrese una frase : hola señorita\n",
      "****************************************\n",
      "Hay un total de 6 vocales\n"
     ]
    }
   ],
   "source": [
    "# Con un bucle while, dado un string, vamos a recorrer una frase \n",
    "# y contar el número de vocales.\n",
    "\n",
    "str1 = input(\"Ingrese una frase : \")\n",
    "i = 0\n",
    "count = 0\n",
    "str1 = str1.lower()\n",
    "\n",
    "while i <= (len(str1)-1):\n",
    "    if str1[i]==\"a\" or str1[i]==\"e\" or str1[i]==\"i\" or str1[i]==\"o\" or str1[i]==\"u\":\n",
    "        count += 1\n",
    "    i += 1\n",
    "print(\"*\"*40)\n",
    "print(\"Hay un total de {} vocales\".format(count))\n",
    "    "
   ]
  },
  {
   "cell_type": "markdown",
   "metadata": {},
   "source": [
    "## El comando `break`\n",
    "\n",
    "`break` es muy útil si dada una condición queremos que se salga inmediatamente de un bucle `while`. Veámoslo con un ejemplo:"
   ]
  },
  {
   "cell_type": "markdown",
   "metadata": {},
   "source": [
    "---\n",
    "\n",
    "#### Sucesión de Fibonacci\n",
    "\n",
    "La sucesión de Fibonacci es una sucesión infinita que se caracteriza porque cada término es la suma de los dos anteriores. Algunos de sus términos son 1, 1, 2, 3, 5, 8, 13...\n",
    "\n",
    "Supongamos que queremos que se nos impriman los 20 primeros términos de esta serie. Por tanto, necesitaremos por un lado los términos de la serie y, por otro, los índices que ocupan.\n",
    "\n",
    "**Ejercicio.** \n",
    "- Pensad en cómo podríais resolver este problema en el cual se exige que en algún momento utilicéis el comando `break`."
   ]
  },
  {
   "cell_type": "code",
   "execution_count": 33,
   "metadata": {},
   "outputs": [
    {
     "name": "stdout",
     "output_type": "stream",
     "text": [
      "termino 1 : 1 \n",
      "termino 2 : 1 \n",
      "termino 3 : 2\n",
      "termino 4 : 3\n",
      "termino 5 : 5\n",
      "termino 6 : 8\n",
      "termino 7 : 13\n",
      "termino 8 : 21\n",
      "termino 9 : 34\n",
      "termino 10 : 55\n",
      "termino 11 : 89\n",
      "termino 12 : 144\n",
      "termino 13 : 233\n",
      "termino 14 : 377\n",
      "termino 15 : 610\n",
      "termino 16 : 987\n",
      "termino 17 : 1597\n",
      "termino 18 : 2584\n",
      "termino 19 : 4181\n",
      "termino 20 : 6765\n"
     ]
    }
   ],
   "source": [
    "fib1 = 1\n",
    "fib2 = 1\n",
    "i = 1\n",
    "print(\"termino {} : {} \".format(i,fib1))\n",
    "print(\"termino {} : {} \".format(i+1,fib1))\n",
    "while i <= 18:\n",
    "    fib3 = fib1 + fib2\n",
    "    fib1 = fib2\n",
    "    fib2 = fib3\n",
    "    print(\"termino {} : {}\".format(i+2,fib2))\n",
    "    i += 1"
   ]
  },
  {
   "cell_type": "code",
   "execution_count": 34,
   "metadata": {},
   "outputs": [
    {
     "name": "stdout",
     "output_type": "stream",
     "text": [
      "El término 1 ocupa la posición 1\n",
      "El término 1 ocupa la posición 2\n",
      "El término 2 ocupa la posición 3\n",
      "El término 3 ocupa la posición 4\n",
      "El término 5 ocupa la posición 5\n",
      "El término 8 ocupa la posición 6\n",
      "El término 13 ocupa la posición 7\n",
      "El término 21 ocupa la posición 8\n",
      "El término 34 ocupa la posición 9\n",
      "El término 55 ocupa la posición 10\n",
      "El término 89 ocupa la posición 11\n",
      "El término 144 ocupa la posición 12\n",
      "El término 233 ocupa la posición 13\n",
      "El término 377 ocupa la posición 14\n",
      "El término 610 ocupa la posición 15\n",
      "El término 987 ocupa la posición 16\n",
      "El término 1597 ocupa la posición 17\n",
      "El término 2584 ocupa la posición 18\n",
      "El término 4181 ocupa la posición 19\n",
      "El término 6765 ocupa la posición 20\n"
     ]
    }
   ],
   "source": [
    "fibo_ant = 1 # Término anterior\n",
    "fibo = 1 # Término actual\n",
    "idx = 3 # Como ya tenemos los dos primeros términos, empezamos con el índice 3\n",
    "\n",
    "print(\"El término {} ocupa la posición {}\".format(fibo_ant, 1))\n",
    "print(\"El término {} ocupa la posición {}\".format(fibo, 2))\n",
    "\n",
    "while fibo <= 500000: # Establecemos una cota para que el bucle no sea infinito\n",
    "    temp = fibo  # Guardamos temporalmente el fibonacci actual \n",
    "    fibo = fibo + fibo_ant  # Calculamos el nuevo término de la sucesión\n",
    "    fibo_ant = temp # Modicamos el valor del término anterior\n",
    "\n",
    "    print(\"El término {} ocupa la posición {}\".format(fibo, idx))\n",
    "\n",
    "    if idx == 20: # Si llegamos al vigésimo índice, \n",
    "        break       # salimos del bucle\n",
    "\n",
    "    idx += 1 # Incrementamos el valor del índice"
   ]
  },
  {
   "cell_type": "markdown",
   "metadata": {},
   "source": [
    "**Ejercicio**\n",
    "\n",
    "- Con un bucle `while`, dados dos números enteros proporcionados por el usuario, vamos a encontrar el primer número divisible entre 2, 3 y 5, siempre que sea posible, que se encuentre dentro del intervalo formado por los dos números dados por el usuario (ambos extremos también incluidos)."
   ]
  },
  {
   "cell_type": "code",
   "execution_count": 35,
   "metadata": {},
   "outputs": [
    {
     "name": "stdout",
     "output_type": "stream",
     "text": [
      "El primer número debe ser menor que el segundo\n",
      "Numero : 2\n",
      "Numero : 122\n",
      "30\n"
     ]
    }
   ],
   "source": [
    "print(\"El primer número debe ser menor que el segundo\")\n",
    "num1 = int(input(\"Numero : \"))\n",
    "num2 = int(input(\"Numero : \"))\n",
    "n = num1\n",
    "while n <= num2 :\n",
    "    if n % 30 == 0:\n",
    "        print(n)\n",
    "        break\n",
    "    n += 1\n",
    "\n",
    "if n == num2 + 1:\n",
    "    print(\"No se encontró ningún número\")"
   ]
  },
  {
   "cell_type": "markdown",
   "metadata": {},
   "source": [
    "## Combinación `while` y `else`\n",
    "\n",
    "Podemos combinar un bucle `while` con el operador `else` para ejecutar un bloque de código una vez la condición del `while` haya dejado de ser verdadera."
   ]
  },
  {
   "cell_type": "code",
   "execution_count": 37,
   "metadata": {},
   "outputs": [
    {
     "name": "stdout",
     "output_type": "stream",
     "text": [
      "10\n",
      "9\n",
      "8\n",
      "7\n",
      "6\n",
      "5\n",
      "4\n",
      "3\n",
      "2\n",
      "1\n",
      "La cuenta ha terminado\n"
     ]
    }
   ],
   "source": [
    "# Cuenta del 10 al 1\n",
    "i = 10\n",
    "while i != 0:\n",
    "    print(i)\n",
    "    i -= 1\n",
    "else:\n",
    "    print(\"La cuenta ha terminado\")"
   ]
  },
  {
   "cell_type": "markdown",
   "metadata": {},
   "source": [
    "**Ejecicio**\n",
    "\n",
    "- Vamos a hacer que el usuario introduzca números por teclado e ir sumándolos. Cuando el usuario introduzca 0 saldremos del bucle `while`. Al salir del bucle, con un `else` mostraremos la suma."
   ]
  },
  {
   "cell_type": "code",
   "execution_count": 40,
   "metadata": {},
   "outputs": [
    {
     "name": "stdout",
     "output_type": "stream",
     "text": [
      "Ingrese un número : 2\n",
      "Ingrese un número : 3\n",
      "Ingrese un número : 7\n",
      "Ingrese un número : 0\n",
      "****************************************\n",
      "Usted ingreso el número 0\n",
      "La suma acumulada de los números ingresados es :  12\n"
     ]
    }
   ],
   "source": [
    "num1 = int(input(\"Ingrese un número : \"))\n",
    "suma = 0\n",
    "\n",
    "while num1 != 0 :\n",
    "    suma = suma + num1\n",
    "    num1 = int(input(\"Ingrese un número : \"))\n",
    "else:\n",
    "    print(\"*\"*40)\n",
    "    print(\"Usted ingreso el número 0\")\n",
    "    print(\"La suma acumulada de los números ingresados es : \", suma)"
   ]
  },
  {
   "cell_type": "markdown",
   "metadata": {},
   "source": [
    "**Ejercicio**\n",
    "\n",
    "Imaginemos las letras del abecedario ordenadas y dispuestas en círculo. Es decir, a la derecha de la A está la B, luego la C, y así sucesivamente hasta la Z. A la derecha de la Z, se encuentra de nuevo la letra A.\n",
    "\n",
    "Vamos a hacer que el usuario introduzca un valor entero `n`, que se corresponderá con la rotación que llevará a una determinada letra `n` posiciones a su derecha. Por ejemplo, si la rotación es 4, entonces la A pasará a la E, la B a la F, ..., la Y a la C y la Z a la D.\n",
    "\n",
    "Con un bucle `while`, vamos a construir el programa que desplazará las letras `n` posiciones a la derecha.\n",
    "\n",
    "PISTA: Investiga las funciones `chr()` y `ord()` para pasar del valor [`ASCII`](https://elcodigoascii.com.ar/) de un caracter al caracter y viceversa."
   ]
  },
  {
   "cell_type": "code",
   "execution_count": 58,
   "metadata": {},
   "outputs": [
    {
     "name": "stdout",
     "output_type": "stream",
     "text": [
      "Introduce una rotacion: 2601\n",
      "A : B\n",
      "B : C\n",
      "C : D\n",
      "D : E\n",
      "E : F\n",
      "F : G\n",
      "G : H\n",
      "H : I\n",
      "I : J\n",
      "J : K\n",
      "K : L\n",
      "L : M\n",
      "M : N\n",
      "N : O\n",
      "O : P\n",
      "P : Q\n",
      "Q : R\n",
      "R : S\n",
      "S : T\n",
      "T : U\n",
      "U : V\n",
      "V : W\n",
      "W : X\n",
      "X : Y\n",
      "Y : Z\n",
      "Z : A\n"
     ]
    }
   ],
   "source": [
    "n = int(input('Introduce una rotacion: '))\n",
    "i = 65\n",
    "\n",
    "if n > 26:\n",
    "    n = n % 26\n",
    "\n",
    "while i <= 90:\n",
    "    if i + n <= 90:\n",
    "        print(chr(i) + \" : \" + chr(i + n))\n",
    "    else:\n",
    "        print(chr(i) + \" : \" + chr((i - 26) + n))\n",
    "    i += 1"
   ]
  },
  {
   "cell_type": "code",
   "execution_count": 12,
   "metadata": {},
   "outputs": [
    {
     "name": "stdout",
     "output_type": "stream",
     "text": [
      "termino 1 en el alfabeto, termino ASCII 65 : A\n",
      "termino 2 en el alfabeto, termino ASCII 66 : B\n",
      "termino 3 en el alfabeto, termino ASCII 67 : C\n",
      "termino 4 en el alfabeto, termino ASCII 68 : D\n",
      "termino 5 en el alfabeto, termino ASCII 69 : E\n",
      "termino 6 en el alfabeto, termino ASCII 70 : F\n",
      "termino 7 en el alfabeto, termino ASCII 71 : G\n",
      "termino 8 en el alfabeto, termino ASCII 72 : H\n",
      "termino 9 en el alfabeto, termino ASCII 73 : I\n",
      "termino 10 en el alfabeto, termino ASCII 74 : J\n",
      "termino 11 en el alfabeto, termino ASCII 75 : K\n",
      "termino 12 en el alfabeto, termino ASCII 76 : L\n",
      "termino 13 en el alfabeto, termino ASCII 77 : M\n",
      "termino 14 en el alfabeto, termino ASCII 78 : N\n",
      "termino 15 en el alfabeto, termino ASCII 79 : O\n",
      "termino 16 en el alfabeto, termino ASCII 80 : P\n",
      "termino 17 en el alfabeto, termino ASCII 81 : Q\n",
      "termino 18 en el alfabeto, termino ASCII 82 : R\n",
      "termino 19 en el alfabeto, termino ASCII 83 : S\n",
      "termino 20 en el alfabeto, termino ASCII 84 : T\n",
      "termino 21 en el alfabeto, termino ASCII 85 : U\n",
      "termino 22 en el alfabeto, termino ASCII 86 : V\n",
      "termino 23 en el alfabeto, termino ASCII 87 : W\n",
      "termino 24 en el alfabeto, termino ASCII 88 : X\n",
      "termino 25 en el alfabeto, termino ASCII 89 : Y\n",
      "termino 26 en el alfabeto, termino ASCII 90 : Z\n"
     ]
    }
   ],
   "source": [
    "# ASCII\n",
    "i = 65\n",
    "c = 1\n",
    "\n",
    "while i <= 90:\n",
    "    print(\"termino {} en el alfabeto, termino ASCII {} : {}\".format(c,i,chr(i)))\n",
    "    i += 1\n",
    "    c += 1"
   ]
  },
  {
   "cell_type": "markdown",
   "metadata": {},
   "source": [
    "## El bucle `for`\n",
    "La idea del bucle `for` es: para todos los elementos de la clave, seguimos realizando las líneas del bucle. Una vez nos quedemos sin elementos, salimos del bucle.\n",
    "\n",
    "Un ejemplo del uso de un bucle `for` es el de recorrer todos los caracteres de un string:"
   ]
  },
  {
   "cell_type": "code",
   "execution_count": 61,
   "metadata": {},
   "outputs": [
    {
     "name": "stdout",
     "output_type": "stream",
     "text": [
      "Ingrese una oración : Hola Pepe\n",
      "H\n",
      "o\n",
      "l\n",
      "a\n",
      " \n",
      "P\n",
      "e\n",
      "p\n",
      "e\n"
     ]
    }
   ],
   "source": [
    "cad1 = input(\"Ingrese una oración : \")\n",
    "for i in cad1 :\n",
    "    print(i)"
   ]
  },
  {
   "cell_type": "markdown",
   "metadata": {},
   "source": [
    "**Ejercicio**\n",
    "\n",
    "- Vamos a recorrer un string dado con un bucle `for` y lo vamos a devolver impreso del revés."
   ]
  },
  {
   "cell_type": "code",
   "execution_count": 68,
   "metadata": {},
   "outputs": [
    {
     "name": "stdout",
     "output_type": "stream",
     "text": [
      "Ingrese una frase : Hola José\n",
      "H\n",
      "oH\n",
      "loH\n",
      "aloH\n",
      " aloH\n",
      "J aloH\n",
      "oJ aloH\n",
      "soJ aloH\n",
      "ésoJ aloH\n"
     ]
    }
   ],
   "source": [
    "cad1 = input(\"Ingrese una frase : \")\n",
    "cad_inv = \"\"\n",
    "\n",
    "for c in cad1:\n",
    "    cad_inv = c + cad_inv\n",
    "    print(cad_inv)"
   ]
  },
  {
   "cell_type": "markdown",
   "metadata": {},
   "source": [
    "## La función `range`\n",
    "\n",
    "La función `range()` tiene 3 posibles argumentos: \n",
    " \n",
    " - `start`. Número en el cual quieres empezar a contar \n",
    " - `stop`. Número en el cual quieres parar de contar\n",
    " - `step`. Salto\n",
    "\n",
    "Veremos el uso de la función `range()` con un ejemplo. Recuperemos el ejemplo en que queríamos imprimir los 10 primeros números naturales:"
   ]
  },
  {
   "cell_type": "code",
   "execution_count": 72,
   "metadata": {},
   "outputs": [
    {
     "name": "stdout",
     "output_type": "stream",
     "text": [
      "1\n",
      "3\n",
      "5\n",
      "7\n",
      "9\n"
     ]
    }
   ],
   "source": [
    "for i in range(1,11,2):\n",
    "    print(i)"
   ]
  },
  {
   "cell_type": "code",
   "execution_count": 74,
   "metadata": {},
   "outputs": [
    {
     "name": "stdout",
     "output_type": "stream",
     "text": [
      "0\n",
      "1\n",
      "2\n",
      "3\n",
      "4\n"
     ]
    }
   ],
   "source": [
    "for x in range(5):\n",
    "    print(x)"
   ]
  },
  {
   "cell_type": "markdown",
   "metadata": {},
   "source": [
    "**Observación.** Cosas a tener en cuenta cuando usamos la función `range()`:\n",
    "\n",
    "- El elemento indicado en el argumento `stop` nunca se incluye.\n",
    "- Si no indicamos ningún elemento en el argumento `start`, por defecto éste vale 0.\n",
    "- El valor por defecto del argumento `step` es 1.\n",
    "\n",
    "\n",
    "Por lo tanto, obtendríamos el mismo resultado que en el ejemplo anterior ejecutando las siguientes líneas de código:"
   ]
  },
  {
   "cell_type": "code",
   "execution_count": 76,
   "metadata": {},
   "outputs": [
    {
     "name": "stdout",
     "output_type": "stream",
     "text": [
      "1\n",
      "2\n",
      "3\n",
      "4\n",
      "5\n",
      "6\n",
      "7\n",
      "8\n",
      "9\n",
      "10\n"
     ]
    }
   ],
   "source": [
    "for i in range(1, 11):\n",
    "    print(i)"
   ]
  },
  {
   "cell_type": "markdown",
   "metadata": {},
   "source": [
    "¿Y si quisiéramos imprimir los 10 primeros números naturales invirtiendo el orden? Pues, con un bucle `for`, lo haríamos del siguiente modo:"
   ]
  },
  {
   "cell_type": "code",
   "execution_count": 77,
   "metadata": {},
   "outputs": [
    {
     "name": "stdout",
     "output_type": "stream",
     "text": [
      "10\n",
      "9\n",
      "8\n",
      "7\n",
      "6\n",
      "5\n",
      "4\n",
      "3\n",
      "2\n",
      "1\n"
     ]
    }
   ],
   "source": [
    "for i in range(10, 0, -1):\n",
    "    print(i)"
   ]
  },
  {
   "cell_type": "markdown",
   "metadata": {},
   "source": [
    "**Ejercicio**\n",
    "\n",
    "- Con un bucle `for`, dada una [progresión aritmética](https://es.wikipedia.org/wiki/Progresi%C3%B3n_aritm%C3%A9tica) de números enteros indicada por el usuario (nos dará el primer término, la diferencia y la cota), vamos a calcular la suma de los elementos incluyendo la cota. Un ejemplo de progresión aritmética es: 0, 2, 4, 6, 8, ... donde el primer término es 0 y la diferencia entre sus términos es 2."
   ]
  },
  {
   "cell_type": "code",
   "execution_count": 81,
   "metadata": {},
   "outputs": [
    {
     "name": "stdout",
     "output_type": "stream",
     "text": [
      "Ingrese la cota inferior : 2\n",
      "Ingrese la cota superior : 10\n",
      "Ingrese la razón aritmética : 3\n",
      "2\n",
      "5\n",
      "8\n",
      "**************************************************\n",
      "La suma de los términos es :  15\n"
     ]
    }
   ],
   "source": [
    "cot1 = int(input(\"Ingrese la cota inferior : \"))\n",
    "cot2 = int(input(\"Ingrese la cota superior : \"))\n",
    "razon = int(input(\"Ingrese la razón aritmética : \"))\n",
    "s = 0\n",
    "for i in range(cot1,cot2+1,razon):\n",
    "    print(i)\n",
    "    s += i\n",
    "print(\"*\"*50)\n",
    "print(\"La suma de los términos es : \", s)"
   ]
  },
  {
   "cell_type": "markdown",
   "metadata": {},
   "source": [
    "## Comando `continue`\n",
    "\n",
    "El comando `continue` es similar a `break`, pero en vez de salir del bucle, lo que hace es interrumpir la iteración en la que se encuentra y empezar la siguiente iteración.\n",
    "\n"
   ]
  },
  {
   "cell_type": "markdown",
   "metadata": {},
   "source": [
    "**Ejemplo**\n",
    "\n",
    "- Supongamos que queremos que se nos impriman todos los números entre 0 y 50 que no son ni divisibles entre 2 ni entre 5. Pensad cómo podríais resolver este problema en el cual se exige que en algún momento utilicéis el comando `continue`."
   ]
  },
  {
   "cell_type": "code",
   "execution_count": 84,
   "metadata": {},
   "outputs": [
    {
     "name": "stdout",
     "output_type": "stream",
     "text": [
      "1\n",
      "3\n",
      "7\n",
      "9\n",
      "11\n",
      "13\n",
      "17\n",
      "19\n",
      "21\n",
      "23\n",
      "27\n",
      "29\n",
      "31\n",
      "33\n",
      "37\n",
      "39\n",
      "41\n",
      "43\n",
      "47\n",
      "49\n"
     ]
    }
   ],
   "source": [
    "for i in range(51):\n",
    "    if i % 2 == 0 or i % 5 == 0:\n",
    "        continue\n",
    "    print(i)"
   ]
  },
  {
   "cell_type": "markdown",
   "metadata": {},
   "source": [
    "**Ejercicio**\n",
    "\n",
    "- Con un bucle `for`, vamos a recorrer un string dado y vamos a imprimir todas las letras salvo por la letra indicada por el usuario."
   ]
  },
  {
   "cell_type": "code",
   "execution_count": 87,
   "metadata": {},
   "outputs": [
    {
     "name": "stdout",
     "output_type": "stream",
     "text": [
      "Ingrese una frase : hola pepe\n",
      "Ingrese una letra que quieras eliminar de tu frase :  \n",
      "holapepe\n"
     ]
    }
   ],
   "source": [
    "cad1 = input(\"Ingrese una frase : \")\n",
    "let = input(\"Ingrese una letra que quieras eliminar de tu frase : \")\n",
    "cad = \"\"\n",
    "cad1 = cad1.lower()\n",
    "\n",
    "for i in cad1:\n",
    "    if i == let:\n",
    "        continue\n",
    "    cad = cad + i\n",
    "print(cad)"
   ]
  },
  {
   "cell_type": "markdown",
   "metadata": {},
   "source": [
    "**Ejercicio**\n",
    "\n",
    "- Dado un string, con un bucle `for` vamos a imprimirlo sin vocales y vamos a salir del bucle si la letra que indique el usuario aparece más de `n` veces, número que también nos proporcionará el usuario."
   ]
  },
  {
   "cell_type": "code",
   "execution_count": 2,
   "metadata": {},
   "outputs": [
    {
     "name": "stdout",
     "output_type": "stream",
     "text": [
      "Ingrese una frase : hola mama\n",
      "Ingresee una letra : a\n",
      "Ingrese el número máximo que quieres que aparezca esa letra : 2\n",
      "Se ha superado el número de apariciones\n",
      "hl m\n"
     ]
    }
   ],
   "source": [
    "cad1 = input(\"Ingrese una frase : \")\n",
    "let = input(\"Ingresee una letra : \")\n",
    "num = int(input(\"Ingrese el número máximo que quieres que aparezca esa letra : \"))\n",
    "cad = \"\"\n",
    "c = 0\n",
    "let = let.lower()\n",
    "\n",
    "for i in cad1:\n",
    "    if c >= num :\n",
    "        print(\"Se ha superado el número de apariciones\")\n",
    "        break\n",
    "    if i == let:\n",
    "        c += 1\n",
    "    elif i == \"a\" or i == \"e\" or i == \"i\" or i == \"o\" or i == \"u\":\n",
    "        continue\n",
    "    else:\n",
    "        cad = cad + i\n",
    "print(cad)"
   ]
  },
  {
   "cell_type": "markdown",
   "metadata": {},
   "source": [
    "## Bucles anidados"
   ]
  },
  {
   "cell_type": "code",
   "execution_count": 7,
   "metadata": {},
   "outputs": [
    {
     "name": "stdout",
     "output_type": "stream",
     "text": [
      "Tabla de multiplicar del 1\n",
      "1 x 1 = 1\n",
      "1 x 2 = 2\n",
      "1 x 3 = 3\n",
      "1 x 4 = 4\n",
      "1 x 5 = 5\n",
      "1 x 6 = 6\n",
      "1 x 7 = 7\n",
      "1 x 8 = 8\n",
      "1 x 9 = 9\n",
      "1 x 10 = 10\n",
      "Tabla de multiplicar del 2\n",
      "2 x 1 = 2\n",
      "2 x 2 = 4\n",
      "2 x 3 = 6\n",
      "2 x 4 = 8\n",
      "2 x 5 = 10\n",
      "2 x 6 = 12\n",
      "2 x 7 = 14\n",
      "2 x 8 = 16\n",
      "2 x 9 = 18\n",
      "2 x 10 = 20\n",
      "Tabla de multiplicar del 3\n",
      "3 x 1 = 3\n",
      "3 x 2 = 6\n",
      "3 x 3 = 9\n",
      "3 x 4 = 12\n",
      "3 x 5 = 15\n",
      "3 x 6 = 18\n",
      "3 x 7 = 21\n",
      "3 x 8 = 24\n",
      "3 x 9 = 27\n",
      "3 x 10 = 30\n"
     ]
    }
   ],
   "source": [
    "# Tabla de multiplicar\n",
    "\n",
    "for i in range(0,3):\n",
    "    print(\"Tabla de multiplicar del {}\".format(1+i))\n",
    "    for j in range(0,10):\n",
    "        print(\"{} x {} = {}\".format(i+1,j+1,(i+1)*(j+1)))"
   ]
  },
  {
   "cell_type": "code",
   "execution_count": null,
   "metadata": {},
   "outputs": [],
   "source": []
  }
 ],
 "metadata": {
  "kernelspec": {
   "display_name": "Python 3",
   "language": "python",
   "name": "python3"
  },
  "language_info": {
   "codemirror_mode": {
    "name": "ipython",
    "version": 3
   },
   "file_extension": ".py",
   "mimetype": "text/x-python",
   "name": "python",
   "nbconvert_exporter": "python",
   "pygments_lexer": "ipython3",
   "version": "3.7.3"
  }
 },
 "nbformat": 4,
 "nbformat_minor": 2
}
